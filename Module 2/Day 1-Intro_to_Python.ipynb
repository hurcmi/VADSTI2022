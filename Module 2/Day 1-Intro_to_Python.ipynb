{
 "cells": [
  {
   "cell_type": "markdown",
   "id": "98507a27",
   "metadata": {},
   "source": [
    "# Day 1\n",
    " * Installing Working Environment\n",
    "     * Git\n",
    "     * Jupyter Notebook via Anconda\n",
    " * Basic Jupyter Notebook\n",
    "      * Opening Jupyter Notebook\n",
    "      * Adding Cells\n",
    "      * Deleating Cells\n",
    "      * Merging Cells\n",
    "      * Markdown Cell\n",
    "      * Commenting\n",
    " * Data Types\n",
    "     * Numbers\n",
    "     * Strings\n",
    "     * Variable Assignment\n",
    "     * Printing\n",
    "     * Strings methods\n",
    "     * Lists\n",
    "     * Dictionaries\n",
    "     * Boolians\n",
    "     * Tuples\n",
    "     * Sets\n",
    " * Bsic Operations\n",
    "     * Comparison Operators\n",
    "     * if, elif, else ststements\n",
    "     * for loops\n",
    "     * while loops\n",
    "     * range()\n",
    "     * list comprehension\n",
    "     * functions\n",
    "     * lambda expressions\n",
    "     * map and filter\n",
    "    \n",
    "      \n",
    "        \n",
    "        \n"
   ]
  },
  {
   "cell_type": "markdown",
   "id": "1b53f472",
   "metadata": {},
   "source": [
    "# Data Types"
   ]
  },
  {
   "cell_type": "markdown",
   "id": "37c0aa21",
   "metadata": {},
   "source": [
    "## Numbers"
   ]
  },
  {
   "cell_type": "code",
   "execution_count": null,
   "id": "c42725c4",
   "metadata": {},
   "outputs": [],
   "source": [
    "# Adding numbers\n",
    "1+3"
   ]
  },
  {
   "cell_type": "code",
   "execution_count": null,
   "id": "8e5fb9f7",
   "metadata": {},
   "outputs": [],
   "source": [
    "# Multiplying numbers\n",
    "2*3"
   ]
  },
  {
   "cell_type": "code",
   "execution_count": null,
   "id": "ba5b42ea",
   "metadata": {},
   "outputs": [],
   "source": [
    "(1+5)*(3+2)"
   ]
  },
  {
   "cell_type": "code",
   "execution_count": null,
   "id": "e8aa35dc",
   "metadata": {},
   "outputs": [],
   "source": [
    "# Exponentiation\n",
    "3**2"
   ]
  },
  {
   "cell_type": "code",
   "execution_count": null,
   "id": "3903906f",
   "metadata": {},
   "outputs": [],
   "source": [
    "# Modulus\n",
    "10%2"
   ]
  },
  {
   "cell_type": "code",
   "execution_count": null,
   "id": "31cb6eb2",
   "metadata": {},
   "outputs": [],
   "source": [
    "# Modulus\n",
    "21%4"
   ]
  },
  {
   "cell_type": "code",
   "execution_count": null,
   "id": "fe15e4ad",
   "metadata": {},
   "outputs": [],
   "source": [
    "# Division\n",
    "25/4"
   ]
  },
  {
   "cell_type": "code",
   "execution_count": null,
   "id": "f4d53f81",
   "metadata": {},
   "outputs": [],
   "source": [
    "# Integer Division\n",
    "25//4"
   ]
  },
  {
   "cell_type": "code",
   "execution_count": null,
   "id": "266769cd",
   "metadata": {},
   "outputs": [],
   "source": [
    "### Floating-Point Numbers\n",
    "3.14"
   ]
  },
  {
   "cell_type": "code",
   "execution_count": null,
   "id": "f22f6019",
   "metadata": {},
   "outputs": [],
   "source": [
    "type(3.14)"
   ]
  },
  {
   "cell_type": "code",
   "execution_count": null,
   "id": "834bb1b1",
   "metadata": {},
   "outputs": [],
   "source": [
    "type(2.0)"
   ]
  },
  {
   "cell_type": "code",
   "execution_count": null,
   "id": "0479d64f",
   "metadata": {},
   "outputs": [],
   "source": [
    "type(2)"
   ]
  },
  {
   "cell_type": "markdown",
   "id": "a471cc1e",
   "metadata": {},
   "source": [
    "## Strings\n",
    "#### Stings are sequences of alpha charater data. String in Python are calles str. The String should be between single or double quotations"
   ]
  },
  {
   "cell_type": "code",
   "execution_count": null,
   "id": "b10f2615",
   "metadata": {},
   "outputs": [],
   "source": [
    "\"It's a string\""
   ]
  },
  {
   "cell_type": "code",
   "execution_count": null,
   "id": "366ca45b",
   "metadata": {},
   "outputs": [],
   "source": [
    "type(\"It's a string\")"
   ]
  },
  {
   "cell_type": "code",
   "execution_count": null,
   "id": "1b7228fb",
   "metadata": {},
   "outputs": [],
   "source": [
    "type('a')"
   ]
  },
  {
   "cell_type": "code",
   "execution_count": null,
   "id": "5d7f34bf",
   "metadata": {},
   "outputs": [],
   "source": [
    "type('')"
   ]
  },
  {
   "cell_type": "code",
   "execution_count": null,
   "id": "0e1e830f",
   "metadata": {},
   "outputs": [],
   "source": [
    "type('single quates')"
   ]
  },
  {
   "cell_type": "code",
   "execution_count": null,
   "id": "0b3bcb0c",
   "metadata": {},
   "outputs": [],
   "source": [
    "type(\"double quates\")"
   ]
  },
  {
   "cell_type": "markdown",
   "id": "204e5b2f",
   "metadata": {},
   "source": [
    "## Variable Assignment\n",
    "### Variable cannot start with number or special characters"
   ]
  },
  {
   "cell_type": "code",
   "execution_count": null,
   "id": "31f7b9e3",
   "metadata": {},
   "outputs": [],
   "source": [
    "name = 'Moussa'"
   ]
  },
  {
   "cell_type": "code",
   "execution_count": null,
   "id": "03f25845",
   "metadata": {},
   "outputs": [],
   "source": [
    "type(name)"
   ]
  },
  {
   "cell_type": "code",
   "execution_count": null,
   "id": "95b9f6c4",
   "metadata": {},
   "outputs": [],
   "source": [
    "class = 'b'"
   ]
  },
  {
   "cell_type": "code",
   "execution_count": null,
   "id": "32117239",
   "metadata": {
    "scrolled": true
   },
   "outputs": [],
   "source": [
    "123_var = 5"
   ]
  },
  {
   "cell_type": "code",
   "execution_count": null,
   "id": "f73c41c7",
   "metadata": {},
   "outputs": [],
   "source": [
    "var123 = 5"
   ]
  },
  {
   "cell_type": "code",
   "execution_count": null,
   "id": "dd8952e0",
   "metadata": {
    "scrolled": true
   },
   "outputs": [],
   "source": [
    "first name = 'Moussa'"
   ]
  },
  {
   "cell_type": "code",
   "execution_count": null,
   "id": "7f1d4769",
   "metadata": {},
   "outputs": [],
   "source": [
    "first_name = 'Moussa'"
   ]
  },
  {
   "cell_type": "code",
   "execution_count": null,
   "id": "0a1ab5c1",
   "metadata": {},
   "outputs": [],
   "source": [
    "x =1\n",
    "y =4"
   ]
  },
  {
   "cell_type": "code",
   "execution_count": null,
   "id": "f1d52104",
   "metadata": {},
   "outputs": [],
   "source": [
    "z = x+y"
   ]
  },
  {
   "cell_type": "code",
   "execution_count": null,
   "id": "b5236465",
   "metadata": {},
   "outputs": [],
   "source": [
    "z"
   ]
  },
  {
   "cell_type": "markdown",
   "id": "fa0eb632",
   "metadata": {},
   "source": [
    "## Printing"
   ]
  },
  {
   "cell_type": "code",
   "execution_count": null,
   "id": "b0230837",
   "metadata": {},
   "outputs": [],
   "source": [
    "x = 'hello'"
   ]
  },
  {
   "cell_type": "code",
   "execution_count": null,
   "id": "6a97d8dc",
   "metadata": {},
   "outputs": [],
   "source": [
    "x"
   ]
  },
  {
   "cell_type": "code",
   "execution_count": null,
   "id": "3a28adc6",
   "metadata": {},
   "outputs": [],
   "source": [
    "print(x)"
   ]
  },
  {
   "cell_type": "code",
   "execution_count": null,
   "id": "b0118684",
   "metadata": {},
   "outputs": [],
   "source": [
    "name='John'\n",
    "print('Hello '+ 'name'+ ' welcome to VADSTI 2.0')"
   ]
  },
  {
   "cell_type": "code",
   "execution_count": null,
   "id": "b9db577b",
   "metadata": {},
   "outputs": [],
   "source": [
    "num=3\n",
    "name = 'Moussa'"
   ]
  },
  {
   "cell_type": "code",
   "execution_count": null,
   "id": "a1141791",
   "metadata": {},
   "outputs": [],
   "source": [
    "print('My number is: {one}, and my name is: {two}'.format(one=num, two=name))"
   ]
  },
  {
   "cell_type": "markdown",
   "id": "1ebb6956",
   "metadata": {},
   "source": [
    "## String Methods"
   ]
  },
  {
   "cell_type": "code",
   "execution_count": null,
   "id": "316b94eb",
   "metadata": {},
   "outputs": [],
   "source": [
    "name = 'moussa'"
   ]
  },
  {
   "cell_type": "code",
   "execution_count": null,
   "id": "dcdd301d",
   "metadata": {},
   "outputs": [],
   "source": [
    "# Upper()\n",
    "print(name.upper())"
   ]
  },
  {
   "cell_type": "code",
   "execution_count": null,
   "id": "5d0b25ab",
   "metadata": {},
   "outputs": [],
   "source": [
    "# Title()\n",
    "print(name.title())"
   ]
  },
  {
   "cell_type": "code",
   "execution_count": null,
   "id": "adeb9556",
   "metadata": {},
   "outputs": [],
   "source": [
    "last = \"Doumbia\""
   ]
  },
  {
   "cell_type": "code",
   "execution_count": null,
   "id": "f8bad762",
   "metadata": {},
   "outputs": [],
   "source": [
    "# lower()\n",
    "print(last.lower())"
   ]
  },
  {
   "cell_type": "code",
   "execution_count": null,
   "id": "7b00c431",
   "metadata": {},
   "outputs": [],
   "source": [
    "print(last.casefold())"
   ]
  },
  {
   "cell_type": "code",
   "execution_count": null,
   "id": "5d766fc8",
   "metadata": {},
   "outputs": [],
   "source": [
    "text = 'I am learning Python'"
   ]
  },
  {
   "cell_type": "code",
   "execution_count": null,
   "id": "2d793af6",
   "metadata": {},
   "outputs": [],
   "source": [
    "# Center: Print the text, taking up the 60 characters with text in the middle\n",
    "print(text.center(60))"
   ]
  },
  {
   "cell_type": "code",
   "execution_count": null,
   "id": "aca3e432",
   "metadata": {},
   "outputs": [],
   "source": [
    "# Count\n",
    "print(name.count('s'))"
   ]
  },
  {
   "cell_type": "code",
   "execution_count": null,
   "id": "eb4f433f",
   "metadata": {},
   "outputs": [],
   "source": [
    "print(text.endswith('n'))"
   ]
  },
  {
   "cell_type": "code",
   "execution_count": null,
   "id": "19c651ee",
   "metadata": {},
   "outputs": [],
   "source": [
    "print(text.endswith('p'))"
   ]
  },
  {
   "cell_type": "code",
   "execution_count": null,
   "id": "7f69e0fc",
   "metadata": {},
   "outputs": [],
   "source": [
    "# Placeholders {}\n",
    "x='World'\n",
    "y = 'Moussa Doumbia'"
   ]
  },
  {
   "cell_type": "code",
   "execution_count": null,
   "id": "6f98034f",
   "metadata": {},
   "outputs": [],
   "source": [
    "print('Hello {}!, My name is {}'.format(x,y))"
   ]
  },
  {
   "cell_type": "code",
   "execution_count": null,
   "id": "b9bf1351",
   "metadata": {},
   "outputs": [],
   "source": [
    "num = '1234'"
   ]
  },
  {
   "cell_type": "code",
   "execution_count": null,
   "id": "23731720",
   "metadata": {},
   "outputs": [],
   "source": [
    "# isnumeric()\n",
    "print(num.isnumeric())"
   ]
  },
  {
   "cell_type": "code",
   "execution_count": null,
   "id": "2be4c519",
   "metadata": {},
   "outputs": [],
   "source": [
    "# Strip\n",
    "s = '     space   '"
   ]
  },
  {
   "cell_type": "code",
   "execution_count": null,
   "id": "29255e63",
   "metadata": {},
   "outputs": [],
   "source": [
    "len(s)"
   ]
  },
  {
   "cell_type": "code",
   "execution_count": null,
   "id": "ce215792",
   "metadata": {},
   "outputs": [],
   "source": [
    "s1 = s.strip()\n",
    "len(s1)"
   ]
  },
  {
   "cell_type": "code",
   "execution_count": null,
   "id": "c494249a",
   "metadata": {},
   "outputs": [],
   "source": [
    "left = s.lstrip()\n",
    "len(left)"
   ]
  },
  {
   "cell_type": "code",
   "execution_count": null,
   "id": "bfa7831a",
   "metadata": {},
   "outputs": [],
   "source": [
    "right = s.rstrip()\n",
    "len(right)"
   ]
  },
  {
   "cell_type": "markdown",
   "id": "791c961e",
   "metadata": {},
   "source": [
    "## List\n",
    "#### Lists are used to store multiple items in a single variable. They are created using square brackets"
   ]
  },
  {
   "cell_type": "code",
   "execution_count": null,
   "id": "cab911aa",
   "metadata": {},
   "outputs": [],
   "source": [
    "a_list = ['Data','plus','progamming','plus','statistics and linear algebra','equal', 'data science']"
   ]
  },
  {
   "cell_type": "code",
   "execution_count": null,
   "id": "02f6e2bf",
   "metadata": {},
   "outputs": [],
   "source": [
    "print(a_list)"
   ]
  },
  {
   "cell_type": "markdown",
   "id": "a4ffe2f0",
   "metadata": {},
   "source": [
    "## Access List elements"
   ]
  },
  {
   "cell_type": "code",
   "execution_count": 66,
   "id": "9ed92d17",
   "metadata": {},
   "outputs": [],
   "source": [
    "my_list = [ 'C', 'C++', 'Java','JavaScript','Python', 'Ruby','SQL', 'Swift']"
   ]
  },
  {
   "cell_type": "code",
   "execution_count": 67,
   "id": "b14fadef",
   "metadata": {},
   "outputs": [
    {
     "data": {
      "text/plain": [
       "'C'"
      ]
     },
     "execution_count": 67,
     "metadata": {},
     "output_type": "execute_result"
    }
   ],
   "source": [
    "my_list[0]"
   ]
  },
  {
   "cell_type": "code",
   "execution_count": 68,
   "id": "2667fcc3",
   "metadata": {},
   "outputs": [
    {
     "data": {
      "text/plain": [
       "['Java', 'JavaScript']"
      ]
     },
     "execution_count": 68,
     "metadata": {},
     "output_type": "execute_result"
    }
   ],
   "source": [
    "my_list[2:4]"
   ]
  },
  {
   "cell_type": "code",
   "execution_count": 69,
   "id": "10d28f45",
   "metadata": {},
   "outputs": [],
   "source": [
    "## Change list elements\n",
    "my_list[-1] ='Pascal'"
   ]
  },
  {
   "cell_type": "code",
   "execution_count": 70,
   "id": "eb6cd743",
   "metadata": {},
   "outputs": [
    {
     "data": {
      "text/plain": [
       "['C', 'C++', 'Java', 'JavaScript', 'Python', 'Ruby', 'SQL', 'Pascal']"
      ]
     },
     "execution_count": 70,
     "metadata": {},
     "output_type": "execute_result"
    }
   ],
   "source": [
    "my_list"
   ]
  },
  {
   "cell_type": "code",
   "execution_count": 71,
   "id": "07232863",
   "metadata": {},
   "outputs": [],
   "source": [
    "## Add element to an list\n",
    "my_list.append('Swift')"
   ]
  },
  {
   "cell_type": "code",
   "execution_count": 72,
   "id": "99a424f4",
   "metadata": {},
   "outputs": [
    {
     "data": {
      "text/plain": [
       "['C', 'C++', 'Java', 'JavaScript', 'Python', 'Ruby', 'SQL', 'Pascal', 'Swift']"
      ]
     },
     "execution_count": 72,
     "metadata": {},
     "output_type": "execute_result"
    }
   ],
   "source": [
    "my_list"
   ]
  },
  {
   "cell_type": "code",
   "execution_count": 73,
   "id": "00a653e9",
   "metadata": {},
   "outputs": [
    {
     "data": {
      "text/plain": [
       "['C', 'C++', 'Java', 'JavaScript', 'Python', 'Ruby', 'SQL', 'Swift']"
      ]
     },
     "execution_count": 73,
     "metadata": {},
     "output_type": "execute_result"
    }
   ],
   "source": [
    "## Remove element from a list\n",
    "my_list.remove('Pascal')\n",
    "my_list"
   ]
  },
  {
   "cell_type": "code",
   "execution_count": 74,
   "id": "ec598332",
   "metadata": {},
   "outputs": [
    {
     "data": {
      "text/plain": [
       "['C', 'C++', 'JavaScript', 'Python', 'Ruby', 'SQL', 'Swift']"
      ]
     },
     "execution_count": 74,
     "metadata": {},
     "output_type": "execute_result"
    }
   ],
   "source": [
    "## Rmove using index of a list item\n",
    "my_list.pop(2)\n",
    "my_list"
   ]
  },
  {
   "cell_type": "code",
   "execution_count": 79,
   "id": "eeda1eda",
   "metadata": {},
   "outputs": [
    {
     "data": {
      "text/plain": [
       "['VB', 'C++', 'JavaScript', 'Python', 'Ruby', 'SQL', 'Swift']"
      ]
     },
     "execution_count": 79,
     "metadata": {},
     "output_type": "execute_result"
    }
   ],
   "source": [
    "my_list[0] = 'VB'\n",
    "my_list"
   ]
  },
  {
   "cell_type": "code",
   "execution_count": 75,
   "id": "3c3b3299",
   "metadata": {},
   "outputs": [],
   "source": [
    "## Sort a list\n",
    "a_list = ['Howard','Morgan', 'Hampton', 'Morehouse','Clark','Alcorn','Spelman','Bowie']"
   ]
  },
  {
   "cell_type": "code",
   "execution_count": 76,
   "id": "044d000c",
   "metadata": {},
   "outputs": [],
   "source": [
    "a_list.sort()\n"
   ]
  },
  {
   "cell_type": "code",
   "execution_count": 77,
   "id": "d9ef49af",
   "metadata": {},
   "outputs": [],
   "source": [
    "## Copy a list\n",
    "b_list = a_list.copy()\n"
   ]
  },
  {
   "cell_type": "code",
   "execution_count": 78,
   "id": "d0f20183",
   "metadata": {},
   "outputs": [
    {
     "data": {
      "text/plain": [
       "['Alcorn',\n",
       " 'Bowie',\n",
       " 'Clark',\n",
       " 'Hampton',\n",
       " 'Howard',\n",
       " 'Morehouse',\n",
       " 'Morgan',\n",
       " 'Spelman']"
      ]
     },
     "execution_count": 78,
     "metadata": {},
     "output_type": "execute_result"
    }
   ],
   "source": [
    "b_list"
   ]
  },
  {
   "cell_type": "code",
   "execution_count": null,
   "id": "0d8c84f4",
   "metadata": {},
   "outputs": [],
   "source": [
    "## Join Lists\n",
    "print(my_list+a_list)"
   ]
  },
  {
   "cell_type": "code",
   "execution_count": null,
   "id": "d5b40bd8",
   "metadata": {},
   "outputs": [],
   "source": []
  },
  {
   "cell_type": "markdown",
   "id": "5ede0dd1",
   "metadata": {},
   "source": [
    "## Dictionanies\n",
    "#### Dictionaies are used to store key:value pairs separated by commat inside curly brackets {}"
   ]
  },
  {
   "cell_type": "code",
   "execution_count": null,
   "id": "63e1781e",
   "metadata": {},
   "outputs": [],
   "source": [
    "d = {'key1':'value1', 'key2':'value2', 'key2':'0'}"
   ]
  },
  {
   "cell_type": "code",
   "execution_count": null,
   "id": "22da2c40",
   "metadata": {},
   "outputs": [],
   "source": [
    "cars_dict = {'make':'Toyota','model':'Land Cruisser', 'year':'2022', 'mileage':'150'}"
   ]
  },
  {
   "cell_type": "code",
   "execution_count": null,
   "id": "1a48c767",
   "metadata": {},
   "outputs": [],
   "source": [
    "cars_dict['make']"
   ]
  },
  {
   "cell_type": "code",
   "execution_count": null,
   "id": "6177e8cd",
   "metadata": {},
   "outputs": [],
   "source": [
    "## Change item in a dictionary\n",
    "cars_dict['year'] = 2021"
   ]
  },
  {
   "cell_type": "code",
   "execution_count": null,
   "id": "a7d5df4c",
   "metadata": {},
   "outputs": [],
   "source": [
    "cars_dict"
   ]
  },
  {
   "cell_type": "code",
   "execution_count": null,
   "id": "30255721",
   "metadata": {},
   "outputs": [],
   "source": [
    "## Adding item\n",
    "cars_dict['color'] = 'black'"
   ]
  },
  {
   "cell_type": "code",
   "execution_count": null,
   "id": "b47a3460",
   "metadata": {},
   "outputs": [],
   "source": [
    "print(cars_dict)"
   ]
  },
  {
   "cell_type": "code",
   "execution_count": null,
   "id": "c6f876d9",
   "metadata": {},
   "outputs": [],
   "source": [
    "## Remove items\n",
    "cars_dict.pop('color')\n"
   ]
  },
  {
   "cell_type": "code",
   "execution_count": null,
   "id": "c44cffc6",
   "metadata": {},
   "outputs": [],
   "source": [
    "cars_dict"
   ]
  },
  {
   "cell_type": "code",
   "execution_count": null,
   "id": "45043bf2",
   "metadata": {},
   "outputs": [],
   "source": [
    "## Copy dictionary\n",
    "cars = cars_dict.copy()\n",
    "cars"
   ]
  },
  {
   "cell_type": "markdown",
   "id": "e144a235",
   "metadata": {},
   "source": [
    "## Booleans\n",
    "#### We you compare two or more values in Python, the expression is evaluated and Python returns the Boolian as the answer"
   ]
  },
  {
   "cell_type": "code",
   "execution_count": null,
   "id": "d9770b5a",
   "metadata": {},
   "outputs": [],
   "source": [
    "10 >3"
   ]
  },
  {
   "cell_type": "code",
   "execution_count": null,
   "id": "f8a9f645",
   "metadata": {},
   "outputs": [],
   "source": [
    "print((10>3)|(1>5)) # or operator"
   ]
  },
  {
   "cell_type": "code",
   "execution_count": null,
   "id": "f8b8e109",
   "metadata": {},
   "outputs": [],
   "source": [
    "print((10>3)&(1>5)) # and operator"
   ]
  },
  {
   "cell_type": "markdown",
   "id": "63585f9e",
   "metadata": {},
   "source": [
    "## Tuples\n",
    "#### Tuples are unmutable"
   ]
  },
  {
   "cell_type": "code",
   "execution_count": null,
   "id": "b6f17b8b",
   "metadata": {},
   "outputs": [],
   "source": [
    "my_tuple = ('user_id', 'password','secret_question')"
   ]
  },
  {
   "cell_type": "code",
   "execution_count": null,
   "id": "91274992",
   "metadata": {},
   "outputs": [],
   "source": [
    "a,b,c=my_tuple"
   ]
  },
  {
   "cell_type": "code",
   "execution_count": null,
   "id": "705b0068",
   "metadata": {},
   "outputs": [],
   "source": [
    "a"
   ]
  },
  {
   "cell_type": "code",
   "execution_count": null,
   "id": "5752f7e7",
   "metadata": {},
   "outputs": [],
   "source": [
    "my_tuple[0]"
   ]
  },
  {
   "cell_type": "code",
   "execution_count": null,
   "id": "b9109b60",
   "metadata": {},
   "outputs": [],
   "source": [
    "my_tuple[0]='user_name'"
   ]
  },
  {
   "cell_type": "code",
   "execution_count": null,
   "id": "5b7225fb",
   "metadata": {},
   "outputs": [],
   "source": [
    "legumes = ('pineaple','strawberry','blackberry','cucomber','slad')"
   ]
  },
  {
   "cell_type": "code",
   "execution_count": null,
   "id": "4d5f5d0d",
   "metadata": {},
   "outputs": [],
   "source": [
    "(one, *two, three) = legumes"
   ]
  },
  {
   "cell_type": "code",
   "execution_count": null,
   "id": "c4c258dd",
   "metadata": {},
   "outputs": [],
   "source": [
    "print(two)"
   ]
  },
  {
   "cell_type": "code",
   "execution_count": null,
   "id": "f1e23c37",
   "metadata": {},
   "outputs": [],
   "source": [
    "print(three)"
   ]
  },
  {
   "cell_type": "code",
   "execution_count": null,
   "id": "a680a9ac",
   "metadata": {},
   "outputs": [],
   "source": [
    "print(one)"
   ]
  },
  {
   "cell_type": "markdown",
   "id": "3be85276",
   "metadata": {},
   "source": [
    "## Sets"
   ]
  },
  {
   "cell_type": "code",
   "execution_count": null,
   "id": "59c88540",
   "metadata": {},
   "outputs": [],
   "source": [
    "S = {1,2,2,2,2,3,3,4,5,6,6,7,8,9}"
   ]
  },
  {
   "cell_type": "code",
   "execution_count": null,
   "id": "7442ee76",
   "metadata": {},
   "outputs": [],
   "source": [
    "S"
   ]
  },
  {
   "cell_type": "code",
   "execution_count": null,
   "id": "8bdf514b",
   "metadata": {},
   "outputs": [],
   "source": [
    "a_set={1,2,'hello','hello','True','True','False','False','False'}"
   ]
  },
  {
   "cell_type": "code",
   "execution_count": null,
   "id": "df74f979",
   "metadata": {},
   "outputs": [],
   "source": [
    "a_set"
   ]
  },
  {
   "cell_type": "code",
   "execution_count": null,
   "id": "679df9be",
   "metadata": {},
   "outputs": [],
   "source": [
    "even_set = set((2,4,6,8)) ## Double parenthesis"
   ]
  },
  {
   "cell_type": "code",
   "execution_count": null,
   "id": "8faa73b4",
   "metadata": {},
   "outputs": [],
   "source": [
    "even_set"
   ]
  },
  {
   "cell_type": "markdown",
   "id": "4d456177",
   "metadata": {},
   "source": [
    "## Basic Operations"
   ]
  },
  {
   "cell_type": "markdown",
   "id": "d872eb50",
   "metadata": {},
   "source": [
    "* Comparison"
   ]
  },
  {
   "cell_type": "code",
   "execution_count": null,
   "id": "444bfe88",
   "metadata": {},
   "outputs": [],
   "source": [
    "1 >3"
   ]
  },
  {
   "cell_type": "code",
   "execution_count": null,
   "id": "70ffe86c",
   "metadata": {},
   "outputs": [],
   "source": [
    "5>=5"
   ]
  },
  {
   "cell_type": "code",
   "execution_count": null,
   "id": "a07696b1",
   "metadata": {},
   "outputs": [],
   "source": [
    "1 == 1"
   ]
  },
  {
   "cell_type": "code",
   "execution_count": null,
   "id": "38561ba8",
   "metadata": {},
   "outputs": [],
   "source": [
    "'Hi' == 'Bye'"
   ]
  },
  {
   "cell_type": "markdown",
   "id": "b97cc7a6",
   "metadata": {},
   "source": [
    "* Logical Operators"
   ]
  },
  {
   "cell_type": "code",
   "execution_count": null,
   "id": "ba11bb43",
   "metadata": {},
   "outputs": [],
   "source": [
    "(1>3) or (7>4)"
   ]
  },
  {
   "cell_type": "code",
   "execution_count": null,
   "id": "486166a7",
   "metadata": {},
   "outputs": [],
   "source": [
    "(1>3) | (7>4)"
   ]
  },
  {
   "cell_type": "code",
   "execution_count": null,
   "id": "79d7461f",
   "metadata": {},
   "outputs": [],
   "source": [
    "(1>3) and (7>4)"
   ]
  },
  {
   "cell_type": "markdown",
   "id": "da80921a",
   "metadata": {},
   "source": [
    "## if, elif, else statements"
   ]
  },
  {
   "cell_type": "markdown",
   "id": "31be5804",
   "metadata": {},
   "source": [
    "* if statements"
   ]
  },
  {
   "cell_type": "code",
   "execution_count": null,
   "id": "971fd84a",
   "metadata": {},
   "outputs": [],
   "source": [
    "if True == False:\n",
    "    print('Yep!')"
   ]
  },
  {
   "cell_type": "code",
   "execution_count": null,
   "id": "449de71f",
   "metadata": {},
   "outputs": [],
   "source": [
    "if True:\n",
    "    print('Yep!')"
   ]
  },
  {
   "cell_type": "code",
   "execution_count": null,
   "id": "80658d1a",
   "metadata": {},
   "outputs": [],
   "source": [
    "if 2<=5:\n",
    "    print('Yep!')"
   ]
  },
  {
   "cell_type": "markdown",
   "id": "05ea23f4",
   "metadata": {},
   "source": [
    "## Input"
   ]
  },
  {
   "cell_type": "code",
   "execution_count": null,
   "id": "0744508e",
   "metadata": {},
   "outputs": [],
   "source": [
    "a_string = input('What is your name? ')\n"
   ]
  },
  {
   "cell_type": "code",
   "execution_count": null,
   "id": "b58529e0",
   "metadata": {},
   "outputs": [],
   "source": [
    "print('Welcome', a_string,'!')"
   ]
  },
  {
   "cell_type": "code",
   "execution_count": null,
   "id": "9e71e8dd",
   "metadata": {},
   "outputs": [],
   "source": [
    "num = int(input('Enter your ticket number '))\n",
    "print('The seat for ticket', num, 'is at the front')"
   ]
  },
  {
   "cell_type": "markdown",
   "id": "16e6c503",
   "metadata": {},
   "source": [
    "* elif statements"
   ]
  },
  {
   "cell_type": "code",
   "execution_count": 62,
   "id": "ee7d4ec7",
   "metadata": {},
   "outputs": [],
   "source": [
    "emp_names = ['John','Josh','Mia','Nia',\"David\"]"
   ]
  },
  {
   "cell_type": "code",
   "execution_count": 63,
   "id": "d21a1283",
   "metadata": {},
   "outputs": [],
   "source": [
    "name = 'Jones'"
   ]
  },
  {
   "cell_type": "code",
   "execution_count": 64,
   "id": "f6588b44",
   "metadata": {},
   "outputs": [
    {
     "name": "stdout",
     "output_type": "stream",
     "text": [
      "Not an employee\n"
     ]
    }
   ],
   "source": [
    "if name == 'John' or name == 'Josh' or name == 'Mia' or name =='Nia' or name == 'David':\n",
    "    print('Employee')\n",
    "else:\n",
    "    print('Not an employee')"
   ]
  },
  {
   "cell_type": "code",
   "execution_count": 65,
   "id": "c29f5d0d",
   "metadata": {},
   "outputs": [
    {
     "name": "stdout",
     "output_type": "stream",
     "text": [
      "Not an employee\n"
     ]
    }
   ],
   "source": [
    "# Best way\n",
    "if name in emp_names:\n",
    "    print(\"Employee\")\n",
    "else:\n",
    "    print('Not an employee')"
   ]
  },
  {
   "cell_type": "code",
   "execution_count": null,
   "id": "4b203406",
   "metadata": {},
   "outputs": [],
   "source": [
    "n1 = input('Enter a real number ')\n",
    "n2 = input('Enter another real number ')\n",
    "m = n1 if n1>n2 else n2\n",
    "print('The maximum of the two numbers are:', m)"
   ]
  },
  {
   "cell_type": "code",
   "execution_count": null,
   "id": "a7fd3ed8",
   "metadata": {},
   "outputs": [],
   "source": [
    "# Maximum of two numbers\n",
    "n1 = input('Enter a real number ')\n",
    "n2 = input('Enter another real number ')\n",
    "if n1>n2:\n",
    "    m = n1\n",
    "else:\n",
    "    m = n2\n",
    "print('The maximum of the two numbers are:', m)"
   ]
  },
  {
   "cell_type": "code",
   "execution_count": null,
   "id": "6ab9249c",
   "metadata": {},
   "outputs": [],
   "source": [
    "# Factorial of a number\n",
    "n = int(input('Enter a positive integer: '))\n",
    "p = 1\n",
    "i = 1\n",
    "while i <= n:\n",
    "    p *= i\n",
    "    i += 1\n",
    "print('The factorial of ', n, 'is', p)"
   ]
  },
  {
   "cell_type": "markdown",
   "id": "39803e17",
   "metadata": {},
   "source": [
    "* else statements"
   ]
  },
  {
   "cell_type": "code",
   "execution_count": null,
   "id": "ad941cb8",
   "metadata": {},
   "outputs": [],
   "source": [
    "max = 0\n",
    "num1 = float(input('Please enter first number: '))\n",
    "num2 = float(input('Please enter second number: '))\n",
    "num3 = float(input('Please enter third number: '))\n",
    "if (num1 > num2) and (num1 > num3):\n",
    "    max = num1\n",
    "    print('You are in the if-block')\n",
    "elif (num2 > num1) and (num2 > num3):\n",
    "    print('You are in elif-block')\n",
    "    max = num2\n",
    "else:\n",
    "    print('You are in the else block')\n",
    "    max = num3\n",
    "print('The maximum is ',max)\n",
    "print('Thank you!')"
   ]
  },
  {
   "cell_type": "markdown",
   "id": "0f40ebe8",
   "metadata": {},
   "source": [
    "## For Loops"
   ]
  },
  {
   "cell_type": "code",
   "execution_count": null,
   "id": "828eb7a8",
   "metadata": {},
   "outputs": [],
   "source": [
    "seq = [1,2,3,4,5,6,7,8,9]\n",
    "for num in seq:\n",
    "    print(num*num)"
   ]
  },
  {
   "cell_type": "code",
   "execution_count": null,
   "id": "854d3e02",
   "metadata": {},
   "outputs": [],
   "source": [
    "for i in range(1,10,1):\n",
    "    print(('*'*i).center(0))"
   ]
  },
  {
   "cell_type": "code",
   "execution_count": null,
   "id": "01124a32",
   "metadata": {},
   "outputs": [],
   "source": [
    "for num in seq:\n",
    "    print(('Hi'*num).center(80))"
   ]
  },
  {
   "cell_type": "code",
   "execution_count": null,
   "id": "c095299a",
   "metadata": {},
   "outputs": [],
   "source": [
    "for idx, lang in enumerate(my_list):\n",
    "    print('Index of {} is {}'.format(lang, idx))"
   ]
  },
  {
   "cell_type": "code",
   "execution_count": null,
   "id": "3aa3b301",
   "metadata": {},
   "outputs": [],
   "source": [
    "name_gpa = {'Jon':4.0,'Malik':3.8,'Bertrum':3.1,'Sean':3.6,'Jennifer':3.9,'Alexa':3.5,'Ralph':3.2}"
   ]
  },
  {
   "cell_type": "code",
   "execution_count": null,
   "id": "0a69bb87",
   "metadata": {},
   "outputs": [],
   "source": [
    "name_list = []\n",
    "for name, gpa in name_gpa.items():\n",
    "    if gpa>=3.5:\n",
    "        name_list.append(name)\n",
    "print(name_list)\n",
    "        "
   ]
  },
  {
   "cell_type": "code",
   "execution_count": null,
   "id": "3c751205",
   "metadata": {},
   "outputs": [],
   "source": [
    "m_string = 'ABC'\n",
    "for i in m_string:\n",
    "        for j in m_string:\n",
    "            if i != j:\n",
    "                for k in m_string:\n",
    "                    if i!=j and j !=k:\n",
    "                        print(i,j,k)"
   ]
  },
  {
   "cell_type": "markdown",
   "id": "d11be2b7",
   "metadata": {},
   "source": [
    "## WHile Loop"
   ]
  },
  {
   "cell_type": "code",
   "execution_count": null,
   "id": "88056b6b",
   "metadata": {},
   "outputs": [],
   "source": [
    "i=1\n",
    "while i <=10:\n",
    "    print('Hello World!')\n",
    "    i = i+1\n",
    "print('Out of while loop')\n",
    "print('When value of i is: ', i)"
   ]
  },
  {
   "cell_type": "code",
   "execution_count": null,
   "id": "f19ac2a0",
   "metadata": {},
   "outputs": [],
   "source": [
    "n = int(input(\"Enter a number: \"))\n",
    "print('Factors of ', n, 'are',1, end=',')\n",
    "i=2\n",
    "count = 2\n",
    "while i <= n//2:\n",
    "    if n%i == 0:\n",
    "        print(i, end=',')\n",
    "#         sum = sum+i\n",
    "#         count += 1\n",
    "    i += 1\n",
    "print(n)\n",
    "# print('Sum of the factors of ',n, 'is', sum)\n",
    "# print('The number of factors of',n, 'is', count)"
   ]
  },
  {
   "cell_type": "code",
   "execution_count": null,
   "id": "0e6c39e9",
   "metadata": {},
   "outputs": [],
   "source": [
    "n = int(input(\"Enter a number: \"))\n",
    "print('Factors of ', n, 'are', 1, end=' ')\n",
    "i=2\n",
    "sum = 1+n\n",
    "while i <= n//2:\n",
    "    if n%i == 0:\n",
    "        print(i, end=' ')\n",
    "    i += 1\n",
    "print(n)\n",
    "# print('Sum of the factors of ',n, 'is', sum)\n",
    "# print('The number of factors of',n, 'is', count)"
   ]
  },
  {
   "cell_type": "markdown",
   "id": "8016b556",
   "metadata": {},
   "source": [
    "## List Comprehension"
   ]
  },
  {
   "cell_type": "markdown",
   "id": "5c4b5742",
   "metadata": {},
   "source": [
    "Let considere the following for loop"
   ]
  },
  {
   "cell_type": "code",
   "execution_count": 2,
   "id": "d8e9220c",
   "metadata": {},
   "outputs": [
    {
     "name": "stdout",
     "output_type": "stream",
     "text": [
      "1\n",
      "4\n",
      "9\n",
      "16\n",
      "25\n",
      "36\n",
      "49\n",
      "64\n",
      "81\n"
     ]
    }
   ],
   "source": [
    "seq = [1,2,3,4,5,6,7,8,9]\n",
    "for i in seq:\n",
    "    print(i**2)"
   ]
  },
  {
   "cell_type": "code",
   "execution_count": 4,
   "id": "2810e351",
   "metadata": {},
   "outputs": [
    {
     "name": "stdout",
     "output_type": "stream",
     "text": [
      "[1, 4, 9, 16, 25, 36, 49, 64, 81]\n"
     ]
    }
   ],
   "source": [
    "sqr_list = []\n",
    "for i in seq:\n",
    "    sqr_list.append(i**2)\n",
    "print(sqr_list)"
   ]
  },
  {
   "cell_type": "code",
   "execution_count": 5,
   "id": "ae5aa2bc",
   "metadata": {},
   "outputs": [
    {
     "data": {
      "text/plain": [
       "[1, 4, 9, 16, 25, 36, 49, 64, 81]"
      ]
     },
     "execution_count": 5,
     "metadata": {},
     "output_type": "execute_result"
    }
   ],
   "source": [
    "# List comprehension method\n",
    "[i**2 for i in seq]"
   ]
  },
  {
   "cell_type": "markdown",
   "id": "b2ef8b2f",
   "metadata": {},
   "source": [
    "## Saving Memory with Generator, using list comprehension"
   ]
  },
  {
   "cell_type": "code",
   "execution_count": 48,
   "id": "b688e12b",
   "metadata": {},
   "outputs": [],
   "source": [
    "import sys"
   ]
  },
  {
   "cell_type": "code",
   "execution_count": 53,
   "id": "6567e28a",
   "metadata": {},
   "outputs": [
    {
     "name": "stdout",
     "output_type": "stream",
     "text": [
      "824456 bites\n"
     ]
    }
   ],
   "source": [
    "a_list = [i**2 for i in range(100000)]\n",
    "print(sys.getsizeof(a_list),'bites')"
   ]
  },
  {
   "cell_type": "code",
   "execution_count": 56,
   "id": "80d684fa",
   "metadata": {},
   "outputs": [
    {
     "data": {
      "text/plain": [
       "[0, 1, 4, 9]"
      ]
     },
     "execution_count": 56,
     "metadata": {},
     "output_type": "execute_result"
    }
   ],
   "source": [
    "a_list[0:4]"
   ]
  },
  {
   "cell_type": "code",
   "execution_count": 50,
   "id": "9222ec55",
   "metadata": {},
   "outputs": [
    {
     "name": "stdout",
     "output_type": "stream",
     "text": [
      "112 bites\n"
     ]
    }
   ],
   "source": [
    "a_gen = (i**2 for i in range(100000))\n",
    "print(sys.getsizeof(a_gen),'bites')"
   ]
  },
  {
   "cell_type": "code",
   "execution_count": 6,
   "id": "4ec8bdc8",
   "metadata": {},
   "outputs": [],
   "source": [
    "def my_function(param='default'):\n",
    "    '''\n",
    "    The role of the function goes here\n",
    "    '''\n",
    "    print(param)"
   ]
  },
  {
   "cell_type": "code",
   "execution_count": null,
   "id": "0948c6c4",
   "metadata": {},
   "outputs": [],
   "source": []
  },
  {
   "cell_type": "code",
   "execution_count": null,
   "id": "339583b6",
   "metadata": {},
   "outputs": [],
   "source": []
  },
  {
   "cell_type": "code",
   "execution_count": 7,
   "id": "084599a7",
   "metadata": {},
   "outputs": [
    {
     "data": {
      "text/plain": [
       "<function __main__.my_function(param='default')>"
      ]
     },
     "execution_count": 7,
     "metadata": {},
     "output_type": "execute_result"
    }
   ],
   "source": [
    "my_function"
   ]
  },
  {
   "cell_type": "code",
   "execution_count": 8,
   "id": "ebb81055",
   "metadata": {},
   "outputs": [
    {
     "name": "stdout",
     "output_type": "stream",
     "text": [
      "default\n"
     ]
    }
   ],
   "source": [
    "my_function()"
   ]
  },
  {
   "cell_type": "code",
   "execution_count": 9,
   "id": "3d207bd8",
   "metadata": {},
   "outputs": [
    {
     "name": "stdout",
     "output_type": "stream",
     "text": [
      "Hello!\n"
     ]
    }
   ],
   "source": [
    "my_function('Hello!')"
   ]
  },
  {
   "cell_type": "code",
   "execution_count": 42,
   "id": "c09493ee",
   "metadata": {},
   "outputs": [],
   "source": [
    "def sec_funct(mystring):\n",
    "    if len(mystring) % 2 == 0:\n",
    "        return 'even'\n",
    "    else:\n",
    "        return mystring[0]"
   ]
  },
  {
   "cell_type": "code",
   "execution_count": 43,
   "id": "91686fbb",
   "metadata": {},
   "outputs": [
    {
     "data": {
      "text/plain": [
       "'M'"
      ]
     },
     "execution_count": 43,
     "metadata": {},
     "output_type": "execute_result"
    }
   ],
   "source": [
    "sec_funct('Mia')"
   ]
  },
  {
   "cell_type": "markdown",
   "id": "60efde98",
   "metadata": {},
   "source": [
    "## Loval Variable"
   ]
  },
  {
   "cell_type": "markdown",
   "id": "8121a249",
   "metadata": {},
   "source": [
    "When you declare variables inside a function definition, they are not related in any way to other variables with the same names used outside the function - i.e. variable names are local to the function. This is called the scope of the variable. All variables have the scope of the block they are declared in starting from the point of definition of the name.\n",
    "\n",
    "Example:"
   ]
  },
  {
   "cell_type": "code",
   "execution_count": 24,
   "id": "d3c67efd",
   "metadata": {},
   "outputs": [
    {
     "name": "stdout",
     "output_type": "stream",
     "text": [
      "x is  3\n",
      "Changed local x to  43\n",
      "x is still  3\n"
     ]
    }
   ],
   "source": [
    "x = 3\n",
    "def func(x):\n",
    "    print('x is ', x)\n",
    "    x = 43\n",
    "    print('Changed local x to ', x)\n",
    "func(x)\n",
    "print('x is still ', x)"
   ]
  },
  {
   "cell_type": "markdown",
   "id": "b4311b81",
   "metadata": {},
   "source": [
    "## The global statement\n",
    "If you want to assign a value to a name defined at the top level of the program (i.e. not inside any kind of scope such as functions or classes), then you have to tell Python that the name is not local, but it is global. We do this using the global statement. It is impossible to assign a value to a variable defined outside a function without the global statement.\n",
    "\n",
    "You can use the values of such variables defined outside the function (assuming there is no variable with the same name within the function). However, this is not encouraged and should be avoided since it becomes unclear to the reader of the program as to where that variable’s definition is. Using the global statement makes it amply clear that the variable is defined in an outermost block.\n",
    "\n",
    "Example:"
   ]
  },
  {
   "cell_type": "code",
   "execution_count": 25,
   "id": "11eaebb3",
   "metadata": {},
   "outputs": [
    {
     "name": "stdout",
     "output_type": "stream",
     "text": [
      "Before calling func(), x is:  50\n",
      "This function is now using the global x!\n",
      "Because of global x is:  50\n",
      "Ran func(), changed global x to 2\n",
      "Value of x (outside of func()) is:  2\n"
     ]
    }
   ],
   "source": [
    "x = 50\n",
    "\n",
    "def func():\n",
    "    global x\n",
    "    print('This function is now using the global x!')\n",
    "    print('Because of global x is: ', x)\n",
    "    x = 2\n",
    "    print('Ran func(), changed global x to', x)\n",
    "\n",
    "print('Before calling func(), x is: ', x)\n",
    "func()\n",
    "print('Value of x (outside of func()) is: ', x)"
   ]
  },
  {
   "cell_type": "code",
   "execution_count": null,
   "id": "2a5a8952",
   "metadata": {},
   "outputs": [],
   "source": []
  },
  {
   "cell_type": "code",
   "execution_count": null,
   "id": "36b72729",
   "metadata": {},
   "outputs": [],
   "source": []
  },
  {
   "cell_type": "code",
   "execution_count": null,
   "id": "1869335c",
   "metadata": {},
   "outputs": [],
   "source": [
    "n = int(input('Enter a number: '))\n",
    "print('The number of factors are ', end = ' ')\n",
    "num = 2\n",
    "while num <= n//2:\n",
    "    if n % num == 0:\n",
    "        print(num, end = ' ')\n",
    "    num += 1\n",
    "print(n)"
   ]
  },
  {
   "cell_type": "code",
   "execution_count": 16,
   "id": "905a71a2",
   "metadata": {},
   "outputs": [],
   "source": [
    "def reverse_function(val):\n",
    "    new_val = \"\"\n",
    "    for char in str(val):\n",
    "        new_val = char + new_val\n",
    "    return new_val"
   ]
  },
  {
   "cell_type": "code",
   "execution_count": 20,
   "id": "c69c0e5e",
   "metadata": {},
   "outputs": [
    {
     "data": {
      "text/plain": [
       "'OPRAH'"
      ]
     },
     "execution_count": 20,
     "metadata": {},
     "output_type": "execute_result"
    }
   ],
   "source": [
    "reverse_function('HARPO')"
   ]
  },
  {
   "cell_type": "code",
   "execution_count": 21,
   "id": "829f8c38",
   "metadata": {},
   "outputs": [
    {
     "data": {
      "text/plain": [
       "'BOY'"
      ]
     },
     "execution_count": 21,
     "metadata": {},
     "output_type": "execute_result"
    }
   ],
   "source": [
    "reverse_function('YOB')"
   ]
  },
  {
   "cell_type": "code",
   "execution_count": 22,
   "id": "11e5bfa0",
   "metadata": {},
   "outputs": [
    {
     "data": {
      "text/plain": [
       "'DISNEY'"
      ]
     },
     "execution_count": 22,
     "metadata": {},
     "output_type": "execute_result"
    }
   ],
   "source": [
    "reverse_function('YENSID')"
   ]
  },
  {
   "cell_type": "code",
   "execution_count": 23,
   "id": "4efb42a0",
   "metadata": {},
   "outputs": [
    {
     "data": {
      "text/plain": [
       "'USA'"
      ]
     },
     "execution_count": 23,
     "metadata": {},
     "output_type": "execute_result"
    }
   ],
   "source": [
    "reverse_function('ASU')"
   ]
  },
  {
   "cell_type": "code",
   "execution_count": 45,
   "id": "f6841dc1",
   "metadata": {},
   "outputs": [],
   "source": [
    "num_list = [2,-3,5,-11,7,10]"
   ]
  },
  {
   "cell_type": "code",
   "execution_count": 46,
   "id": "c8e1ee9a",
   "metadata": {},
   "outputs": [
    {
     "name": "stdout",
     "output_type": "stream",
     "text": [
      "[2, 0, 5, 0, 7, 10]\n"
     ]
    }
   ],
   "source": [
    "for i in range(len(num_list)):\n",
    "    if num_list[i] < 0:\n",
    "        num_list[i] = 0\n",
    "print(num_list)"
   ]
  },
  {
   "cell_type": "code",
   "execution_count": null,
   "id": "c985686e",
   "metadata": {},
   "outputs": [],
   "source": []
  },
  {
   "cell_type": "code",
   "execution_count": 47,
   "id": "0abd9f70",
   "metadata": {},
   "outputs": [
    {
     "name": "stdout",
     "output_type": "stream",
     "text": [
      "[2, 0, 5, 0, 7, 10]\n"
     ]
    }
   ],
   "source": [
    "# Using enumerate\n",
    "for idx, num in enumerate(num_list):\n",
    "    if num < 0:\n",
    "        num_list[idx] = 0\n",
    "print(num_list)"
   ]
  },
  {
   "cell_type": "code",
   "execution_count": null,
   "id": "c8335b99",
   "metadata": {},
   "outputs": [],
   "source": []
  },
  {
   "cell_type": "markdown",
   "id": "4238019e",
   "metadata": {},
   "source": [
    "##   *args and  *kwargs\n",
    "Work with Python long enough, and eventually you will encounter *args and **kwargs. These strange terms show up as parameters in function definitions. What do they do? Let's review a simple function:"
   ]
  },
  {
   "cell_type": "code",
   "execution_count": 27,
   "id": "39f8800a",
   "metadata": {},
   "outputs": [
    {
     "data": {
      "text/plain": [
       "10.0"
      ]
     },
     "execution_count": 27,
     "metadata": {},
     "output_type": "execute_result"
    }
   ],
   "source": [
    "def myfunc(a,b):\n",
    "    return sum((a,b))**.5\n",
    "\n",
    "myfunc(40,60)"
   ]
  },
  {
   "cell_type": "markdown",
   "id": "8ef479b3",
   "metadata": {},
   "source": [
    "This function returns the square root of the sum of a and b. In this example, a and b are positional arguments; that is, 40 is assigned to a because it is the first argument, and 60 to b. Notice also that to work with multiple positional arguments in the sum() function we had to pass them in as a tuple."
   ]
  },
  {
   "cell_type": "markdown",
   "id": "3f7d074e",
   "metadata": {},
   "source": [
    "What if we want to work with more than two numbers? One way would be to assign a lot of parameters, and give each one a default value."
   ]
  },
  {
   "cell_type": "code",
   "execution_count": 30,
   "id": "1191d0ae",
   "metadata": {},
   "outputs": [
    {
     "data": {
      "text/plain": [
       "12.0"
      ]
     },
     "execution_count": 30,
     "metadata": {},
     "output_type": "execute_result"
    }
   ],
   "source": [
    "def myfunc(a=0,b=0,c=0,d=0,e=0):\n",
    "    return sum((a,b,c,d,e))**.5\n",
    "\n",
    "myfunc(40,60,44)"
   ]
  },
  {
   "cell_type": "markdown",
   "id": "4dbc9e77",
   "metadata": {},
   "source": [
    "Obviously this is not a very efficient solution, and that's where *args comes in."
   ]
  },
  {
   "cell_type": "markdown",
   "id": "dd72909a",
   "metadata": {},
   "source": [
    "## *args\n",
    "When a function parameter starts with an asterisk, it allows for an arbitrary number of arguments, and the function takes them in as a tuple of values. Rewriting the above function:\n",
    "\n"
   ]
  },
  {
   "cell_type": "code",
   "execution_count": 34,
   "id": "52e80403",
   "metadata": {},
   "outputs": [
    {
     "data": {
      "text/plain": [
       "12.0"
      ]
     },
     "execution_count": 34,
     "metadata": {},
     "output_type": "execute_result"
    }
   ],
   "source": [
    "def myfunc(*args):\n",
    "    return sum(args)**.5\n",
    "\n",
    "myfunc(40,60,44)"
   ]
  },
  {
   "cell_type": "markdown",
   "id": "0665af72",
   "metadata": {},
   "source": [
    "##  **kwargs\n",
    "Similarly, Python offers a way to handle arbitrary numbers of keyworded arguments. Instead of creating a tuple of values, **kwargs builds a dictionary of key/value pairs. For example:"
   ]
  },
  {
   "cell_type": "markdown",
   "id": "fb9e1453",
   "metadata": {},
   "source": [
    "## Lambda Expression"
   ]
  },
  {
   "cell_type": "code",
   "execution_count": 10,
   "id": "91a16239",
   "metadata": {},
   "outputs": [],
   "source": [
    "def times3(num):\n",
    "    return num*3"
   ]
  },
  {
   "cell_type": "code",
   "execution_count": 12,
   "id": "6fabc53f",
   "metadata": {},
   "outputs": [
    {
     "data": {
      "text/plain": [
       "9"
      ]
     },
     "execution_count": 12,
     "metadata": {},
     "output_type": "execute_result"
    }
   ],
   "source": [
    "times3(3)"
   ]
  },
  {
   "cell_type": "code",
   "execution_count": 17,
   "id": "298fd0c2",
   "metadata": {},
   "outputs": [
    {
     "data": {
      "text/plain": [
       "<function __main__.<lambda>(num)>"
      ]
     },
     "execution_count": 17,
     "metadata": {},
     "output_type": "execute_result"
    }
   ],
   "source": [
    "lambda num: num*3\n"
   ]
  },
  {
   "cell_type": "code",
   "execution_count": 31,
   "id": "1e38140c",
   "metadata": {},
   "outputs": [],
   "source": [
    "three_times = lambda num: num*3"
   ]
  },
  {
   "cell_type": "code",
   "execution_count": 32,
   "id": "d5ab2a7b",
   "metadata": {},
   "outputs": [
    {
     "data": {
      "text/plain": [
       "15"
      ]
     },
     "execution_count": 32,
     "metadata": {},
     "output_type": "execute_result"
    }
   ],
   "source": [
    "three_times(5)"
   ]
  },
  {
   "cell_type": "markdown",
   "id": "431accde",
   "metadata": {},
   "source": [
    "## Lambda, map, filter"
   ]
  },
  {
   "cell_type": "code",
   "execution_count": 14,
   "id": "92f6f1d0",
   "metadata": {},
   "outputs": [
    {
     "data": {
      "text/plain": [
       "<map at 0x163608a8d30>"
      ]
     },
     "execution_count": 14,
     "metadata": {},
     "output_type": "execute_result"
    }
   ],
   "source": [
    "map(times3, seq)"
   ]
  },
  {
   "cell_type": "code",
   "execution_count": 15,
   "id": "2f696a15",
   "metadata": {},
   "outputs": [
    {
     "data": {
      "text/plain": [
       "[3, 6, 9, 12, 15, 18, 21, 24, 27]"
      ]
     },
     "execution_count": 15,
     "metadata": {},
     "output_type": "execute_result"
    }
   ],
   "source": [
    "list(map(times3, seq))"
   ]
  },
  {
   "cell_type": "code",
   "execution_count": 18,
   "id": "f38b9bbc",
   "metadata": {},
   "outputs": [
    {
     "data": {
      "text/plain": [
       "[3, 6, 9, 12, 15, 18, 21, 24, 27]"
      ]
     },
     "execution_count": 18,
     "metadata": {},
     "output_type": "execute_result"
    }
   ],
   "source": [
    "list(map(lambda num: num*3, seq))"
   ]
  },
  {
   "cell_type": "code",
   "execution_count": 19,
   "id": "2da6c42d",
   "metadata": {},
   "outputs": [
    {
     "data": {
      "text/plain": [
       "<filter at 0x163608a8b50>"
      ]
     },
     "execution_count": 19,
     "metadata": {},
     "output_type": "execute_result"
    }
   ],
   "source": [
    "filter(lambda num: num%2==0, seq)"
   ]
  },
  {
   "cell_type": "code",
   "execution_count": 20,
   "id": "a8fdb417",
   "metadata": {},
   "outputs": [
    {
     "data": {
      "text/plain": [
       "[2, 4, 6, 8]"
      ]
     },
     "execution_count": 20,
     "metadata": {},
     "output_type": "execute_result"
    }
   ],
   "source": [
    "list(filter(lambda num: num%2==0, seq))"
   ]
  },
  {
   "cell_type": "code",
   "execution_count": 25,
   "id": "e4cfe76d",
   "metadata": {},
   "outputs": [],
   "source": [
    "name_gpa  = {'Mike':4.0,'Tom':3.2,'Mia':3.9,'Sean':3.7, 'Alexa':4.0}"
   ]
  },
  {
   "cell_type": "code",
   "execution_count": 26,
   "id": "b4ea5077",
   "metadata": {},
   "outputs": [
    {
     "name": "stdout",
     "output_type": "stream",
     "text": [
      "['Mike', 'Mia', 'Alexa']\n"
     ]
    }
   ],
   "source": [
    "name_list = []\n",
    "for name, gpa in name_gpa.items():\n",
    "    if gpa > 3.7:\n",
    "        name_list.append(name)\n",
    "print(name_list)"
   ]
  },
  {
   "cell_type": "code",
   "execution_count": 29,
   "id": "613d70ea",
   "metadata": {},
   "outputs": [],
   "source": [
    "simple_way  = [name for name, gpa in name_gpa.items() if gpa > 3.7]"
   ]
  },
  {
   "cell_type": "code",
   "execution_count": 30,
   "id": "f0ea0ec1",
   "metadata": {},
   "outputs": [
    {
     "data": {
      "text/plain": [
       "['Mike', 'Mia', 'Alexa']"
      ]
     },
     "execution_count": 30,
     "metadata": {},
     "output_type": "execute_result"
    }
   ],
   "source": [
    "simple_way"
   ]
  },
  {
   "cell_type": "code",
   "execution_count": null,
   "id": "8f69dd1a",
   "metadata": {},
   "outputs": [],
   "source": []
  }
 ],
 "metadata": {
  "kernelspec": {
   "display_name": "Python 3",
   "language": "python",
   "name": "python3"
  },
  "language_info": {
   "codemirror_mode": {
    "name": "ipython",
    "version": 3
   },
   "file_extension": ".py",
   "mimetype": "text/x-python",
   "name": "python",
   "nbconvert_exporter": "python",
   "pygments_lexer": "ipython3",
   "version": "3.8.8"
  }
 },
 "nbformat": 4,
 "nbformat_minor": 5
}
