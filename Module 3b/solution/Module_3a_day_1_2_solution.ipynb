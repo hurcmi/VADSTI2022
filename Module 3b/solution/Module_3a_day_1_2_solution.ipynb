{
 "cells": [
  {
   "cell_type": "code",
   "execution_count": null,
   "metadata": {},
   "outputs": [],
   "source": []
  },
  {
   "cell_type": "markdown",
   "metadata": {},
   "source": [
    "<b style=\"font-size:35px;\"><center>Virtual Applied Data Science Training Institute<br /><br>(VADSTI) <br /> 03-31-2022</center></b>\n",
    "\n",
    " <hr style=\"border:0.5px solid red\" />\n",
    " \n",
    "<center><img src=\"Figures/cover_to_intro_day1_slide.PNG\" style=\"float: center; height: 350px\"></center>\n",
    "\n",
    "---\n",
    "\n",
    "<p /><br />\n",
    "\n",
    "\n",
    "<center><b style=\"font-size:40px; color:#000EFF;\"><em>Python Code Along -- Instructor's Solutions File</em></b></center>\n",
    "\n",
    "<hr style=\"border:0.1px solid red; width: 50%;\" />"
   ]
  },
  {
   "cell_type": "markdown",
   "metadata": {},
   "source": [
    "### Lesson Objectives\n",
    "\n",
    "After completing the series you will be able to use **Python** and the data provided in `Module 3, Day 1 slide #7` to implement the following tasks:\n",
    "\n",
    "1. Estimating Statistics -- <b style=\"font-size:14px; color:#FE0000;\"><em>Code-along -- Break 10 minutes</em></b>\n",
    "    - [Load dBP sample data](#slide7) -  (_slide 7_)\n",
    "    - What is the dBD mean -  (_slide 8_)\n",
    "    - What is the dBP standard deviation - (_slide 9_)\n",
    "    - Write your own function to compute sample statistics?\n",
    "    \n",
    "<p \\>\n",
    "    \n",
    "2. Inferential statistical analysis\n",
    "\t- [Sampling distribution of diastolic BP](#slide17) - (_slide 17_)\n",
    "\t- Generate random sample from the dBP data -  (_slide 17_)\n",
    "\t- Compute variability statistics by drawing random samples from the dBP data (_slides 19 & 20_)\n",
    "    - Compute confidence interval (_slides 21_)\n",
    "\n",
    "<p \\>\n",
    "\n",
    "3. [Hypothesis Testing](#slide28) - (_slide 28_) <b style=\"font-size:14px; color:#FE0000;\"><em>Code-along -- Break 10 minutes</em></b>\n",
    "\t- [z-test for difference in two independent means](#slide33) - (_slide 33_)\n",
    "\t- Categorical outcome (2 categories) - (_slide 37_)\n",
    "\t- Difference in independent proportions - (_slides 38, 39_)\n",
    "    - [Compute $\\chi^2$ value for a 2x2 contingency table](#slide42) - (_slides 42_)\n",
    "\n",
    "\n",
    "<p \\>\n",
    "\n",
    "4. [Statistical Methods](#slide49) - (_slide 49_)\n",
    "\t- Correlation -- Fitting a Linear Model on a given dataset - (_slide 52_)\n",
    "\t- Add confidence boundaries (_slide 54_)\n",
    "\n",
    "\n",
    "<p \\>\n",
    "\n",
    "5. [Nonparametric statistics](#slide66) - (_slide 66_)\n",
    "\t- [Bootstrap – randomly select an observation from sample data with replacement](#slide66) - (_slide 68_)\n",
    "    - [Jackknife – leave-out-one](#slide69) - (_slide 69_)\n",
    "\n",
    "\n",
    "<hr \\>\n",
    "\n",
    "\n",
    "#### Module 3b: Correlation and Regression  \n",
    "\n",
    "\n",
    "<hr \\>\n",
    "\n",
    "1. Multivariable Models\n",
    "2. Interactions\n",
    "3. Multivariate models - Profile analysis\n",
    "4. Generalized Linear Models\n",
    "5. Count Models\n",
    "6. Time-to-event Models\n",
    "\n",
    "\n",
    "5. [Linear Regression](#slide_m3-9) - (_slide m3-9_)\n",
    "\t- [Cholesterol ~ Age](#slide_m3-9) - (_slide m3-9_)\n",
    "\n",
    "<p \\><p \\><p \\><p \\>\n",
    "\n",
    "<hr \\>\n",
    "\n",
    "<p \\>\n",
    "\n",
    "#### Module Module 3b: Logistic Regression and Summary  \n",
    " \n",
    "<p \\>\n",
    "\n",
    "<hr \\>\n",
    "\n",
    "<p \\>\n",
    "\n",
    "<p \\>\n",
    "\n",
    "<p \\>"
   ]
  },
  {
   "cell_type": "code",
   "execution_count": null,
   "metadata": {},
   "outputs": [],
   "source": []
  },
  {
   "cell_type": "code",
   "execution_count": null,
   "metadata": {},
   "outputs": [],
   "source": [
    "!sudo pip3 install pandas "
   ]
  },
  {
   "cell_type": "markdown",
   "metadata": {},
   "source": [
    "<center><b style=\"font-size:25px; color:#00FE00;\">Required packages</b></center>"
   ]
  },
  {
   "cell_type": "code",
   "execution_count": 207,
   "metadata": {},
   "outputs": [
    {
     "name": "stdout",
     "output_type": "stream",
     "text": [
      "installing required packages ...\n",
      "\u001b[3J\u001b[H\u001b[2J"
     ]
    }
   ],
   "source": [
    "%%bash\n",
    "echo \"installing required packages ...\"\n",
    "\n",
    "exit    #<<<----   remove this run the intallation if necessary \n",
    "sudo pip3 install --upgrade pip  # just make sure to upgrade pip\n",
    "\n",
    "sudo pip3 install pandas         # makes it easy working with structured (tabular and time series) data \n",
    "\n",
    "\n",
    "sudo pip3 install numpy          # \"Num Pie\": numeric computing library used for working with arrays\n",
    "sudo pip3 install scipy          # \"Sigh Pie\": scientific computing library for mathematics, science, and engineering\n",
    "\n",
    "#Plotting\n",
    "sudo pip3 install matplotlib     # mainly deployed for basic plotting, fewer syntax with lots of default themes\n",
    "sudo pip3 install seaborn        # a Python data visualization library based on matplotlib\n",
    "\n",
    "\n",
    "#sudo pip3 install random        # built-in module to generate the pseudo-random variables\n",
    "sudo pip3 install statistics     # provides functions for calculating mathematical statistics of numeric data\n",
    "sudo pip3 install xlrd           # a library for reading data and formatting information from Excel \n",
    "sudo pip3 install datatable      # package for manipulating 2-dimensional tabular data structures (aka data frames\n",
    "\n",
    "sudo -H pip3 install statsmodels # provides classes and functions for the estimation of many different statistical model\n",
    "sudo -H pip3 install sklearn  # a machine learning library for Python, including several regression, classification and clustering algorithms\n"
   ]
  },
  {
   "cell_type": "code",
   "execution_count": null,
   "metadata": {},
   "outputs": [],
   "source": []
  },
  {
   "cell_type": "markdown",
   "metadata": {},
   "source": [
    " <hr style=\"border:0.5px solid red\" />\n",
    " \n",
    " <center><b style=\"font-size:18px; color:#FE0000;\"><em>* * * Instructors' Python Coding Exercises Solution Starts at this point * * *</em></b></center>"
   ]
  },
  {
   "cell_type": "code",
   "execution_count": null,
   "metadata": {},
   "outputs": [],
   "source": []
  },
  {
   "cell_type": "code",
   "execution_count": 1,
   "metadata": {},
   "outputs": [],
   "source": [
    "#import libraries\n",
    "import pandas as pd     \n",
    "import numpy as np      \n",
    "import random\n",
    "\n",
    "import seaborn as sns\n",
    "\n",
    "# Forces matplotlib graphics to show up inline\n",
    "%matplotlib inline "
   ]
  },
  {
   "cell_type": "markdown",
   "metadata": {},
   "source": [
    "<a id=\"slide7\"></a>\n",
    "\n",
    "### 1.  Estimating Statistics\n",
    "\n",
    "We will be using information provided on <b style=\"font-size:15px; color:#FE0000;\"><em>slides 6 through 9</em></b> to complete **Task 1** for Module 3 Day 1\n",
    "\n",
    "\n",
    "#### 1.A  Load the `dBP` and do an initial examination the underlying distribution.\n",
    "\n"
   ]
  },
  {
   "cell_type": "code",
   "execution_count": 2,
   "metadata": {},
   "outputs": [
    {
     "data": {
      "text/plain": [
       "array([ 73,  59,  67,  68,  68,  75,  97,  73,  94,  68,  55,  65,  42,\n",
       "        77,  76,  74,  93,  91,  58,  92,  73,  73,  68,  81,  73,  65,\n",
       "        66,  70,  92,  72,  72,  62,  78,  86,  73,  85,  67,  69,  80,\n",
       "        72,  71,  82,  57,  82,  99,  89,  85,  90,  84,  91,  98,  84,\n",
       "        95,  67,  74,  73,  71, 100,  80,  89,  75,  71,  70,  65,  69,\n",
       "        71,  65,  90,  90,  77,  69,  64,  80,  69,  74,  81,  98,  61,\n",
       "        79,  73,  82,  88,  62,  81,  78,  62,  71,  54,  74,  94,  73,\n",
       "        83,  74,  72,  73,  77,  64,  76,  74,  67,  90,  75,  91,  64,\n",
       "        82,  56,  78,  91,  73,  89,  59,  83, 100,  76,  79,  70,  77,\n",
       "        85,  73,  95,  70,  91,  84,  87,  60,  66,  63,  60,  71,  90,\n",
       "        84,  86,  92,  79,  73,  63,  82,  76,  80,  79,  64,  88,  70,\n",
       "        73], dtype=int64)"
      ]
     },
     "execution_count": 2,
     "metadata": {},
     "output_type": "execute_result"
    }
   ],
   "source": [
    "dBP = np.array([\n",
    "73, 42, 73, 67, 84, 75, 80, 78, 64, 73, 70, 92,\n",
    "59, 77, 65, 69, 91, 71, 69, 62, 76, 89, 91, 79,\n",
    "67, 76, 66, 80, 98, 70, 74, 71, 74, 59, 84, 73,\n",
    "68, 74, 70, 72, 84, 65, 81, 54, 67, 83, 87, 63,\n",
    "68, 93, 92, 71, 95, 69, 98, 74, 90, 100, 60, 82,\n",
    "75, 91, 72, 82, 67, 71, 61, 94, 75, 76, 66, 76,\n",
    "97, 58, 72, 57, 74, 65, 79, 73, 91, 79, 63, 80,\n",
    "73, 92, 62, 82, 73, 90, 73, 83, 64, 70, 60, 79,\n",
    "94, 73, 78, 99, 71, 90, 82, 74, 82, 77, 71, 64,\n",
    "68, 73, 86, 89, 100, 77, 88, 72, 56, 85, 90, 88,\n",
    "55, 68, 73, 85, 80, 69, 62, 73, 78, 73, 84, 70,\n",
    "65, 81, 85, 90, 89, 64, 81, 77, 91, 95, 86, 73\n",
    "])\n",
    "\n",
    "#----\n",
    "# alternatively you may use\n",
    "dBP = np.array( pd.read_excel(\"Data.xls\", sheet_name=0) ).reshape(-1)\n",
    "dBP"
   ]
  },
  {
   "cell_type": "code",
   "execution_count": 3,
   "metadata": {},
   "outputs": [
    {
     "name": "stdout",
     "output_type": "stream",
     "text": [
      "\n",
      " mean_dBP = 76.3\n",
      "\n"
     ]
    }
   ],
   "source": [
    "#1a: Compute the dBP mean -- PowerPoint slide 8\n",
    "\n",
    "# Using formular on slide 8 of HowardU_Introduction to statistics3-4-21.pptx \n",
    "sum_dBP          = dBP.sum()     #  sum all the elements in the dBP list\n",
    "num_elements_dBP = len(dBP)      #  same as /144\n",
    "dBP_mean = sum_dBP / num_elements_dBP\n",
    "\n",
    "#Alternatively use inbuild function mean() from numpy\n",
    "mean_dBP = np.mean(dBP)          # sample mean\n",
    "\n",
    "\n",
    "print(\"\\n mean_dBP = %.1f\\n\" %dBP_mean)"
   ]
  },
  {
   "cell_type": "code",
   "execution_count": 208,
   "metadata": {},
   "outputs": [
    {
     "data": {
      "text/plain": [
       "numpy.ndarray"
      ]
     },
     "execution_count": 208,
     "metadata": {},
     "output_type": "execute_result"
    }
   ],
   "source": [
    "type(dBP)"
   ]
  },
  {
   "cell_type": "code",
   "execution_count": null,
   "metadata": {},
   "outputs": [],
   "source": []
  },
  {
   "cell_type": "code",
   "execution_count": 89,
   "metadata": {},
   "outputs": [
    {
     "name": "stdout",
     "output_type": "stream",
     "text": [
      "\n",
      "Sample variance using slide 9 = 123.65\n",
      "    Sample Standard Deviation = 11.12\n",
      "\n"
     ]
    }
   ],
   "source": [
    "#1b: Compute the dBP standard deviation -- PowerPoint slide 9\n",
    "import numpy as np\n",
    "\n",
    "variance = ((( dBP - np.mean(dBP) )**2 ).sum())/(144 -1)\n",
    "sd = np.sqrt(variance)\n",
    "\n",
    "print(\"\\nSample variance using slide 9 = %.2f\\n    Sample Standard Deviation = %.2f\\n\" % (variance, sd))"
   ]
  },
  {
   "cell_type": "code",
   "execution_count": null,
   "metadata": {},
   "outputs": [],
   "source": []
  },
  {
   "cell_type": "code",
   "execution_count": 85,
   "metadata": {},
   "outputs": [
    {
     "data": {
      "text/plain": [
       "array([ 11.01871142, 299.96315586,  86.85204475,  69.21315586])"
      ]
     },
     "execution_count": 85,
     "metadata": {},
     "output_type": "execute_result"
    }
   ],
   "source": [
    "#1b: Compute the dBP standard deviation -- PowerPoint slide 9\n",
    "import numpy as np\n",
    "\n",
    "dBP_minus_mean_dBP =  ( dBP - np.mean(dBP) )**2 \n",
    "\n",
    "type(dBP_minus_mean_dBP)\n",
    "dBP_minus_mean_dBP[:4]"
   ]
  },
  {
   "cell_type": "code",
   "execution_count": 209,
   "metadata": {},
   "outputs": [],
   "source": [
    "var = sum(dBP_minus_mean_dBP)//(144 -1)"
   ]
  },
  {
   "cell_type": "code",
   "execution_count": 210,
   "metadata": {},
   "outputs": [
    {
     "name": "stdout",
     "output_type": "stream",
     "text": [
      "11.090536506409418\n"
     ]
    }
   ],
   "source": [
    "sd = np.sqrt(var)\n",
    "print(sd)"
   ]
  },
  {
   "cell_type": "code",
   "execution_count": null,
   "metadata": {},
   "outputs": [],
   "source": []
  },
  {
   "cell_type": "code",
   "execution_count": 19,
   "metadata": {},
   "outputs": [],
   "source": [
    "#c. Why divide by (144 – 1)?  -- PowerPoint slide 9\n",
    "\n",
    "# Unbias estimator -- fundamental law of Numerical Statistics"
   ]
  },
  {
   "cell_type": "code",
   "execution_count": null,
   "metadata": {},
   "outputs": [],
   "source": []
  },
  {
   "cell_type": "code",
   "execution_count": 211,
   "metadata": {},
   "outputs": [
    {
     "name": "stdout",
     "output_type": "stream",
     "text": [
      "a.    Sample mean using using statistic.mean = 76.00\n",
      "b. Sample variance using using statistic.var = 123.00\n",
      "c.          Sample Standard Deviation using  = 11.09\n",
      "\n",
      "\n"
     ]
    }
   ],
   "source": [
    "# Alternately, for 1a, 1b, 1c you can use the \"statistics\" package\n",
    "#!sudo pip3 install statistics\n",
    "import statistics \n",
    "\n",
    "# Inbuild sample variance and sample standard deviation\n",
    "statistic_mean = statistics.mean(dBP)\n",
    "statistic_var = statistics.variance(dBP)\n",
    "statistic_std = statistics.stdev(dBP)\n",
    "\n",
    "print(\"a.    Sample mean using using statistic.mean = %.2f\\n\\\n",
    "b. Sample variance using using statistic.var = %.2f\\n\\\n",
    "c.          Sample Standard Deviation using  = %.2f\\n\\n\" % (statistic_mean, statistic_var, statistic_std))\n"
   ]
  },
  {
   "cell_type": "code",
   "execution_count": null,
   "metadata": {},
   "outputs": [],
   "source": []
  },
  {
   "cell_type": "code",
   "execution_count": 212,
   "metadata": {},
   "outputs": [
    {
     "name": "stdout",
     "output_type": "stream",
     "text": [
      "\n",
      "\n",
      "Result from own function:\n",
      "a.    Sample mean  =  76.32\n",
      "b. Sample variance = 122.79\n",
      "c.  Sample Std_dev =  11.08\n",
      "\n",
      "\n"
     ]
    }
   ],
   "source": [
    "#Challenge 1.1: Write your own functions to compute the sample mean and standard deviation of dBP sample data\n",
    "\n",
    "# Our own function \n",
    "def mean_var_sd(data):\n",
    "  n = len(data)\n",
    "  #mean segment\n",
    "  mean = sum(data) / n\n",
    "  #variance segment\n",
    "  deviations = [(x - mean) ** 2 for x in data]\n",
    "  variance = sum(deviations) / n\n",
    "  #std_dev segment\n",
    "  std_dev = np.sqrt(variance)\n",
    "  return mean, variance, std_dev\n",
    "\n",
    "\n",
    "#test\n",
    "result = mean_var_sd(dBP)\n",
    "\n",
    "print(\"\\n\\nResult from own function:\\n\\\n",
    "a.    Sample mean  =  %.2f\\n\\\n",
    "b. Sample variance = %.2f\\n\\\n",
    "c.  Sample Std_dev =  %.2f\\n\\n\" % (result))\n",
    "\n"
   ]
  },
  {
   "cell_type": "code",
   "execution_count": 219,
   "metadata": {},
   "outputs": [],
   "source": [
    "?sum"
   ]
  },
  {
   "cell_type": "code",
   "execution_count": 215,
   "metadata": {},
   "outputs": [
    {
     "data": {
      "text/plain": [
       "11.080922530899782"
      ]
     },
     "execution_count": 215,
     "metadata": {},
     "output_type": "execute_result"
    }
   ],
   "source": [
    "mean, variance, std_dev = result\n",
    "std_dev"
   ]
  },
  {
   "cell_type": "code",
   "execution_count": 220,
   "metadata": {},
   "outputs": [
    {
     "data": {
      "image/png": "[encoded data removed]",
      "text/plain": [
       "<Figure size 432x288 with 1 Axes>"
      ]
     },
     "metadata": {
      "needs_background": "light"
     },
     "output_type": "display_data"
    }
   ],
   "source": [
    "#Challenge 1.2: Plot the distribution of the dBP data\n",
    "import matplotlib.pyplot as plt \n",
    "  \n",
    "plt.plot(dBP) \n",
    "plt.show() \n"
   ]
  },
  {
   "cell_type": "code",
   "execution_count": 23,
   "metadata": {},
   "outputs": [
    {
     "name": "stderr",
     "output_type": "stream",
     "text": [
      "C:\\ProgramData\\Anaconda3\\envs\\thesis_tensorflow_cpu_gpu_2_2_0_9_21_2020\\lib\\site-packages\\seaborn\\distributions.py:2557: FutureWarning: `distplot` is a deprecated function and will be removed in a future version. Please adapt your code to use either `displot` (a figure-level function with similar flexibility) or `histplot` (an axes-level function for histograms).\n",
      "  warnings.warn(msg, FutureWarning)\n"
     ]
    },
    {
     "data": {
      "text/plain": [
       "Text(0, 0.5, 'Frequency')"
      ]
     },
     "execution_count": 23,
     "metadata": {},
     "output_type": "execute_result"
    },
    {
     "data": {
      "image/png": "[encoded data removed]",
      "text/plain": [
       "<Figure size 842.4x595.44 with 1 Axes>"
      ]
     },
     "metadata": {
      "needs_background": "light"
     },
     "output_type": "display_data"
    }
   ],
   "source": [
    "#OR\n",
    "# Let’s plot the distribution of Treatment and control groups:\n",
    "import seaborn as sns\n",
    "\n",
    "#increase fifure size\n",
    "a4_dims = (11.7, 8.27)\n",
    "\n",
    "\n",
    "#Multiply (2) plots on 1 figure\n",
    "fig, axs = plt.subplots(figsize=a4_dims)\n",
    "\n",
    "sns.distplot(dBP, kde=True, color='red', bins=100)\n",
    "plt.title('Diastolic BP values of 144 patients', fontsize=18)\n",
    "plt.xlabel('dBP', fontsize=16)\n",
    "plt.ylabel('Frequency', fontsize=16)"
   ]
  },
  {
   "cell_type": "markdown",
   "metadata": {},
   "source": [
    "    \n",
    "<hr style=\"border:0.1px solid gray; width: 25%;\" />\n",
    "\n",
    "<b style=\"font-size:40px; color:#822c97\">References</b>\n",
    "\n",
    "* <https://stackabuse.com/calculating-variance-and-standard-deviation-in-python/>\n",
    "\n",
    "* <https://www.askpython.com/python/examples/mean-and-standard-deviation-python>\n",
    "\n",
    "***    \n",
    "    \n",
    "    \n",
    "<p /><p />\n",
    "\n",
    "<hr style=\"border:0.1px solid #822c97; width: 50%;\" />\n",
    "\n",
    "<center><b style=\"font-size:25px; color:##556B2F\">CONGRATULATION!!!<br>YOU HAVE SUCCESSFULLY COMPLETED CODE ALONG <br />TASK 1 FOR MODULE 3 Day 1</b></center>"
   ]
  },
  {
   "cell_type": "markdown",
   "metadata": {},
   "source": [
    "<a id=\"slide17\"></a>\n",
    "\n",
    "<hr style=\"color:#FE0000;border:0.5px solid red\" />\n",
    "\n",
    "\n",
    "### 2.  Inferential statistical analysis\n",
    "\n",
    "We will be using information provided on <b style=\"font-size:15px; color:#FE0000;\"><em>slides 12 through 21</em></b> to complete **Task 2** for Module 3 Day 2\n",
    "\n",
    "<p \\>\n",
    "\n",
    "#### 2.A Recall: Research sample mean (x) ~ population mean ($\\mu$) Inferential statistical analysis -- <b style=\"font-size:15px; color:#FE0000;\"><em> Slide 16</em><b/>\n",
    "\n",
    "<p \\>\n",
    " \n",
    "<center><img src=\"Figures/sample_and_population_mean.PNG\" style=\"float: center; height: 350px\"></center>\n",
    "\n",
    "\n"
   ]
  },
  {
   "cell_type": "code",
   "execution_count": 238,
   "metadata": {},
   "outputs": [
    {
     "data": {
      "text/plain": [
       "[4, 0, 1, 8, 3, 2]"
      ]
     },
     "execution_count": 238,
     "metadata": {},
     "output_type": "execute_result"
    }
   ],
   "source": [
    "# Example: Use the following code segment to extract (draw) 2 random numbers from between 0 and 9\n",
    "\n",
    "import random\n",
    "\n",
    "#random.seed(4)        #to ensure a repeatable outcome\n",
    "\n",
    "data = [0, 1, 2, 3, 4, 5, 6, 7, 8, 9]  \n",
    "\n",
    "# Draw the samples indirectly from the data\n",
    "random.sample(population=data, k=6)\n"
   ]
  },
  {
   "cell_type": "code",
   "execution_count": 25,
   "metadata": {},
   "outputs": [
    {
     "data": {
      "text/plain": [
       "[75, 61, 66, 75, 84]"
      ]
     },
     "execution_count": 25,
     "metadata": {},
     "output_type": "execute_result"
    }
   ],
   "source": [
    "#2a Expand on the example above to draw 1 set of 5 random data from the dBP data (_slide 17_)\n",
    "\n",
    "random.seed(4)        #to ensure a repeatable outcome\n",
    "\n",
    "#insert your code here \n",
    "\n",
    "# 2a method 1 of 2: draw the samples directly\n",
    "random.sample( list(dBP), 5)   #has to be a list\n"
   ]
  },
  {
   "cell_type": "code",
   "execution_count": 244,
   "metadata": {},
   "outputs": [
    {
     "data": {
      "text/plain": [
       "array([ 56,  26,   4, 126,  92])"
      ]
     },
     "execution_count": 244,
     "metadata": {},
     "output_type": "execute_result"
    }
   ],
   "source": [
    "n = 5           #sample size\n",
    "l = len(dBP)    #length dBP\n",
    "index = np.random.randint(0, l , size=n)\n",
    "index"
   ]
  },
  {
   "cell_type": "code",
   "execution_count": 245,
   "metadata": {},
   "outputs": [
    {
     "data": {
      "text/plain": [
       "144"
      ]
     },
     "execution_count": 245,
     "metadata": {},
     "output_type": "execute_result"
    }
   ],
   "source": [
    "len(dBP)"
   ]
  },
  {
   "cell_type": "code",
   "execution_count": 248,
   "metadata": {},
   "outputs": [
    {
     "data": {
      "text/plain": [
       "array([59, 68, 75], dtype=int64)"
      ]
     },
     "execution_count": 248,
     "metadata": {},
     "output_type": "execute_result"
    }
   ],
   "source": [
    "dBP[[1, 4, 5]]"
   ]
  },
  {
   "cell_type": "code",
   "execution_count": 249,
   "metadata": {},
   "outputs": [
    {
     "name": "stdout",
     "output_type": "stream",
     "text": [
      "  Index: [ 22  90  63  34 102]  |   sample: [68 73 65 73 91]\n"
     ]
    }
   ],
   "source": [
    "#2a: Method 2 of 2: draw the samples indirectly usingthe index\n",
    "#random.sample( list(dBP), 5)   #has to be a list\n",
    "\n",
    "random.seed(4) \n",
    "\n",
    "n = 5           #sample size\n",
    "l = len(dBP)    #length dBP\n",
    "index = np.random.randint(0, l , size=n)\n",
    "\n",
    "sample = dBP[index] \n",
    "\n",
    "print(f'  Index: {index}  |   sample: {sample}')\n"
   ]
  },
  {
   "cell_type": "code",
   "execution_count": 250,
   "metadata": {},
   "outputs": [
    {
     "data": {
      "text/plain": [
       "91"
      ]
     },
     "execution_count": 250,
     "metadata": {},
     "output_type": "execute_result"
    }
   ],
   "source": [
    "dBP[102]"
   ]
  },
  {
   "cell_type": "code",
   "execution_count": null,
   "metadata": {},
   "outputs": [],
   "source": []
  },
  {
   "cell_type": "code",
   "execution_count": 252,
   "metadata": {},
   "outputs": [
    {
     "name": "stdout",
     "output_type": "stream",
     "text": [
      "\n",
      "\n",
      "          Sample size (n = 5) \n",
      "         _____________________\n",
      "    1    [75, 61, 66, 75, 84] \n",
      "    2    [72, 81, 91, 75, 91] \n",
      "    3    [64, 74, 74, 71, 79] \n",
      "    4    [76, 74, 69, 99, 70] \n",
      "    5    [90, 74, 97, 65, 77] \n",
      "    6    [91, 57, 73, 74, 77] \n",
      "    7    [68, 71, 67, 90, 65] \n",
      "    8    [89, 65, 91, 64, 68] \n",
      "    9    [64, 98, 59, 74, 73] \n",
      "   10    [84, 91, 56, 73, 69] \n",
      "   11    [59, 70, 82, 89, 79] \n",
      "   12    [65, 65, 73, 73, 64] \n",
      "   13    [92, 82, 70, 54, 69] \n",
      "   14    [98, 91, 56, 84, 100] \n",
      "   15    [69, 90, 83, 83, 62] \n",
      "   16    [70, 98, 62, 65, 74] \n",
      "   17    [80, 64, 75, 62, 78] \n",
      "   18    [89, 74, 85, 97, 55] \n",
      "   19    [83, 73, 69, 81, 68] \n",
      "   20    [62, 69, 72, 56, 92] \n",
      "   21    [81, 91, 76, 74, 73] \n",
      "   22    [69, 76, 71, 78, 67] \n",
      "   23    [72, 65, 77, 82, 74] \n",
      "   24    [74, 73, 100, 67, 73] \n",
      "          _____________________\n"
     ]
    }
   ],
   "source": [
    "#2b Expanding on your result in 2a, draw 12 sets of random samples each of size 5 from the dBP data \n",
    "#   and print the resulting samples. Use random.seed(4)\n",
    "import random\n",
    "\n",
    "#initialize temporary variables\n",
    "n = 5                 #sample size\n",
    "l = len(dBP)          #length dBP\n",
    "num_samples = 24      #12 samples\n",
    "random.seed(4)        #repeatable outcome\n",
    "\n",
    "#setup output\n",
    "print(\"\\n\\n          Sample size (n = %d) \\n         _____________________\" %n)\n",
    "\n",
    "#compute and print values\n",
    "for i in range(num_samples):\n",
    "    # use 4 as a seed value  gets you the same values every time\n",
    "    #random.seed(4)\n",
    "    # get sample list of 5 items\n",
    "    sample_list = random.sample(list(dBP), n)\n",
    "    #print(f'{sample_list}  mean: {np.mean(sample_list):.2f}')\n",
    "    print(\"%5d    %5s \" % ((i+1), sample_list))\n",
    "\n",
    "#draw bottom line\n",
    "print(\"          _____________________\")"
   ]
  },
  {
   "cell_type": "code",
   "execution_count": 256,
   "metadata": {},
   "outputs": [
    {
     "data": {
      "text/plain": [
       "77.4"
      ]
     },
     "execution_count": 256,
     "metadata": {},
     "output_type": "execute_result"
    }
   ],
   "source": [
    "mysample = [74, 73, 100, 67, 73]\n",
    "np.mean(mysample)"
   ]
  },
  {
   "cell_type": "code",
   "execution_count": 257,
   "metadata": {},
   "outputs": [
    {
     "name": "stdout",
     "output_type": "stream",
     "text": [
      "\n",
      "\n",
      "          Sample size (n = 5)    |    Mean\n",
      "         ________________________|___________\n",
      "    1    [75, 61, 66, 75, 84]          72 \n",
      "    2    [72, 81, 91, 75, 91]          82 \n",
      "    3    [64, 74, 74, 71, 79]          72 \n",
      "    4    [76, 74, 69, 99, 70]          77 \n",
      "    5    [90, 74, 97, 65, 77]          80 \n",
      "    6    [91, 57, 73, 74, 77]          74 \n",
      "    7    [68, 71, 67, 90, 65]          72 \n",
      "    8    [89, 65, 91, 64, 68]          75 \n",
      "    9    [64, 98, 59, 74, 73]          73 \n",
      "   10    [84, 91, 56, 73, 69]          74 \n",
      "   11    [59, 70, 82, 89, 79]          75 \n",
      "   12    [65, 65, 73, 73, 64]          68 \n",
      "   13    [92, 82, 70, 54, 69]          73 \n",
      "   14    [98, 91, 56, 84, 100]          85 \n",
      "   15    [69, 90, 83, 83, 62]          77 \n",
      "   16    [70, 98, 62, 65, 74]          73 \n",
      "   17    [80, 64, 75, 62, 78]          71 \n",
      "   18    [89, 74, 85, 97, 55]          80 \n",
      "   19    [83, 73, 69, 81, 68]          74 \n",
      "   20    [62, 69, 72, 56, 92]          70 \n",
      "   21    [81, 91, 76, 74, 73]          79 \n",
      "   22    [69, 76, 71, 78, 67]          72 \n",
      "   23    [72, 65, 77, 82, 74]          74 \n",
      "   24    [74, 73, 100, 67, 73]          77 \n",
      "   25    [67, 72, 74, 76, 82]          74 \n",
      "          ________________________|___________\n"
     ]
    }
   ],
   "source": [
    "#2c Expanding on your result in 2b, by printing the mean of each of the random sample next the \n",
    "# sample values similar to data sampling output on slide 17. Use random.seed(4)\n",
    "\n",
    "import random\n",
    "\n",
    "#initialize temporary variables\n",
    "n = 5                 #sample size\n",
    "l = len(dBP)          #length dBP\n",
    "num_samples = 25      #25 samples\n",
    "random.seed(4)        #repeatable outcome\n",
    "\n",
    "#setup output\n",
    "print(\"\\n\\n          Sample size (n = %d)    |    Mean\\n         ________________________|___________\" %n)\n",
    "\n",
    "#compute and print values\n",
    "for i in range(num_samples):\n",
    "    # use 4 as a seed value  gets you the same values every time\n",
    "    #random.seed(4)\n",
    "    # get sample list of 5 items\n",
    "    sample_list = random.sample(list(dBP), n)\n",
    "    #print(f'{sample_list}  mean: {np.mean(sample_list):.2f}')\n",
    "    m = np.mean(sample_list)\n",
    "    #print(\"%5d    %5s          %.2d \" % ((i+1), sample_list, np.mean(sample_list)))\n",
    "    print(\"%5d    %5s          %.2d \" % ((i+1), sample_list, m))\n",
    "\n",
    "#draw bottom line\n",
    "print(\"          ________________________|___________\")"
   ]
  },
  {
   "cell_type": "code",
   "execution_count": 266,
   "metadata": {},
   "outputs": [],
   "source": [
    "ml = {\"a\":1, \"b\":3}\n",
    "#pd.DataFrame(ml)"
   ]
  },
  {
   "cell_type": "code",
   "execution_count": 269,
   "metadata": {},
   "outputs": [
    {
     "name": "stdout",
     "output_type": "stream",
     "text": [
      "[[61, 83, 72, 73, 74], [76, 77, 65, 70, 82], [87, 79, 97, 70, 91], [65, 70, 62, 82, 61], [82, 82, 98, 67, 82], [87, 74, 90, 73, 57], [82, 73, 89, 78, 91], [89, 100, 73, 73, 94], [79, 59, 65, 73, 70], [89, 100, 70, 77, 90], [74, 71, 76, 59, 74], [90, 68, 54, 65, 73], [90, 76, 82, 59, 90], [82, 83, 65, 70, 71], [77, 54, 84, 94, 86], [73, 74, 72, 73, 64], [74, 66, 73, 59, 88], [81, 90, 71, 68, 79], [67, 73, 67, 97, 81], [69, 65, 78, 77, 100], [94, 82, 88, 91, 73], [75, 66, 54, 64, 84], [92, 60, 83, 73, 80], [82, 89, 80, 62, 62], [82, 68, 79, 75, 90]]\n",
      "<class 'list'>\n",
      "     A    B   C   D    E\n",
      "0   61   83  72  73   74\n",
      "1   76   77  65  70   82\n",
      "2   87   79  97  70   91\n",
      "3   65   70  62  82   61\n",
      "4   82   82  98  67   82\n",
      "5   87   74  90  73   57\n",
      "6   82   73  89  78   91\n",
      "7   89  100  73  73   94\n",
      "8   79   59  65  73   70\n",
      "9   89  100  70  77   90\n",
      "10  74   71  76  59   74\n",
      "11  90   68  54  65   73\n",
      "12  90   76  82  59   90\n",
      "13  82   83  65  70   71\n",
      "14  77   54  84  94   86\n",
      "15  73   74  72  73   64\n",
      "16  74   66  73  59   88\n",
      "17  81   90  71  68   79\n",
      "18  67   73  67  97   81\n",
      "19  69   65  78  77  100\n",
      "20  94   82  88  91   73\n",
      "21  75   66  54  64   84\n",
      "22  92   60  83  73   80\n",
      "23  82   89  80  62   62\n",
      "24  82   68  79  75   90\n"
     ]
    }
   ],
   "source": [
    "rows = [random.sample(list(dBP), n) for i in range(num_samples)]\n",
    "print(rows)\n",
    "print(type(rows))\n",
    "df = pd.DataFrame(rows, columns=[\"A\", \"B\", \"C\", \"D\", \"E\"])\n",
    "\n",
    "print(df)"
   ]
  },
  {
   "cell_type": "code",
   "execution_count": 272,
   "metadata": {},
   "outputs": [
    {
     "data": {
      "text/html": [
       "<div>\n",
       "<style scoped>\n",
       "    .dataframe tbody tr th:only-of-type {\n",
       "        vertical-align: middle;\n",
       "    }\n",
       "\n",
       "    .dataframe tbody tr th {\n",
       "        vertical-align: top;\n",
       "    }\n",
       "\n",
       "    .dataframe thead th {\n",
       "        text-align: right;\n",
       "    }\n",
       "</style>\n",
       "<table border=\"1\" class=\"dataframe\">\n",
       "  <thead>\n",
       "    <tr style=\"text-align: right;\">\n",
       "      <th></th>\n",
       "      <th>A</th>\n",
       "      <th>B</th>\n",
       "      <th>C</th>\n",
       "      <th>D</th>\n",
       "      <th>E</th>\n",
       "      <th>Mean</th>\n",
       "    </tr>\n",
       "  </thead>\n",
       "  <tbody>\n",
       "    <tr>\n",
       "      <th>1</th>\n",
       "      <td>75</td>\n",
       "      <td>61</td>\n",
       "      <td>66</td>\n",
       "      <td>75</td>\n",
       "      <td>84</td>\n",
       "      <td>72</td>\n",
       "    </tr>\n",
       "    <tr>\n",
       "      <th>2</th>\n",
       "      <td>72</td>\n",
       "      <td>81</td>\n",
       "      <td>91</td>\n",
       "      <td>75</td>\n",
       "      <td>91</td>\n",
       "      <td>82</td>\n",
       "    </tr>\n",
       "    <tr>\n",
       "      <th>3</th>\n",
       "      <td>64</td>\n",
       "      <td>74</td>\n",
       "      <td>74</td>\n",
       "      <td>71</td>\n",
       "      <td>79</td>\n",
       "      <td>72</td>\n",
       "    </tr>\n",
       "    <tr>\n",
       "      <th>4</th>\n",
       "      <td>76</td>\n",
       "      <td>74</td>\n",
       "      <td>69</td>\n",
       "      <td>99</td>\n",
       "      <td>70</td>\n",
       "      <td>77</td>\n",
       "    </tr>\n",
       "  </tbody>\n",
       "</table>\n",
       "</div>"
      ],
      "text/plain": [
       "    A   B   C   D   E  Mean\n",
       "1  75  61  66  75  84    72\n",
       "2  72  81  91  75  91    82\n",
       "3  64  74  74  71  79    72\n",
       "4  76  74  69  99  70    77"
      ]
     },
     "metadata": {},
     "output_type": "display_data"
    }
   ],
   "source": [
    "# Use dataframe\n",
    "\n",
    "#initialize temporary variables\n",
    "n = 5                 #sample size\n",
    "l = len(dBP)          #length dBP\n",
    "num_samples = 25      #25 samples\n",
    "random.seed(4)        #repeatable outcome\n",
    "\n",
    "rows = [random.sample(list(dBP), n) for i in range(num_samples)]\n",
    "#print(rows)\n",
    "df = pd.DataFrame(rows,columns=[\"A\", \"B\", \"C\", \"D\", \"E\"])\n",
    "\n",
    "#print(df)\n",
    "\n",
    "\n",
    "# add 1 to each index\n",
    "df.index = df.index + 1\n",
    "#display( df.head(n=2) )\n",
    "# Sum the rows of DataFrame\n",
    "#df['Sum'] = df.sum(axis=1)\n",
    "df['Mean'] = df.mean(axis=1).astype(int)\n",
    "display( df.head(n=4) )"
   ]
  },
  {
   "cell_type": "code",
   "execution_count": null,
   "metadata": {},
   "outputs": [],
   "source": []
  },
  {
   "cell_type": "code",
   "execution_count": null,
   "metadata": {},
   "outputs": [],
   "source": [
    "\n",
    "                                   "
   ]
  },
  {
   "cell_type": "code",
   "execution_count": 276,
   "metadata": {},
   "outputs": [
    {
     "name": "stdout",
     "output_type": "stream",
     "text": [
      "\n",
      "\n",
      "Results:\n",
      "a.    Sample1:  [72, 82, 73, 90, 81]   | size: 5 |   mean sample1: 79.60   | SEM sample1: 3.295\n",
      "\n",
      "b.    Sample2:  [89, 90, 77, 80, 82]   | size: 5 |   mean sample2: 84   | SEM sample2: 3\n",
      "\n"
     ]
    }
   ],
   "source": [
    "#2d Compute the (i) mean, (ii) SEM = SD(sample_data)/sqrt(n=len(sample_data)) -- slide 19\n",
    "\n",
    "import numpy as np\n",
    "import scipy.stats       #the scientific computing library\n",
    "import statistics\n",
    "\n",
    "sample1 = [72, 82, 73, 90, 81]\n",
    "sample2 = [89, 90, 77, 80, 82]\n",
    "\n",
    "mean_sample1 =   np.mean(sample1)\n",
    "mean_sample2 =   np.mean(sample2)\n",
    "\n",
    "n = len(sample2)\n",
    "\n",
    "SEM_sample1 = statistics.stdev(sample1) * (1/np.sqrt(n))\n",
    "SEM_sample2 = statistics.stdev(sample2) * (1/np.sqrt(n))\n",
    "\n",
    "print(\"\\n\\nResults:\\n\\\n",
    "a.    Sample1:  %s   | size: %d |   mean sample1: %.2f   | SEM sample1: %.3f\\n\" % \\\n",
    "      (sample1, n, mean_sample1, SEM_sample1))\n",
    "print(\"\\\n",
    "b.    Sample2:  %s   | size: %d |   mean sample2: %.0f   | SEM sample2: %.0f\\n\" % \\\n",
    "      (sample2, n, mean_sample2, SEM_sample2))"
   ]
  },
  {
   "cell_type": "code",
   "execution_count": 274,
   "metadata": {},
   "outputs": [
    {
     "data": {
      "text/plain": [
       "3.2954514106568165"
      ]
     },
     "execution_count": 274,
     "metadata": {},
     "output_type": "execute_result"
    }
   ],
   "source": [
    "SEM_sample1"
   ]
  },
  {
   "cell_type": "code",
   "execution_count": 277,
   "metadata": {},
   "outputs": [
    {
     "name": "stdout",
     "output_type": "stream",
     "text": [
      "\n",
      "\n",
      "Results:\n",
      "a.    Sample1:  [72, 82, 73, 90, 81]   | size: 5 |   mean: 80   | SEM: 3   | LB: 73  |  UB: 86\n",
      "\n",
      "b.    Sample2:  [89, 90, 77, 80, 82]   | size: 5 |   mean: 84   | SEM: 3   | LB: 79  |  UB: 89\n",
      "\n"
     ]
    }
   ],
   "source": [
    "#Challenge 2.1 Use the formula on slide 20 to compute the 95% confidence interval for sample1 and sample2\n",
    "\n",
    "normal_d = 2\n",
    "LB_sample1 = mean_sample1 - (SEM_sample1 * normal_d)   #   (2 is standard deviation units of the normal distribution).\n",
    "UB_sample1 = mean_sample1 + (SEM_sample1 * normal_d)    \n",
    "\n",
    "LB_sample2 = mean_sample2 - (SEM_sample2 * normal_d) \n",
    "UB_sample2 = mean_sample2 + (SEM_sample2 * normal_d) \n",
    "\n",
    "#Compare your results to those obtained in the first 2 lines of the PowerPoint slide 20\n",
    "print(\"\\n\\nResults:\\n\\\n",
    "a.    Sample1:  %s   | size: %d |   mean: %.0f   | SEM: %.0f   | LB: %.0f  |  UB: %.0f\\n\" % \\\n",
    "      (sample1, n, mean_sample1, SEM_sample1, LB_sample1, UB_sample1))\n",
    "print(\"\\\n",
    "b.    Sample2:  %s   | size: %d |   mean: %.0f   | SEM: %.0f   | LB: %0.f  |  UB: %0.f\\n\" % \\\n",
    "      (sample2, n, mean_sample2, SEM_sample2, LB_sample2, UB_sample2))                                   "
   ]
  },
  {
   "cell_type": "code",
   "execution_count": 279,
   "metadata": {},
   "outputs": [
    {
     "data": {
      "text/plain": [
       "(79.6, 3.2954514106568165, 70.45036006146469, 88.7496399385353)"
      ]
     },
     "execution_count": 279,
     "metadata": {},
     "output_type": "execute_result"
    }
   ],
   "source": [
    "mci1"
   ]
  },
  {
   "cell_type": "code",
   "execution_count": 278,
   "metadata": {},
   "outputs": [
    {
     "name": "stdout",
     "output_type": "stream",
     "text": [
      "        Sample            |      Mean   |    SEM    |    LB    |    UB \n",
      "  ----------------------------------------------------------------------\n",
      "   [72, 82, 73, 90, 81]   |      80     |     3     |    70    |    89\n",
      "   [89, 90, 77, 80, 82]   |      84     |     3     |    77    |    91\n"
     ]
    }
   ],
   "source": [
    "## 2.1 Alternative solution use scipy\n",
    "#So we can be a bit creative by defining a CI function\n",
    "\n",
    "def mean_confidence_interval(data, confidence=0.95):\n",
    "    a = 1.0 * np.array(data)\n",
    "    n = len(a)\n",
    "    m, sem = np.mean(a), scipy.stats.sem(a)\n",
    "    h = sem * scipy.stats.t.ppf((1 + confidence) / 2., n-1)\n",
    "    return m, sem, m-h, m+h\n",
    "    \n",
    "#Test the the function function\n",
    "sample1 = [72, 82, 73, 90, 81 ]   # slide 20\n",
    "sample2 = [89, 90, 77, 80, 82 ]\n",
    "\n",
    "mci1 = mean_confidence_interval(sample1)\n",
    "mci2 = mean_confidence_interval(sample2)\n",
    "\n",
    "#print\n",
    "\n",
    "print(\"        Sample            |      Mean   |    SEM    |    LB    |    UB \") \n",
    "print(\"  ----------------------------------------------------------------------\")\n",
    "print(\"   %s   |      %0.f     |     %0.f     |    %0.f    |    %0.f\" % (sample1, mci1[0], mci1[1], mci1[2], mci1[3] ) )\n",
    "print(\"   %s   |      %0.f     |     %0.f     |    %0.f    |    %0.f\" % (sample2, mci2[0], mci2[1], mci2[2], mci2[3] ) )\n",
    "\n"
   ]
  },
  {
   "cell_type": "code",
   "execution_count": null,
   "metadata": {},
   "outputs": [],
   "source": []
  },
  {
   "cell_type": "markdown",
   "metadata": {},
   "source": [
    "#### 2.B Recall: Table on  <b style=\"font-size:15px; color:#FE0000;\"><em> Slide 20</em><b/>\n",
    "\n",
    "<p \\>\n",
    " \n",
    "<center><img src=\"Figures/table_slide20.PNG\" style=\"float: center; height: 420px\"></center>\n"
   ]
  },
  {
   "cell_type": "code",
   "execution_count": 280,
   "metadata": {},
   "outputs": [
    {
     "name": "stdout",
     "output_type": "stream",
     "text": [
      "\n",
      "\n",
      "  type(dBP_samples_df_slide20) is : <class 'pandas.core.frame.DataFrame'>\n",
      "--\n",
      "\n",
      "Content:\n"
     ]
    },
    {
     "data": {
      "text/html": [
       "<div>\n",
       "<style scoped>\n",
       "    .dataframe tbody tr th:only-of-type {\n",
       "        vertical-align: middle;\n",
       "    }\n",
       "\n",
       "    .dataframe tbody tr th {\n",
       "        vertical-align: top;\n",
       "    }\n",
       "\n",
       "    .dataframe thead th {\n",
       "        text-align: right;\n",
       "    }\n",
       "</style>\n",
       "<table border=\"1\" class=\"dataframe\">\n",
       "  <thead>\n",
       "    <tr style=\"text-align: right;\">\n",
       "      <th></th>\n",
       "      <th>x1</th>\n",
       "      <th>x2</th>\n",
       "      <th>x3</th>\n",
       "      <th>x4</th>\n",
       "      <th>x5</th>\n",
       "      <th>mean</th>\n",
       "      <th>Mean</th>\n",
       "      <th>SEM</th>\n",
       "      <th>LB</th>\n",
       "      <th>UB</th>\n",
       "    </tr>\n",
       "  </thead>\n",
       "  <tbody>\n",
       "    <tr>\n",
       "      <th>0</th>\n",
       "      <td>75.0</td>\n",
       "      <td>61.0</td>\n",
       "      <td>66.0</td>\n",
       "      <td>75.0</td>\n",
       "      <td>84.0</td>\n",
       "      <td>72.2</td>\n",
       "      <td>72.2</td>\n",
       "      <td>3.992493</td>\n",
       "      <td>61.115062</td>\n",
       "      <td>83.284938</td>\n",
       "    </tr>\n",
       "    <tr>\n",
       "      <th>1</th>\n",
       "      <td>72.0</td>\n",
       "      <td>81.0</td>\n",
       "      <td>91.0</td>\n",
       "      <td>75.0</td>\n",
       "      <td>91.0</td>\n",
       "      <td>82.0</td>\n",
       "      <td>82.0</td>\n",
       "      <td>3.949684</td>\n",
       "      <td>71.033920</td>\n",
       "      <td>92.966080</td>\n",
       "    </tr>\n",
       "    <tr>\n",
       "      <th>2</th>\n",
       "      <td>64.0</td>\n",
       "      <td>74.0</td>\n",
       "      <td>74.0</td>\n",
       "      <td>71.0</td>\n",
       "      <td>79.0</td>\n",
       "      <td>72.4</td>\n",
       "      <td>72.4</td>\n",
       "      <td>2.461707</td>\n",
       "      <td>65.565206</td>\n",
       "      <td>79.234794</td>\n",
       "    </tr>\n",
       "    <tr>\n",
       "      <th>3</th>\n",
       "      <td>76.0</td>\n",
       "      <td>74.0</td>\n",
       "      <td>69.0</td>\n",
       "      <td>99.0</td>\n",
       "      <td>70.0</td>\n",
       "      <td>77.6</td>\n",
       "      <td>77.6</td>\n",
       "      <td>5.500909</td>\n",
       "      <td>62.327028</td>\n",
       "      <td>92.872972</td>\n",
       "    </tr>\n",
       "    <tr>\n",
       "      <th>4</th>\n",
       "      <td>90.0</td>\n",
       "      <td>74.0</td>\n",
       "      <td>97.0</td>\n",
       "      <td>65.0</td>\n",
       "      <td>77.0</td>\n",
       "      <td>80.6</td>\n",
       "      <td>80.6</td>\n",
       "      <td>5.732364</td>\n",
       "      <td>64.684405</td>\n",
       "      <td>96.515595</td>\n",
       "    </tr>\n",
       "    <tr>\n",
       "      <th>5</th>\n",
       "      <td>91.0</td>\n",
       "      <td>57.0</td>\n",
       "      <td>73.0</td>\n",
       "      <td>74.0</td>\n",
       "      <td>77.0</td>\n",
       "      <td>74.4</td>\n",
       "      <td>74.4</td>\n",
       "      <td>5.418487</td>\n",
       "      <td>59.355869</td>\n",
       "      <td>89.444131</td>\n",
       "    </tr>\n",
       "    <tr>\n",
       "      <th>6</th>\n",
       "      <td>68.0</td>\n",
       "      <td>71.0</td>\n",
       "      <td>67.0</td>\n",
       "      <td>90.0</td>\n",
       "      <td>65.0</td>\n",
       "      <td>72.2</td>\n",
       "      <td>72.2</td>\n",
       "      <td>4.554119</td>\n",
       "      <td>59.555739</td>\n",
       "      <td>84.844261</td>\n",
       "    </tr>\n",
       "    <tr>\n",
       "      <th>7</th>\n",
       "      <td>89.0</td>\n",
       "      <td>65.0</td>\n",
       "      <td>91.0</td>\n",
       "      <td>64.0</td>\n",
       "      <td>68.0</td>\n",
       "      <td>75.4</td>\n",
       "      <td>75.4</td>\n",
       "      <td>6.004998</td>\n",
       "      <td>58.727453</td>\n",
       "      <td>92.072547</td>\n",
       "    </tr>\n",
       "    <tr>\n",
       "      <th>8</th>\n",
       "      <td>64.0</td>\n",
       "      <td>98.0</td>\n",
       "      <td>59.0</td>\n",
       "      <td>74.0</td>\n",
       "      <td>73.0</td>\n",
       "      <td>73.6</td>\n",
       "      <td>73.6</td>\n",
       "      <td>6.712675</td>\n",
       "      <td>54.962628</td>\n",
       "      <td>92.237372</td>\n",
       "    </tr>\n",
       "    <tr>\n",
       "      <th>9</th>\n",
       "      <td>84.0</td>\n",
       "      <td>91.0</td>\n",
       "      <td>56.0</td>\n",
       "      <td>73.0</td>\n",
       "      <td>69.0</td>\n",
       "      <td>74.6</td>\n",
       "      <td>74.6</td>\n",
       "      <td>6.071244</td>\n",
       "      <td>57.743525</td>\n",
       "      <td>91.456475</td>\n",
       "    </tr>\n",
       "    <tr>\n",
       "      <th>10</th>\n",
       "      <td>59.0</td>\n",
       "      <td>70.0</td>\n",
       "      <td>82.0</td>\n",
       "      <td>89.0</td>\n",
       "      <td>79.0</td>\n",
       "      <td>75.8</td>\n",
       "      <td>75.8</td>\n",
       "      <td>5.190376</td>\n",
       "      <td>61.389207</td>\n",
       "      <td>90.210793</td>\n",
       "    </tr>\n",
       "    <tr>\n",
       "      <th>11</th>\n",
       "      <td>65.0</td>\n",
       "      <td>65.0</td>\n",
       "      <td>73.0</td>\n",
       "      <td>73.0</td>\n",
       "      <td>64.0</td>\n",
       "      <td>68.0</td>\n",
       "      <td>68.0</td>\n",
       "      <td>2.049390</td>\n",
       "      <td>62.309981</td>\n",
       "      <td>73.690019</td>\n",
       "    </tr>\n",
       "    <tr>\n",
       "      <th>12</th>\n",
       "      <td>92.0</td>\n",
       "      <td>82.0</td>\n",
       "      <td>70.0</td>\n",
       "      <td>54.0</td>\n",
       "      <td>69.0</td>\n",
       "      <td>73.4</td>\n",
       "      <td>73.4</td>\n",
       "      <td>6.431174</td>\n",
       "      <td>55.544198</td>\n",
       "      <td>91.255802</td>\n",
       "    </tr>\n",
       "    <tr>\n",
       "      <th>13</th>\n",
       "      <td>98.0</td>\n",
       "      <td>91.0</td>\n",
       "      <td>56.0</td>\n",
       "      <td>84.0</td>\n",
       "      <td>100.0</td>\n",
       "      <td>85.8</td>\n",
       "      <td>85.8</td>\n",
       "      <td>7.964923</td>\n",
       "      <td>63.685828</td>\n",
       "      <td>107.914172</td>\n",
       "    </tr>\n",
       "    <tr>\n",
       "      <th>14</th>\n",
       "      <td>69.0</td>\n",
       "      <td>90.0</td>\n",
       "      <td>83.0</td>\n",
       "      <td>83.0</td>\n",
       "      <td>62.0</td>\n",
       "      <td>77.4</td>\n",
       "      <td>77.4</td>\n",
       "      <td>5.143928</td>\n",
       "      <td>63.118165</td>\n",
       "      <td>91.681835</td>\n",
       "    </tr>\n",
       "    <tr>\n",
       "      <th>15</th>\n",
       "      <td>70.0</td>\n",
       "      <td>98.0</td>\n",
       "      <td>62.0</td>\n",
       "      <td>65.0</td>\n",
       "      <td>74.0</td>\n",
       "      <td>73.8</td>\n",
       "      <td>73.8</td>\n",
       "      <td>6.390618</td>\n",
       "      <td>56.056800</td>\n",
       "      <td>91.543200</td>\n",
       "    </tr>\n",
       "    <tr>\n",
       "      <th>16</th>\n",
       "      <td>80.0</td>\n",
       "      <td>64.0</td>\n",
       "      <td>75.0</td>\n",
       "      <td>62.0</td>\n",
       "      <td>78.0</td>\n",
       "      <td>71.8</td>\n",
       "      <td>71.8</td>\n",
       "      <td>3.693237</td>\n",
       "      <td>61.545930</td>\n",
       "      <td>82.054070</td>\n",
       "    </tr>\n",
       "    <tr>\n",
       "      <th>17</th>\n",
       "      <td>89.0</td>\n",
       "      <td>74.0</td>\n",
       "      <td>85.0</td>\n",
       "      <td>97.0</td>\n",
       "      <td>55.0</td>\n",
       "      <td>80.0</td>\n",
       "      <td>80.0</td>\n",
       "      <td>7.266361</td>\n",
       "      <td>59.825348</td>\n",
       "      <td>100.174652</td>\n",
       "    </tr>\n",
       "    <tr>\n",
       "      <th>18</th>\n",
       "      <td>83.0</td>\n",
       "      <td>73.0</td>\n",
       "      <td>69.0</td>\n",
       "      <td>81.0</td>\n",
       "      <td>68.0</td>\n",
       "      <td>74.8</td>\n",
       "      <td>74.8</td>\n",
       "      <td>3.072458</td>\n",
       "      <td>66.269488</td>\n",
       "      <td>83.330512</td>\n",
       "    </tr>\n",
       "    <tr>\n",
       "      <th>19</th>\n",
       "      <td>62.0</td>\n",
       "      <td>69.0</td>\n",
       "      <td>72.0</td>\n",
       "      <td>56.0</td>\n",
       "      <td>92.0</td>\n",
       "      <td>70.2</td>\n",
       "      <td>70.2</td>\n",
       "      <td>6.118823</td>\n",
       "      <td>53.211423</td>\n",
       "      <td>87.188577</td>\n",
       "    </tr>\n",
       "    <tr>\n",
       "      <th>20</th>\n",
       "      <td>81.0</td>\n",
       "      <td>91.0</td>\n",
       "      <td>76.0</td>\n",
       "      <td>74.0</td>\n",
       "      <td>73.0</td>\n",
       "      <td>79.0</td>\n",
       "      <td>79.0</td>\n",
       "      <td>3.301515</td>\n",
       "      <td>69.833525</td>\n",
       "      <td>88.166475</td>\n",
       "    </tr>\n",
       "    <tr>\n",
       "      <th>21</th>\n",
       "      <td>69.0</td>\n",
       "      <td>76.0</td>\n",
       "      <td>71.0</td>\n",
       "      <td>78.0</td>\n",
       "      <td>67.0</td>\n",
       "      <td>72.2</td>\n",
       "      <td>72.2</td>\n",
       "      <td>2.083267</td>\n",
       "      <td>66.415924</td>\n",
       "      <td>77.984076</td>\n",
       "    </tr>\n",
       "    <tr>\n",
       "      <th>22</th>\n",
       "      <td>72.0</td>\n",
       "      <td>65.0</td>\n",
       "      <td>77.0</td>\n",
       "      <td>82.0</td>\n",
       "      <td>74.0</td>\n",
       "      <td>74.0</td>\n",
       "      <td>74.0</td>\n",
       "      <td>2.810694</td>\n",
       "      <td>66.196263</td>\n",
       "      <td>81.803737</td>\n",
       "    </tr>\n",
       "    <tr>\n",
       "      <th>23</th>\n",
       "      <td>74.0</td>\n",
       "      <td>73.0</td>\n",
       "      <td>100.0</td>\n",
       "      <td>67.0</td>\n",
       "      <td>73.0</td>\n",
       "      <td>77.4</td>\n",
       "      <td>77.4</td>\n",
       "      <td>5.784462</td>\n",
       "      <td>61.339759</td>\n",
       "      <td>93.460241</td>\n",
       "    </tr>\n",
       "    <tr>\n",
       "      <th>24</th>\n",
       "      <td>67.0</td>\n",
       "      <td>72.0</td>\n",
       "      <td>74.0</td>\n",
       "      <td>76.0</td>\n",
       "      <td>82.0</td>\n",
       "      <td>74.2</td>\n",
       "      <td>74.2</td>\n",
       "      <td>2.457641</td>\n",
       "      <td>67.376494</td>\n",
       "      <td>81.023506</td>\n",
       "    </tr>\n",
       "  </tbody>\n",
       "</table>\n",
       "</div>"
      ],
      "text/plain": [
       "      x1    x2     x3    x4     x5  mean  Mean       SEM         LB  \\\n",
       "0   75.0  61.0   66.0  75.0   84.0  72.2  72.2  3.992493  61.115062   \n",
       "1   72.0  81.0   91.0  75.0   91.0  82.0  82.0  3.949684  71.033920   \n",
       "2   64.0  74.0   74.0  71.0   79.0  72.4  72.4  2.461707  65.565206   \n",
       "3   76.0  74.0   69.0  99.0   70.0  77.6  77.6  5.500909  62.327028   \n",
       "4   90.0  74.0   97.0  65.0   77.0  80.6  80.6  5.732364  64.684405   \n",
       "5   91.0  57.0   73.0  74.0   77.0  74.4  74.4  5.418487  59.355869   \n",
       "6   68.0  71.0   67.0  90.0   65.0  72.2  72.2  4.554119  59.555739   \n",
       "7   89.0  65.0   91.0  64.0   68.0  75.4  75.4  6.004998  58.727453   \n",
       "8   64.0  98.0   59.0  74.0   73.0  73.6  73.6  6.712675  54.962628   \n",
       "9   84.0  91.0   56.0  73.0   69.0  74.6  74.6  6.071244  57.743525   \n",
       "10  59.0  70.0   82.0  89.0   79.0  75.8  75.8  5.190376  61.389207   \n",
       "11  65.0  65.0   73.0  73.0   64.0  68.0  68.0  2.049390  62.309981   \n",
       "12  92.0  82.0   70.0  54.0   69.0  73.4  73.4  6.431174  55.544198   \n",
       "13  98.0  91.0   56.0  84.0  100.0  85.8  85.8  7.964923  63.685828   \n",
       "14  69.0  90.0   83.0  83.0   62.0  77.4  77.4  5.143928  63.118165   \n",
       "15  70.0  98.0   62.0  65.0   74.0  73.8  73.8  6.390618  56.056800   \n",
       "16  80.0  64.0   75.0  62.0   78.0  71.8  71.8  3.693237  61.545930   \n",
       "17  89.0  74.0   85.0  97.0   55.0  80.0  80.0  7.266361  59.825348   \n",
       "18  83.0  73.0   69.0  81.0   68.0  74.8  74.8  3.072458  66.269488   \n",
       "19  62.0  69.0   72.0  56.0   92.0  70.2  70.2  6.118823  53.211423   \n",
       "20  81.0  91.0   76.0  74.0   73.0  79.0  79.0  3.301515  69.833525   \n",
       "21  69.0  76.0   71.0  78.0   67.0  72.2  72.2  2.083267  66.415924   \n",
       "22  72.0  65.0   77.0  82.0   74.0  74.0  74.0  2.810694  66.196263   \n",
       "23  74.0  73.0  100.0  67.0   73.0  77.4  77.4  5.784462  61.339759   \n",
       "24  67.0  72.0   74.0  76.0   82.0  74.2  74.2  2.457641  67.376494   \n",
       "\n",
       "            UB  \n",
       "0    83.284938  \n",
       "1    92.966080  \n",
       "2    79.234794  \n",
       "3    92.872972  \n",
       "4    96.515595  \n",
       "5    89.444131  \n",
       "6    84.844261  \n",
       "7    92.072547  \n",
       "8    92.237372  \n",
       "9    91.456475  \n",
       "10   90.210793  \n",
       "11   73.690019  \n",
       "12   91.255802  \n",
       "13  107.914172  \n",
       "14   91.681835  \n",
       "15   91.543200  \n",
       "16   82.054070  \n",
       "17  100.174652  \n",
       "18   83.330512  \n",
       "19   87.188577  \n",
       "20   88.166475  \n",
       "21   77.984076  \n",
       "22   81.803737  \n",
       "23   93.460241  \n",
       "24   81.023506  "
      ]
     },
     "execution_count": 280,
     "metadata": {},
     "output_type": "execute_result"
    }
   ],
   "source": [
    "#Challenge 2.2 Generate a table similar to slide 20 USING THE dBP data for 10 samples each of size 5, \n",
    "\n",
    "\n",
    "# Store in a nice table (Pandas Dataframe will do)\n",
    "import pandas as pd  \n",
    "import random\n",
    "\n",
    "random.seed(4)  #repeatable outcome\n",
    "\n",
    "n = 5\n",
    "\n",
    "iterations = 25   # 9      ###<<<<   change this for challenge 2.3\n",
    "\n",
    "dBP_samples_list = [ random.sample(list(dBP), n) for i in range(iterations) ]\n",
    "\n",
    "column_names = {0:'x1', 1:'x2', 2:'x3', 3:'x4', 4:'x5'}\n",
    "\n",
    "#push data to dataframe\n",
    "dBP_samples_df = pd.DataFrame(dBP_samples_list, dtype = float)\n",
    "\n",
    "#rename columns\n",
    "dBP_samples_df.rename( columns = column_names, inplace=True)\n",
    "\n",
    "#add sample mean column\n",
    "dBP_samples_df['mean'] = dBP_samples_df.mean(axis=1)\n",
    "\n",
    "\n",
    "# Print only Sample, Mean, SEM, LB, and UB values\n",
    "\n",
    "## Apply funcution to dataframe\n",
    "\n",
    "#copy the dataframe\n",
    "dBP_samples_df_slide20 = dBP_samples_df.copy()\n",
    "\n",
    "\n",
    "# Apply over all columns x1:x5\n",
    "ci_column_names = [\"Mean\", \"SEM\",  \"LB\", \"UB\"]\n",
    "\n",
    "##  Next We apply the function to the dataframe\n",
    "## See pandas.DataFrame.apply for examples -- \n",
    "#            https://pandas.pydata.org/pandas-docs/stable/reference/api/pandas.DataFrame.apply.html \n",
    "#            https://thispointer.com/pandas-apply-a-function-to-single-or-selected-columns-or-rows-in-dataframe/\n",
    "c = dBP_samples_df_slide20.iloc[:,:5].apply(mean_confidence_interval, axis=1)\n",
    "\n",
    "dBP_samples_df_slide20[ci_column_names] = pd.DataFrame(list(c.values))       # Take a note of this trick. List is always the way to go\n",
    "\n",
    "print(\"\\n\\n  type(dBP_samples_df_slide20) is : %s\\n--\\n\\nContent:\" % (type(dBP_samples_df_slide20)))\n",
    "dBP_samples_df_slide20"
   ]
  },
  {
   "cell_type": "code",
   "execution_count": 20,
   "metadata": {},
   "outputs": [],
   "source": [
    "#Challenge 2.3 Expand on challenge 2.2 by increasing each of the 10 samples from \n",
    "#              (i) 5 to 15 random dBP values\n",
    "#              (i) 5 to 25 random dBP values\n",
    "#              (i) 5 to 50 random dBP values\n",
    "\n",
    "# This time, Print only Sample_size, Mean, SEM, LB, and UB values, and document any \n",
    "# interesting findings you may observation\n",
    "\n",
    "\n",
    "#iterations = 9      ###<<<<   change this in challenge 2.2 for challenge 2.3"
   ]
  },
  {
   "cell_type": "code",
   "execution_count": 32,
   "metadata": {},
   "outputs": [
    {
     "name": "stdout",
     "output_type": "stream",
     "text": [
      "\n",
      " Number of samples with mean == mean(dBP) = 1\n",
      "---\n",
      "\n"
     ]
    },
    {
     "data": {
      "text/html": [
       "<div>\n",
       "<style scoped>\n",
       "    .dataframe tbody tr th:only-of-type {\n",
       "        vertical-align: middle;\n",
       "    }\n",
       "\n",
       "    .dataframe tbody tr th {\n",
       "        vertical-align: top;\n",
       "    }\n",
       "\n",
       "    .dataframe thead th {\n",
       "        text-align: right;\n",
       "    }\n",
       "</style>\n",
       "<table border=\"1\" class=\"dataframe\">\n",
       "  <thead>\n",
       "    <tr style=\"text-align: right;\">\n",
       "      <th></th>\n",
       "      <th>x1</th>\n",
       "      <th>x2</th>\n",
       "      <th>x3</th>\n",
       "      <th>x4</th>\n",
       "      <th>x5</th>\n",
       "      <th>mean</th>\n",
       "      <th>Mean</th>\n",
       "      <th>SEM</th>\n",
       "      <th>LB</th>\n",
       "      <th>UB</th>\n",
       "    </tr>\n",
       "  </thead>\n",
       "  <tbody>\n",
       "    <tr>\n",
       "      <th>10</th>\n",
       "      <td>59.0</td>\n",
       "      <td>70.0</td>\n",
       "      <td>82.0</td>\n",
       "      <td>89.0</td>\n",
       "      <td>79.0</td>\n",
       "      <td>75.8</td>\n",
       "      <td>75.8</td>\n",
       "      <td>5.190376</td>\n",
       "      <td>61.389207</td>\n",
       "      <td>90.210793</td>\n",
       "    </tr>\n",
       "  </tbody>\n",
       "</table>\n",
       "</div>"
      ],
      "text/plain": [
       "      x1    x2    x3    x4    x5  mean  Mean       SEM         LB         UB\n",
       "10  59.0  70.0  82.0  89.0  79.0  75.8  75.8  5.190376  61.389207  90.210793"
      ]
     },
     "execution_count": 32,
     "metadata": {},
     "output_type": "execute_result"
    }
   ],
   "source": [
    "# Challenge 2.4: Find how many time the mean is included in the sample means in either challenge 2.2 or 2.3\n",
    "\n",
    "dp= 0\n",
    "\n",
    "print(\"\\n Number of samples with mean == mean(dBP) = %d\\n---\\n\" % len(dBP_samples_df_slide20[ round(dBP_samples_df_slide20['Mean'], dp) ==  round(np.mean(dBP), dp) ] ) )\n",
    "\n",
    "dBP_samples_df_slide20[ round(dBP_samples_df_slide20['Mean'], dp) ==  round(np.mean(dBP), dp) ]"
   ]
  },
  {
   "cell_type": "markdown",
   "metadata": {},
   "source": [
    "<hr style=\"border:0.1px solid gray; width: 25%;\" />\n",
    "\n",
    "<b style=\"font-size:40px; color:#822c97\">References</b>\n",
    "\n",
    "* <https://pynative.com/python-random-sample/>\n",
    "    \n",
    "* <https://note.nkmk.me/en/python-random-choice-sample-choices/>\n",
    "\n",
    "    \n",
    "    \n",
    "<p /><p />\n",
    "\n",
    "<hr style=\"border:0.1px solid #822c97; width: 50%;\" />\n",
    "\n",
    "<center><b style=\"font-size:25px; color:##556B2F\">CONGRATULATION!!!<br>YOU HAVE SUCCESSFULLY COMPLETED CODE ALONG <br />TASK 2 FOR MODULE 3 Day 1</b></center>\n",
    "\n",
    "\n"
   ]
  },
  {
   "cell_type": "code",
   "execution_count": null,
   "metadata": {},
   "outputs": [],
   "source": []
  },
  {
   "cell_type": "markdown",
   "metadata": {},
   "source": [
    "<a id=\"slide28\"></a>\n",
    "\n",
    "<hr style=\"color:#FE0000;border:0.5px solid red\" />\n",
    "\n",
    "\n",
    "### 3.  Hypothesis Testing \n",
    "\n",
    "\n",
    "\n",
    "<a id=\"slide33\"></a>\n",
    "\n",
    "#### 3.A  t-test for difference in two independent means\n",
    "\n",
    "<p />\n",
    "\n",
    "We will be using information provided on <b style=\"font-size:15px; color:#FE0000;\"><em>slides 28 through 39</em></b> to complete **Task 3A** for Module 3 Day 2\n",
    "\n",
    "\n",
    "####  Recall: Table on  <b style=\"font-size:15px; color:#FE0000;\"><em> Slide 28</em><b/>\n",
    "<p \\>\n",
    " \n",
    "<center><img src=\"Figures/slide34.PNG\" style=\"float: center; height: 360px\"></center>\n",
    "\n"
   ]
  },
  {
   "cell_type": "code",
   "execution_count": 281,
   "metadata": {},
   "outputs": [
    {
     "data": {
      "text/plain": [
       "{'Treatment': 0    80\n",
       " 1    88\n",
       " 2    76\n",
       " 3    77\n",
       " 4    84\n",
       " dtype: int64,\n",
       " 'Control': 0    84\n",
       " 1    90\n",
       " 2    86\n",
       " 3    77\n",
       " 4    93\n",
       " dtype: int64}"
      ]
     },
     "execution_count": 281,
     "metadata": {},
     "output_type": "execute_result"
    }
   ],
   "source": [
    "frame = { 'Treatment': Treatment_series, 'Control': Control_series } \n",
    "frame"
   ]
  },
  {
   "cell_type": "code",
   "execution_count": 282,
   "metadata": {},
   "outputs": [
    {
     "name": "stdout",
     "output_type": "stream",
     "text": [
      "   Treatment  Control\n",
      "0         80       84\n",
      "1         88       90\n",
      "2         76       86\n",
      "3         77       77\n",
      "4         84       93\n"
     ]
    },
    {
     "data": {
      "image/png": "[encoded data removed]",
      "text/plain": [
       "<Figure size 432x288 with 1 Axes>"
      ]
     },
     "metadata": {
      "needs_background": "light"
     },
     "output_type": "display_data"
    }
   ],
   "source": [
    "#3a Compute t-test for difference in two independent means shown on slide 34 \n",
    "\n",
    "\n",
    "# Improt libraries\n",
    "import pandas as pd\n",
    "import numpy as np\n",
    "import matplotlib.pyplot as plt\n",
    "import seaborn as sns\n",
    "\n",
    "#Given data\n",
    "Treatment = [80,  88,  76,  77,  84]       # Mean = 81\n",
    "Control   = [84,  90,  86,  77,  93]       # Mean = 86\n",
    "\n",
    "#Generating a Pandas DataFrame for the 2 groups\n",
    "Treatment_series = pd.Series(Treatment) \n",
    "Control_series = pd.Series(Control) \n",
    "  \n",
    "frame = { 'Treatment': Treatment_series, 'Control': Control_series } \n",
    "\n",
    "# Resulting Dataframe\n",
    "data = pd.DataFrame(frame) \n",
    "\n",
    "#------------\n",
    "#Print resulting dataframe\n",
    "print(data) \n",
    "\n",
    "#--------------\n",
    "#Plot a density plot on Treatment and Contril datasets\n",
    "# We plot data on graph\n",
    "\n",
    "import pandas as pd \n",
    "import matplotlib.pyplot as plt \n",
    "  \n",
    "data.plot.bar() \n",
    "plt.show() \n",
    "\n"
   ]
  },
  {
   "cell_type": "code",
   "execution_count": 283,
   "metadata": {},
   "outputs": [
    {
     "name": "stderr",
     "output_type": "stream",
     "text": [
      "C:\\ProgramData\\Anaconda3\\envs\\thesis_tensorflow_cpu_gpu_2_2_0_9_21_2020\\lib\\site-packages\\seaborn\\distributions.py:2557: FutureWarning: `distplot` is a deprecated function and will be removed in a future version. Please adapt your code to use either `displot` (a figure-level function with similar flexibility) or `histplot` (an axes-level function for histograms).\n",
      "  warnings.warn(msg, FutureWarning)\n",
      "C:\\ProgramData\\Anaconda3\\envs\\thesis_tensorflow_cpu_gpu_2_2_0_9_21_2020\\lib\\site-packages\\seaborn\\distributions.py:2557: FutureWarning: `distplot` is a deprecated function and will be removed in a future version. Please adapt your code to use either `displot` (a figure-level function with similar flexibility) or `histplot` (an axes-level function for histograms).\n",
      "  warnings.warn(msg, FutureWarning)\n"
     ]
    },
    {
     "data": {
      "text/plain": [
       "<AxesSubplot:xlabel='Control', ylabel='Density'>"
      ]
     },
     "execution_count": 283,
     "metadata": {},
     "output_type": "execute_result"
    },
    {
     "data": {
      "image/png": "[encoded data removed]",
      "text/plain": [
       "<Figure size 842.4x595.44 with 2 Axes>"
      ]
     },
     "metadata": {
      "needs_background": "light"
     },
     "output_type": "display_data"
    }
   ],
   "source": [
    "#----\n",
    "##// alternatively\n",
    "# Let’s plot the distribution of Treatment and control groups:\n",
    "import seaborn as sns\n",
    "\n",
    "#increase fifure size\n",
    "a4_dims = (11.7, 8.27)\n",
    "\n",
    "\n",
    "#Multiply (2) plots on 1 figure\n",
    "fig, axs = plt.subplots(ncols=2, figsize=a4_dims)\n",
    "\n",
    "sns.distplot(data.Treatment, ax=axs[0])\n",
    "sns.distplot(data.Control, ax=axs[1])\n",
    "\n"
   ]
  },
  {
   "cell_type": "code",
   "execution_count": 284,
   "metadata": {},
   "outputs": [
    {
     "name": "stdout",
     "output_type": "stream",
     "text": [
      "\n",
      "\n",
      "  Treatment data: [80 88 76 77 84]  |  Control data: [84 90 86 77 93] |   t-stat: -1.41421    |   p-value: 0.19502\n",
      "---\n",
      "\n",
      "\n"
     ]
    }
   ],
   "source": [
    "#Compute a 95% 2-Tail z-test for the difference in Population Proportoertions\n",
    "import scipy.stats as ss\n",
    "\n",
    "# At last, we will perform the t-test -- test the sample means\n",
    "\n",
    "t_stat, p_val= ss.ttest_ind(data.Treatment, data.Control)\n",
    "\n",
    "print(\"\\n\\n  Treatment data: %s  |  Control data: %s |   t-stat: %.5f    |   p-value: %.5f\\n---\\n\\n\" \\\n",
    "      % ( data.Treatment.values, data.Control.values, t_stat, p_val) )\n",
    "\n",
    "#----\n",
    "#State the outcome of your test under H0\n"
   ]
  },
  {
   "cell_type": "code",
   "execution_count": 285,
   "metadata": {},
   "outputs": [],
   "source": [
    "?ss.ttest_ind"
   ]
  },
  {
   "cell_type": "markdown",
   "metadata": {},
   "source": [
    "Question: So what does all this mean for our $H_0/H_1$ Testing?  \n",
    "\n",
    "### Checheck your response against instructor's PowerPoint **slide 36**\n",
    "\n",
    "* Here, our p-value is **GREATER THAN the significance level i.e 0.05**. \n",
    "\n",
    "* Hence, we can fail to reject the null hypothesis. \n",
    "\n",
    "* This means `There is no difference between the means of the Treatment and Control groups (i.e., chance)`\n",
    " "
   ]
  },
  {
   "cell_type": "code",
   "execution_count": null,
   "metadata": {},
   "outputs": [],
   "source": []
  },
  {
   "cell_type": "markdown",
   "metadata": {},
   "source": [
    "<a id=\"slide39\"></a>\n",
    "\n",
    "\n",
    "#### 3B.  Diffences in independed proportions ($\\chi^2$)\n",
    "\n",
    "<p />\n",
    "\n",
    "We will be using information provided on <b style=\"font-size:15px; color:#FE0000;\"><em>slide 39</em></b> to complete **Task 3B** for Module 3 Day 2\n",
    "\n",
    "\n",
    "####  Recall: Table on  <b style=\"font-size:15px; color:#FE0000;\"><em> Slide 39</em><b/>\n",
    "<p \\>\n",
    " \n",
    "<center><img src=\"Figures/slide39.PNG\" style=\"float: center; height: 360px\"></center>\n",
    "\n",
    "\n"
   ]
  },
  {
   "cell_type": "code",
   "execution_count": 286,
   "metadata": {},
   "outputs": [
    {
     "name": "stdout",
     "output_type": "stream",
     "text": [
      "\n",
      "z = 2.0014      |    p = 0.0454 (two-sided)\n",
      "---\n",
      "\n",
      "\n"
     ]
    }
   ],
   "source": [
    "import numpy as np\n",
    "from statsmodels.stats.proportion import proportions_ztest\n",
    "\n",
    "#Using the observation on slide 39, compute the z-test of diffences in proportions for the 2 samples\n",
    "\n",
    "#                 A    B\n",
    "count = np.array([84,  72])\n",
    "nobs = np.array([184,  202])\n",
    "\n",
    "#ztest\n",
    "stat, pval = proportions_ztest(count, nobs)\n",
    "print(\"\\nz = %.4f      |    p = %.4f (two-sided)\\n---\\n\\n\" % (stat, pval))"
   ]
  },
  {
   "cell_type": "code",
   "execution_count": null,
   "metadata": {},
   "outputs": [],
   "source": []
  },
  {
   "cell_type": "markdown",
   "metadata": {},
   "source": [
    "<a id=\"slide42\"></a>\n",
    "\n",
    "\n",
    "#### 3.C  Chi Square ($\\chi^2$)\n",
    "\n",
    "<p />\n",
    "\n",
    "We will be using information provided on <b style=\"font-size:15px; color:#FE0000;\"><em>slide 42</em></b> to complete **Task 3C** for Module 3 Day 2\n",
    "\n",
    "\n",
    "####  Recall: Table on  <b style=\"font-size:15px; color:#FE0000;\"><em> Slide 28</em><b/>\n",
    "<p \\>\n",
    " \n",
    "<center><img src=\"Figures/Slide42.PNG\" style=\"float: center; height: 280px\"></center>\n"
   ]
  },
  {
   "cell_type": "code",
   "execution_count": 287,
   "metadata": {},
   "outputs": [
    {
     "data": {
      "text/plain": [
       "4.005452239276572"
      ]
     },
     "execution_count": 287,
     "metadata": {},
     "output_type": "execute_result"
    }
   ],
   "source": [
    "# That is:\n",
    "E1 = 184*156/386; E2 = 184*230/386; E3 = 202*156/386; E4 = 202*230/386\n",
    "chi2 = 1/E1*(84-E1)**2  +  1/E2*(100-E2)**2  +  1/E3*(72-E3)**2  +  1/E4*(130-E4)**2\n",
    "chi2"
   ]
  },
  {
   "cell_type": "code",
   "execution_count": 289,
   "metadata": {},
   "outputs": [
    {
     "data": {
      "text/plain": [
       "array([[ 84, 100],\n",
       "       [ 72, 130]])"
      ]
     },
     "execution_count": 289,
     "metadata": {},
     "output_type": "execute_result"
    }
   ],
   "source": [
    "np.array([\n",
    "    [ 84, 100],\n",
    "    [ 72, 130]\n",
    "])"
   ]
  },
  {
   "cell_type": "code",
   "execution_count": 290,
   "metadata": {},
   "outputs": [
    {
     "name": "stdout",
     "output_type": "stream",
     "text": [
      "\n",
      " Col sums: [156 230]   | Row sums: [184 202]   |   Row and Col sum: 386\n"
     ]
    }
   ],
   "source": [
    "#3c Verify the chi square value computed on slide 42\n",
    "import numpy as np\n",
    "from scipy import stats\n",
    "\n",
    "#data for the contingency table\n",
    "table = np.array([\n",
    "    [ 84, 100],\n",
    "    [ 72, 130]\n",
    "])\n",
    "\n",
    "#table_col_sum = ???\n",
    "#table_row_sum = ???\n",
    "#table_sum = ???\n",
    "\n",
    "table_col_sum = np.sum(table, axis=0)      #array([156, 230])          \n",
    "table_row_sum = np.sum(table, axis=1)      #array([184, 202])\n",
    "table_sum = np.sum(table) \n",
    "\n",
    "\n",
    "print(\"\\n Col sums: %s   | Row sums: %s   |   Row and Col sum: %s\" %\\\n",
    "      (table_col_sum, table_row_sum, table_sum))\n",
    "\n"
   ]
  },
  {
   "cell_type": "code",
   "execution_count": null,
   "metadata": {},
   "outputs": [],
   "source": []
  },
  {
   "cell_type": "code",
   "execution_count": 291,
   "metadata": {},
   "outputs": [
    {
     "name": "stdout",
     "output_type": "stream",
     "text": [
      "[ 74.3626943 109.6373057  81.6373057 120.3626943]\n",
      "\n",
      " Chi Square test statistics: \n",
      "[1.24898193 0.84713557 1.13768651 0.77164824]   |  ChiSq-value: 4.005   | P-value: 0.0454  \n",
      "\n",
      "\n"
     ]
    }
   ],
   "source": [
    "#--\n",
    "#Compute E\n",
    "#                E1           E2           E3           E4\n",
    "#E = [ 74.3626943 109.6373057  81.6373057 120.3626943]\n",
    "E = ([ table_col_sum * table_row_sum[0], table_col_sum * table_row_sum[1] ] / table_sum ).reshape(-1)\n",
    "print(E)\n",
    "\n",
    "#Pupulate array for Chi Sq vaules shown on slide 42\n",
    "ChiSq_array = (table.reshape(-1) - E)**2\n",
    "\n",
    "#Compuite and print Chi Square test statistic\n",
    "#ChiSq = ???\n",
    "\n",
    "ChiSq= ChiSq_array * 1/E\n",
    "\n",
    "#the actual value\n",
    "sum_ChiSq = (np.sum(ChiSq))\n",
    "\n",
    "#P-value from Chi sq test statistic in Python\n",
    "p = 1-stats.chi2.cdf(np.sum(ChiSq), 1)\n",
    "\n",
    "print(\"\\n Chi Square test statistics: \\n%s   |  ChiSq-value: %.3f   | P-value: %.4f  \\n\\n\" % ( ChiSq, sum_ChiSq, p))  \n",
    " \n"
   ]
  },
  {
   "cell_type": "code",
   "execution_count": null,
   "metadata": {},
   "outputs": [],
   "source": []
  },
  {
   "cell_type": "markdown",
   "metadata": {},
   "source": [
    "    \n",
    "<hr style=\"border:0.1px solid gray; width: 25%;\" />\n",
    "\n",
    "<b style=\"font-size:40px; color:#822c97\">References</b>\n",
    "\n",
    "* <https://pynative.com/python-random-sample/>\n",
    "    \n",
    "* <https://note.nkmk.me/en/python-random-choice-sample-choices/>\n",
    "\n",
    "* <https://docs.scipy.org/doc/scipy/reference/generated/scipy.stats.ttest_ind.html>\n",
    "* <https://machinelearningmastery.com/how-to-code-the-students-t-test-from-scratch-in-python/>\n",
    "* <https://towardsdatascience.com/inferential-statistics-series-t-test-using-numpy-2718f8f9bf2f>\n",
    "\n",
    "* [Python code: From Hypothesis Test to Online Experiments with Business cases](https://towardsdatascience.com/python-code-from-hypothesis-test-to-online-experiments-with-buiness-cases-e0597c6d1ec)\n",
    "\n",
    "* [A/B Testing for Data Science using Python – A Must-Read Guide for Data Scientists](https://www.analyticsvidhya.com/blog/2020/10/ab-testing-data-science/)\n",
    "\n",
    "* [Dsc Type 1 And 2 Error Lab](https://learn.co/lessons/dsc-type-1-and-2-error-lab)\n",
    "\n",
    "* [statsmodels.stats.proportion.proportions_ztest](https://www.statsmodels.org/stable/examples/index.html)\n",
    "\n",
    "* [Hypothesis Testing of proportion-based samples](https://sonalake.com/latest/hypothesis-testing-of-proportion-based-samples/)\n",
    "    \n",
    "    \n",
    "<p /><p />\n",
    "\n",
    "<hr style=\"border:0.1px solid #822c97; width: 50%;\" />\n",
    "\n",
    "<center><b style=\"font-size:25px; color:##556B2F\">CONGRATULATION!!!<br>YOU HAVE SUCCESSFULLY COMPLETED CODE ALONG <br />TASK 3 FOR MODULE 3 Day 2</b></center>\n",
    "\n",
    "\n"
   ]
  },
  {
   "cell_type": "markdown",
   "metadata": {},
   "source": [
    "<a id=\"slide49\"></a>\n",
    "\n",
    "\n",
    "#### 4 Statistical Methods\n",
    "\n",
    "<p />\n",
    "\n",
    "We will be using information provided on <b style=\"font-size:15px; color:#FE0000;\"><em>slides 51 through 54</em></b> to complete **Task 4** for Module 3 Day 2\n",
    "\n",
    "\n",
    "####  Recall: Table on  <b style=\"font-size:15px; color:#FE0000;\"><em> Slides 51 through 54</em><b/>\n",
    "<p \\>\n",
    " \n",
    "<center><img src=\"Figures/slide51-54.PNG\" style=\"float: center; height: 640px\"></center>"
   ]
  },
  {
   "cell_type": "code",
   "execution_count": 294,
   "metadata": {},
   "outputs": [
    {
     "data": {
      "text/html": [
       "<div>\n",
       "<style scoped>\n",
       "    .dataframe tbody tr th:only-of-type {\n",
       "        vertical-align: middle;\n",
       "    }\n",
       "\n",
       "    .dataframe tbody tr th {\n",
       "        vertical-align: top;\n",
       "    }\n",
       "\n",
       "    .dataframe thead th {\n",
       "        text-align: right;\n",
       "    }\n",
       "</style>\n",
       "<table border=\"1\" class=\"dataframe\">\n",
       "  <thead>\n",
       "    <tr style=\"text-align: right;\">\n",
       "      <th></th>\n",
       "      <th>PT</th>\n",
       "      <th>Cholesterol</th>\n",
       "      <th>Weight</th>\n",
       "      <th>Age</th>\n",
       "    </tr>\n",
       "  </thead>\n",
       "  <tbody>\n",
       "    <tr>\n",
       "      <th>0</th>\n",
       "      <td>1</td>\n",
       "      <td>354</td>\n",
       "      <td>84</td>\n",
       "      <td>46</td>\n",
       "    </tr>\n",
       "    <tr>\n",
       "      <th>1</th>\n",
       "      <td>2</td>\n",
       "      <td>190</td>\n",
       "      <td>73</td>\n",
       "      <td>20</td>\n",
       "    </tr>\n",
       "    <tr>\n",
       "      <th>2</th>\n",
       "      <td>3</td>\n",
       "      <td>405</td>\n",
       "      <td>65</td>\n",
       "      <td>52</td>\n",
       "    </tr>\n",
       "  </tbody>\n",
       "</table>\n",
       "</div>"
      ],
      "text/plain": [
       "   PT  Cholesterol  Weight  Age\n",
       "0   1          354      84   46\n",
       "1   2          190      73   20\n",
       "2   3          405      65   52"
      ]
     },
     "metadata": {},
     "output_type": "display_data"
    }
   ],
   "source": [
    "#4.1 use pd.read_csv the patients dataset in \"Data.xls\" to create a Data_df dataframe\n",
    "import pandas as pd\n",
    "\n",
    "# create a HowardData_df dataframe from the \"HowardData.xls\", sheet_name=0\n",
    "Data_df = pd.read_excel(\"Data.xls\", sheet_name=1)\n",
    "display(Data_df.head(n=3))\n",
    "\n"
   ]
  },
  {
   "cell_type": "code",
   "execution_count": 295,
   "metadata": {},
   "outputs": [
    {
     "data": {
      "text/plain": [
       "pandas.core.frame.DataFrame"
      ]
     },
     "execution_count": 295,
     "metadata": {},
     "output_type": "execute_result"
    }
   ],
   "source": [
    "type(Data_df)"
   ]
  },
  {
   "cell_type": "code",
   "execution_count": 297,
   "metadata": {},
   "outputs": [
    {
     "data": {
      "text/plain": [
       "array([46, 20, 52, 30, 57, 25, 28, 36, 57, 44, 24, 31, 52, 23, 60, 48, 34,\n",
       "       51, 50, 34, 46, 23, 37, 40, 30], dtype=int64)"
      ]
     },
     "execution_count": 297,
     "metadata": {},
     "output_type": "execute_result"
    }
   ],
   "source": [
    "Data_df['Age'].values"
   ]
  },
  {
   "cell_type": "code",
   "execution_count": 300,
   "metadata": {},
   "outputs": [],
   "source": [
    "#Data_df['Age'].values.reshape(-1, 1)"
   ]
  },
  {
   "cell_type": "code",
   "execution_count": 139,
   "metadata": {},
   "outputs": [
    {
     "name": "stdout",
     "output_type": "stream",
     "text": [
      "\n",
      "---\n",
      "X = [[46]\n",
      " [20]\n",
      " [52]\n",
      " [30]\n",
      " [57]\n",
      " [25]\n",
      " [28]\n",
      " [36]\n",
      " [57]\n",
      " [44]\n",
      " [24]\n",
      " [31]\n",
      " [52]\n",
      " [23]\n",
      " [60]\n",
      " [48]\n",
      " [34]\n",
      " [51]\n",
      " [50]\n",
      " [34]\n",
      " [46]\n",
      " [23]\n",
      " [37]\n",
      " [40]\n",
      " [30]]\n",
      "\n",
      "Class(X): <class 'numpy.ndarray'>\n",
      "\n",
      "---\n",
      "y = [[354]\n",
      " [190]\n",
      " [405]\n",
      " [263]\n",
      " [451]\n",
      " [302]\n",
      " [288]\n",
      " [385]\n",
      " [402]\n",
      " [365]\n",
      " [209]\n",
      " [290]\n",
      " [346]\n",
      " [254]\n",
      " [395]\n",
      " [434]\n",
      " [220]\n",
      " [374]\n",
      " [308]\n",
      " [220]\n",
      " [311]\n",
      " [181]\n",
      " [274]\n",
      " [303]\n",
      " [244]]\n",
      "\n",
      "Class(X): <class 'numpy.ndarray'>\n"
     ]
    }
   ],
   "source": [
    "#Challenge 4A Fit a linear model to the dataset\n",
    "\n",
    "### Building a Linear Regression Model in sklearn\n",
    "# Create X and y.\n",
    "\n",
    "#For 1 column data\n",
    "X = Data_df['Age'].values.reshape(-1, 1)\n",
    "y = Data_df['Cholesterol'].values.reshape(-1, 1)\n",
    "\n",
    "\n",
    "# Explore X and y\n",
    "print(\"\\n---\\nX = %s\" % X)\n",
    "print(\"\\nClass(X): %s\" % type(X))\n",
    "#-\n",
    "print(\"\\n---\\ny = %s\" %  y)\n",
    "print(\"\\nClass(X): %s\"% type(y))\n"
   ]
  },
  {
   "cell_type": "code",
   "execution_count": 32,
   "metadata": {},
   "outputs": [
    {
     "name": "stdout",
     "output_type": "stream",
     "text": [
      "\n",
      " Shape of X: (25, 1)\n",
      "\n",
      " Shape y: (25, 1)\n",
      "\n",
      "\n"
     ]
    }
   ],
   "source": [
    "print(\"\\n Shape of X: %s\\n\\n Shape y: %s\\n\\n\" % (X.shape, y.shape))"
   ]
  },
  {
   "cell_type": "code",
   "execution_count": 52,
   "metadata": {},
   "outputs": [
    {
     "data": {
      "text/plain": [
       "array([46, 20, 52, 30, 57, 25, 28, 36, 57, 44, 24, 31, 52, 23, 60, 48, 34,\n",
       "       51, 50, 34, 46, 23, 37, 40, 30], dtype=int64)"
      ]
     },
     "execution_count": 52,
     "metadata": {},
     "output_type": "execute_result"
    }
   ],
   "source": [
    "X.ravel()"
   ]
  },
  {
   "cell_type": "code",
   "execution_count": 56,
   "metadata": {},
   "outputs": [
    {
     "name": "stdout",
     "output_type": "stream",
     "text": [
      "[[1.         0.83735338]\n",
      " [0.83735338 1.        ]]\n"
     ]
    },
    {
     "data": {
      "text/plain": [
       "0.83735338432278"
      ]
     },
     "execution_count": 56,
     "metadata": {},
     "output_type": "execute_result"
    }
   ],
   "source": [
    "# Calculating a Correlation Matrix with Pandas\n",
    "import numpy as np\n",
    "print(np.corrcoef(X.ravel(), y.ravel()))\n",
    "\n",
    "np.corrcoef(X.ravel(), y.ravel())[0,1]"
   ]
  },
  {
   "cell_type": "code",
   "execution_count": 65,
   "metadata": {},
   "outputs": [],
   "source": [
    "#?np.corrcoef"
   ]
  },
  {
   "cell_type": "code",
   "execution_count": 303,
   "metadata": {},
   "outputs": [],
   "source": [
    "from sklearn.linear_model import LinearRegression\n",
    "linreg = LinearRegression()\n",
    "model = linreg.fit(X, y)\n",
    "\n"
   ]
  },
  {
   "cell_type": "code",
   "execution_count": 307,
   "metadata": {},
   "outputs": [
    {
     "data": {
      "text/plain": [
       "array([102.5751422])"
      ]
     },
     "execution_count": 307,
     "metadata": {},
     "output_type": "execute_result"
    }
   ],
   "source": [
    "model.intercept_"
   ]
  },
  {
   "cell_type": "code",
   "execution_count": 304,
   "metadata": {},
   "outputs": [
    {
     "name": "stdout",
     "output_type": "stream",
     "text": [
      "\n",
      "\n",
      " Type of model generate: <class 'sklearn.linear_model._base.LinearRegression'>\n",
      "----\n",
      "\n",
      "Model type:  LinearRegression()\n"
     ]
    }
   ],
   "source": [
    "print(\"\\n\\n Type of model generate: %s\\n----\\n\" % type(linreg))\n",
    "print(\"Model type: \", model)"
   ]
  },
  {
   "cell_type": "code",
   "execution_count": 309,
   "metadata": {},
   "outputs": [
    {
     "name": "stdout",
     "output_type": "stream",
     "text": [
      "\n",
      "\n",
      " Type of model generate: <class 'sklearn.linear_model._base.LinearRegression'>\n",
      "----\n",
      "\n",
      "Model type:  LinearRegression()\n",
      "\n",
      "\n",
      "--\n",
      "Model Coeffiecient are:\n",
      "Intecept = 102.6  |   Coeff1 = 5.3\n",
      "\n",
      "---\n",
      "\n",
      "Resulting model:\n",
      "\n",
      " => chol = 102.6 + 5.3 * age\n",
      "\n",
      "\n",
      "---\n",
      "R-Squared score = 0.70   |    r(col/age) = 0.84\n",
      "\n",
      "--\n",
      "\n",
      "MAE: 34.24477959473871\n",
      "MSE: 1737.7749715606108\n",
      "RMSE: 41.68662821050187\n"
     ]
    }
   ],
   "source": [
    "## Challenge 4A Fit a linear model to the dataset  -- Continued\n",
    "\n",
    "#---------------------///  Import, Instanciate, Fit ////---------------------\n",
    "#scikit-learn's Four-Step Modeling Pattern\n",
    "#Step 1: Import the class you plan to use.\n",
    "from sklearn.linear_model import LinearRegression\n",
    "\n",
    "#----\n",
    "#Step 2: \"Instantiate\" the \"estimator.\"\n",
    "#- \"Estimator\" is scikit-learn's term for \"model.\"\n",
    "#- \"Instantiate\" means \"make an instance of.\"    \n",
    "\n",
    "#Make an instance of a LinearRegression object.\n",
    "# Import, instantiate, fit.\n",
    "linreg = LinearRegression()\n",
    "print(\"\\n\\n Type of model generate: %s\\n----\\n\" % type(linreg))\n",
    "\n",
    "#----\n",
    "#Step 3: Fit a LinearRegression model on X and y from the linear_model section of scikit-learn.\n",
    "#        (aka \"model training\")\n",
    "model = linreg.fit(X, y)\n",
    "print(\"Model type: \", model)\n",
    "\n",
    "#----\n",
    "#Step 4: Explore the intercept and coefficients of the linear model\n",
    "#You can search for \"sklearn linear regression\" and explore the attributes section of \n",
    "#the documentation to learn how to do this.\n",
    "\n",
    "# Print the coefficients.  That is: yhat = coef1 * X _ intercept \n",
    "# Compare your computed value to those on slide 53 & 54\n",
    "# chol = 102.6  + 5.5 * age\n",
    "print(\"\\n\\n--\\nModel Coeffiecient are:\\nIntecept = %.1f  |   Coeff1 = %.1f\" % (model.intercept_, model.coef_))\n",
    "\n",
    "print(\"\\n---\\n\\nResulting model:\\n\\n => chol = %.1f + %.1f * age\" % (model.intercept_, model.coef_))\n",
    "\n",
    "#---\n",
    "#Print the R^2\n",
    "print(\"\\n\\n---\\nR-Squared score = %.2f   |    r(col/age) = %.2f\\n\\n--\\n\" % (model.score(X, y), np.sqrt(model.score(X, y))) )\n",
    "\n",
    "\n",
    "#---\n",
    "#Calculate MAE, MSE, and RMSE using imports from sklearn metrics and NumPy.\n",
    "\n",
    "\n",
    "true = y\n",
    "pred = model.predict(X)\n",
    "\n",
    "\n",
    "# Calculate these metrics by hand!\n",
    "from sklearn import metrics\n",
    "import numpy as np\n",
    "print('MAE:', metrics.mean_absolute_error(true, pred))\n",
    "print('MSE:', metrics.mean_squared_error(true, pred))\n",
    "print('RMSE:', np.sqrt(metrics.mean_squared_error(true, pred)))\n",
    "\n",
    "\n",
    "\n",
    "#----------\n",
    "# Note:\n"
   ]
  },
  {
   "cell_type": "code",
   "execution_count": 310,
   "metadata": {},
   "outputs": [
    {
     "data": {
      "text/html": [
       "<div>\n",
       "<style scoped>\n",
       "    .dataframe tbody tr th:only-of-type {\n",
       "        vertical-align: middle;\n",
       "    }\n",
       "\n",
       "    .dataframe tbody tr th {\n",
       "        vertical-align: top;\n",
       "    }\n",
       "\n",
       "    .dataframe thead th {\n",
       "        text-align: right;\n",
       "    }\n",
       "</style>\n",
       "<table border=\"1\" class=\"dataframe\">\n",
       "  <thead>\n",
       "    <tr style=\"text-align: right;\">\n",
       "      <th></th>\n",
       "      <th>pred</th>\n",
       "      <th>y</th>\n",
       "    </tr>\n",
       "  </thead>\n",
       "  <tbody>\n",
       "    <tr>\n",
       "      <th>0</th>\n",
       "      <td>347</td>\n",
       "      <td>354</td>\n",
       "    </tr>\n",
       "    <tr>\n",
       "      <th>1</th>\n",
       "      <td>208</td>\n",
       "      <td>190</td>\n",
       "    </tr>\n",
       "    <tr>\n",
       "      <th>2</th>\n",
       "      <td>379</td>\n",
       "      <td>405</td>\n",
       "    </tr>\n",
       "    <tr>\n",
       "      <th>3</th>\n",
       "      <td>262</td>\n",
       "      <td>263</td>\n",
       "    </tr>\n",
       "    <tr>\n",
       "      <th>4</th>\n",
       "      <td>405</td>\n",
       "      <td>451</td>\n",
       "    </tr>\n",
       "  </tbody>\n",
       "</table>\n",
       "</div>"
      ],
      "text/plain": [
       "   pred    y\n",
       "0   347  354\n",
       "1   208  190\n",
       "2   379  405\n",
       "3   262  263\n",
       "4   405  451"
      ]
     },
     "execution_count": 310,
     "metadata": {},
     "output_type": "execute_result"
    }
   ],
   "source": [
    "pred = linreg.predict(X)\n",
    "\n",
    "\n",
    "true_and_pred_df = pd.DataFrame({'pred':pred.ravel().astype(int), 'y':y.ravel()})\n",
    "\n",
    "true_and_pred_df.head()"
   ]
  },
  {
   "cell_type": "code",
   "execution_count": 311,
   "metadata": {},
   "outputs": [
    {
     "data": {
      "image/png": "[encoded data removed]",
      "text/plain": [
       "<Figure size 1080x504 with 1 Axes>"
      ]
     },
     "metadata": {
      "needs_background": "light"
     },
     "output_type": "display_data"
    }
   ],
   "source": [
    "plt.figure(figsize=(15, 7))\n",
    "plt.title('True vs Predicted plot -- Linear Regression')\n",
    "\n",
    "plt.plot(true_and_pred_df.y.values, label='Actual values')\n",
    "plt.plot(true_and_pred_df.pred,color='red',label='Predicted')\n",
    "plt.legend()\n",
    "\n",
    "plt.grid(True)\n",
    "plt.show()\n"
   ]
  },
  {
   "cell_type": "code",
   "execution_count": 342,
   "metadata": {},
   "outputs": [
    {
     "name": "stdout",
     "output_type": "stream",
     "text": [
      "Model type:  LinearRegression()\n",
      "[[ 1.]\n",
      " [ 3.]\n",
      " [ 5.]\n",
      " [ 7.]\n",
      " [ 9.]\n",
      " [11.]\n",
      " [13.]\n",
      " [15.]\n",
      " [17.]\n",
      " [19.]\n",
      " [21.]\n",
      " [23.]\n",
      " [25.]\n",
      " [27.]\n",
      " [29.]\n",
      " [31.]\n",
      " [33.]\n",
      " [35.]\n",
      " [37.]\n",
      " [39.]]\n"
     ]
    }
   ],
   "source": [
    "X = np.arange(20).reshape(-1, 1)\n",
    "y = 2*X + 1\n",
    "model = linreg.fit(X, y)\n",
    "print(\"Model type: \", model)\n",
    "\n",
    "y_pred = linreg.predict(X)\n",
    "print(y_pred)"
   ]
  },
  {
   "cell_type": "code",
   "execution_count": 341,
   "metadata": {},
   "outputs": [
    {
     "data": {
      "text/plain": [
       "array([[ 1],\n",
       "       [ 3],\n",
       "       [ 5],\n",
       "       [ 7],\n",
       "       [ 9],\n",
       "       [11],\n",
       "       [13],\n",
       "       [15],\n",
       "       [17],\n",
       "       [19],\n",
       "       [21],\n",
       "       [23],\n",
       "       [25],\n",
       "       [27],\n",
       "       [29],\n",
       "       [31],\n",
       "       [33],\n",
       "       [35],\n",
       "       [37],\n",
       "       [39]])"
      ]
     },
     "execution_count": 341,
     "metadata": {},
     "output_type": "execute_result"
    }
   ],
   "source": [
    "y"
   ]
  },
  {
   "cell_type": "code",
   "execution_count": 347,
   "metadata": {},
   "outputs": [
    {
     "data": {
      "image/png": "[encoded data removed]",
      "text/plain": [
       "<Figure size 1080x504 with 1 Axes>"
      ]
     },
     "metadata": {
      "needs_background": "light"
     },
     "output_type": "display_data"
    }
   ],
   "source": [
    "plt.figure(figsize=(15, 7))\n",
    "plt.title('True vs Predicted plot -- Linear Regression')\n",
    "y_pred = y_pred + 0.5\n",
    "plt.plot(y, label='Actual values')\n",
    "plt.plot(y_pred,color='red',label='Predicted')\n",
    "plt.legend()\n",
    "\n",
    "plt.grid(True)\n",
    "plt.show()"
   ]
  },
  {
   "cell_type": "code",
   "execution_count": 357,
   "metadata": {},
   "outputs": [
    {
     "data": {
      "text/plain": [
       "array([ 1.        ,  3.11111111,  5.22222222,  7.33333333,  9.44444444,\n",
       "       11.55555556, 13.66666667, 15.77777778, 17.88888889, 20.        ,\n",
       "       22.11111111, 24.22222222, 26.33333333, 28.44444444, 30.55555556,\n",
       "       32.66666667, 34.77777778, 36.88888889, 39.        ])"
      ]
     },
     "execution_count": 357,
     "metadata": {},
     "output_type": "execute_result"
    }
   ],
   "source": [
    "model.coef_[0] *x + model.intercept_[0]\n",
    "x.ravel()\n",
    "(model.coef_[0] *x + model.intercept_[0]).ravel()"
   ]
  },
  {
   "cell_type": "code",
   "execution_count": 372,
   "metadata": {
    "scrolled": true
   },
   "outputs": [
    {
     "data": {
      "image/png": "[encoded data removed]",
      "text/plain": [
       "<Figure size 432x288 with 2 Axes>"
      ]
     },
     "metadata": {
      "needs_background": "light"
     },
     "output_type": "display_data"
    }
   ],
   "source": [
    "\n",
    "#----\n",
    "##Challenge 4B Plot a linear model to the dataset\n",
    "\n",
    "from matplotlib.font_manager import FontProperties\n",
    "\n",
    "fontP = FontProperties()\n",
    "fontP.set_size('small')\n",
    "\n",
    "\n",
    "plt.scatter(X, y, color=\"darkred\")\n",
    "\n",
    "## Create a range of points. Compute yhat = coeff1 * X + intercep and plot\n",
    "x = np.linspace( min(X), max(X), np.ptp(X,axis=0)[0])     \n",
    "#print(x)\n",
    "# same as: \n",
    "#x = np.linspace( 20, 60, 20)     \n",
    "#x\n",
    "#---\n",
    "#Challenge 4 Generate a plot silimar to that on slide 54\n",
    "plt.plot(x, model.coef_[0][0] *x + model.intercept_[0], color='black', ls=\"-\", label=\"Fitted values\")\n",
    "plt.plot(x, model.coef_[0][0] *x + model.intercept_[0], color='black', ls=\"\", \n",
    "                label=\"chol = 102.6 + 5.3 * age\")\n",
    "\n",
    "\n",
    "plt.title(\"Cholesterol levels of a number of patients in age group 20 to 60\")\n",
    "plt.xlabel(\"Age(years)\")\n",
    "plt.ylabel(\"Cholesterol(mg/100 ml)\")\n",
    "\n",
    "#add legend\n",
    "legend2 = plt.legend(loc=\"lower center\", title=\"\", prop=fontP, bbox_to_anchor=(0.5, -0.34))\n",
    "\n",
    "#l = plt.legend()\n",
    "legend2.get_texts()[1].set_color(\"red\")\n",
    "\n",
    "#Turn on the grid\n",
    "#plt.grid()\n",
    "ax = plt.axes()        \n",
    "ax.yaxis.grid() # horizontal lines\n",
    "#ax.xaxis.grid() # vertical\n",
    "\n",
    "plt.show()"
   ]
  },
  {
   "cell_type": "code",
   "execution_count": 371,
   "metadata": {},
   "outputs": [
    {
     "data": {
      "text/plain": [
       "[<matplotlib.lines.Line2D at 0x120930af490>]"
      ]
     },
     "execution_count": 371,
     "metadata": {},
     "output_type": "execute_result"
    },
    {
     "data": {
      "image/png": "[encoded data removed]",
      "text/plain": [
       "<Figure size 432x288 with 1 Axes>"
      ]
     },
     "metadata": {
      "needs_background": "light"
     },
     "output_type": "display_data"
    }
   ],
   "source": [
    "plt.scatter(X, y, color=\"darkred\")\n",
    "plt.title(\"Cholesterol levels of a number of patients in age group 20 to 60\")\n",
    "plt.xlabel(\"Age(years)\")\n",
    "plt.ylabel(\"Cholesterol(mg/100 ml)\")\n",
    "plt.plot(x, model.coef_[0][0] *x + model.intercept_[0], color='black', ls=\"-\", label=\"Fitted values\")\n",
    "plt.plot(x, model.coef_[0][0] *x + model.intercept_[0], color='black', ls=\"\", \n",
    "                label=\"chol = 102.6 + 5.3 * age\")"
   ]
  },
  {
   "cell_type": "code",
   "execution_count": 364,
   "metadata": {},
   "outputs": [
    {
     "ename": "AttributeError",
     "evalue": "'Text' object has no attribute 'show'",
     "output_type": "error",
     "traceback": [
      "\u001b[1;31m---------------------------------------------------------------------------\u001b[0m",
      "\u001b[1;31mAttributeError\u001b[0m                            Traceback (most recent call last)",
      "\u001b[1;32m~\\AppData\\Local\\Temp/ipykernel_12880/1757530222.py\u001b[0m in \u001b[0;36m<module>\u001b[1;34m\u001b[0m\n\u001b[1;32m----> 1\u001b[1;33m \u001b[0mfig1\u001b[0m\u001b[1;33m.\u001b[0m\u001b[0mshow\u001b[0m\u001b[1;33m(\u001b[0m\u001b[1;33m)\u001b[0m\u001b[1;33m\u001b[0m\u001b[1;33m\u001b[0m\u001b[0m\n\u001b[0m",
      "\u001b[1;31mAttributeError\u001b[0m: 'Text' object has no attribute 'show'"
     ]
    }
   ],
   "source": []
  },
  {
   "cell_type": "code",
   "execution_count": null,
   "metadata": {},
   "outputs": [],
   "source": []
  },
  {
   "cell_type": "code",
   "execution_count": 315,
   "metadata": {},
   "outputs": [
    {
     "data": {
      "image/png": "[encoded data removed]",
      "text/plain": [
       "<Figure size 1080x504 with 1 Axes>"
      ]
     },
     "metadata": {
      "needs_background": "light"
     },
     "output_type": "display_data"
    }
   ],
   "source": [
    "from sklearn.metrics import r2_score, median_absolute_error, mean_absolute_error\n",
    "from sklearn.metrics import median_absolute_error, mean_squared_error, mean_squared_log_error\n",
    "from sklearn.model_selection import cross_val_score\n",
    "from sklearn.model_selection import TimeSeriesSplit\n",
    "\n",
    "def mean_absolute_percentage_error(y_true, y_pred): \n",
    "    return np.mean(np.abs((y_true - y_pred) / y_true)) * 100\n",
    "\n",
    "def plotModelResults(model, X=X, y=y, plot_intervals=False):\n",
    "    \"\"\"\n",
    "        Plots modelled vs fact values, prediction intervals\n",
    "    \n",
    "    \"\"\"\n",
    "    \n",
    "    prediction = model.predict(X)\n",
    "    \n",
    "    plt.figure(figsize=(15, 7))\n",
    "    plt.plot(prediction, \"g\", label=\"prediction\", linewidth=2.0)\n",
    "    plt.plot(y, label=\"actual\", linewidth=2.0)\n",
    "    \n",
    "    if plot_intervals:\n",
    "        cv = cross_val_score(model, X, y, \n",
    "                                    cv=tscv, \n",
    "                                    scoring=\"neg_mean_absolute_error\")\n",
    "        mae = cv.mean() * (-1)\n",
    "        deviation = cv.std()\n",
    "        \n",
    "        scale = 1.96\n",
    "        lower = prediction - (mae + scale * deviation)\n",
    "        upper = prediction + (mae + scale * deviation)\n",
    "        \n",
    "        plt.plot(lower, \"r--\", label=\"upper bond / lower bond\", alpha=0.5)\n",
    "        plt.plot(upper, \"r--\", alpha=0.5)\n",
    "        \n",
    "    error = mean_absolute_percentage_error(prediction, y)\n",
    "    plt.title(\"Mean absolute percentage error {0:.2f}%\".format(error))\n",
    "    plt.legend(loc=\"best\")\n",
    "    plt.tight_layout()\n",
    "    plt.grid(True);\n",
    "    \n",
    "\n",
    "tscv = TimeSeriesSplit(n_splits=3) \n",
    "plotModelResults(linreg, plot_intervals=True)"
   ]
  },
  {
   "cell_type": "code",
   "execution_count": 36,
   "metadata": {},
   "outputs": [],
   "source": [
    "####Challenge 4C Generate a plot silimar to that on slide 54\n",
    "\n",
    "\n",
    "\n",
    "\n",
    "## You may use sample code provided here: https://tomholderness.wordpress.com/2013/01/10/confidence_intervals/\n",
    "\n",
    "\n",
    "\n",
    "\n",
    "\n",
    "## *** William Skipped intentionally  ***\n",
    "\n",
    "\n"
   ]
  },
  {
   "cell_type": "code",
   "execution_count": 63,
   "metadata": {},
   "outputs": [
    {
     "data": {
      "text/plain": [
       "0.9864864864864865"
      ]
     },
     "execution_count": 63,
     "metadata": {},
     "output_type": "execute_result"
    }
   ],
   "source": [
    "1 - 1/74"
   ]
  },
  {
   "cell_type": "code",
   "execution_count": 60,
   "metadata": {},
   "outputs": [],
   "source": [
    "#!pip install lifelines"
   ]
  },
  {
   "cell_type": "code",
   "execution_count": 317,
   "metadata": {},
   "outputs": [
    {
     "data": {
      "text/plain": [
       "<AxesSubplot:xlabel='timeline'>"
      ]
     },
     "execution_count": 317,
     "metadata": {},
     "output_type": "execute_result"
    },
    {
     "data": {
      "image/png": "[encoded data removed]",
      "text/plain": [
       "<Figure size 432x288 with 1 Axes>"
      ]
     },
     "metadata": {
      "needs_background": "light"
     },
     "output_type": "display_data"
    }
   ],
   "source": [
    "# Python code to create the above Kaplan Meier curve -- slide 60\n",
    "# Taken form: https://towardsdatascience.com/survival-analysis-intuition-implementation-in-python-504fde4fcf8e\n",
    "\n",
    "from lifelines import KaplanMeierFitter\n",
    "\n",
    "## Example Data \n",
    "durations = [5,6,6,2.5,4,4]\n",
    "event_observed = [1, 0, 0, 1, 1, 1]\n",
    "\n",
    "## create a kmf object\n",
    "kmf = KaplanMeierFitter() \n",
    "\n",
    "## Fit the data into the model\n",
    "kmf.fit(durations, event_observed,label='Kaplan Meier Estimate')\n",
    "\n",
    "## Create an estimate\n",
    "kmf.plot(ci_show=False) ## ci_show is meant for Confidence interval, since our data set is too tiny, thus i am not showing it.\n"
   ]
  },
  {
   "cell_type": "code",
   "execution_count": 318,
   "metadata": {},
   "outputs": [
    {
     "data": {
      "text/plain": [
       "<AxesSubplot:xlabel='timeline'>"
      ]
     },
     "execution_count": 318,
     "metadata": {},
     "output_type": "execute_result"
    },
    {
     "data": {
      "image/png": "[encoded data removed]",
      "text/plain": [
       "<Figure size 432x288 with 1 Axes>"
      ]
     },
     "metadata": {
      "needs_background": "light"
     },
     "output_type": "display_data"
    }
   ],
   "source": [
    "kmf.plot(ci_show=True)"
   ]
  },
  {
   "cell_type": "markdown",
   "metadata": {},
   "source": [
    "  \n",
    "<hr style=\"border:0.1px solid gray; width: 25%;\" />\n",
    "\n",
    "<b style=\"font-size:40px; color:#822c97\">References</b>\n",
    "\n",
    "* <https://tomholderness.wordpress.com/2013/01/10/confidence_intervals/>\n",
    "\n",
    "<p /><p />\n",
    "\n",
    "<hr style=\"border:0.1px solid #822c97; width: 50%;\" />\n",
    "\n",
    "<center><b style=\"font-size:25px; color:##556B2F\">CONGRATULATION!!!<br>YOU HAVE SUCCESSFULLY COMPLETED CODE ALONG <br />TASK 4 OR MODULE 3 Day 1</b></center>"
   ]
  },
  {
   "cell_type": "code",
   "execution_count": null,
   "metadata": {},
   "outputs": [],
   "source": []
  },
  {
   "cell_type": "markdown",
   "metadata": {},
   "source": [
    "<a id=\"slide66\"></a>\n",
    "\n",
    "<hr style=\"color:#FE0000;border:0.5px solid red\" />\n",
    "\n",
    "\n",
    "### 5 Nonparametric statistics\n",
    "\n",
    "<p />\n",
    "\n",
    "\n",
    "#### 5.A  <b style=\"font-size:15px; color:#FE0000;\"><em>Bootstrap</em></b> – randomly select an observation from sample data <b style=\"font-size:15px; color:#FE0000;\"><em>with replacement</em></b>\n",
    "\n",
    "<p />\n",
    "\n",
    "\n",
    "We will be using information provided on <b style=\"font-size:15px; color:#FE0000;\"><em>slide 68</em></b> to complete **Task 5** for Module 3 Day 2\n",
    "\n",
    "\n",
    "####  Recall: Figure on  <b style=\"font-size:15px; color:#FE0000;\"><em> Slide 68</em><b/>\n",
    "<p \\>\n",
    " \n",
    "<center><img src=\"Figures/slide68.PNG\" style=\"float: center; height: 320px\"></center>"
   ]
  },
  {
   "cell_type": "code",
   "execution_count": 319,
   "metadata": {},
   "outputs": [],
   "source": [
    "mean_dBP_samples, mysample_size, replications = [], 5, 10 \n",
    "\n",
    "#Use the for loop to poplutate the mean_dBP_samples data \n",
    "for i in range(replications):\n",
    "    temp_sample = np.random.choice(a=dBP, size=mysample_size, replace=True, p=None)\n",
    "    sample_mean = np.mean(temp_sample)\n",
    "    #append the mean to the mean_dBP_samples\n",
    "    mean_dBP_samples.append(sample_mean)\n",
    "    "
   ]
  },
  {
   "cell_type": "code",
   "execution_count": 320,
   "metadata": {},
   "outputs": [
    {
     "data": {
      "text/plain": [
       "[69.2, 73.0, 74.6, 85.4, 72.6, 85.4, 75.2, 65.8, 73.2, 75.6]"
      ]
     },
     "execution_count": 320,
     "metadata": {},
     "output_type": "execute_result"
    }
   ],
   "source": [
    "mean_dBP_samples"
   ]
  },
  {
   "cell_type": "code",
   "execution_count": 321,
   "metadata": {},
   "outputs": [
    {
     "name": "stdout",
     "output_type": "stream",
     "text": [
      "\n",
      "---\n",
      "Bootstrapped dBP Sample_size = 5   | Mean = 75.00000000000001   |  95% CI = [66.565 85.4  ]\n",
      "\n",
      "\n"
     ]
    }
   ],
   "source": [
    "#5a.ii\n",
    "# Calculate bootstrapped mean and 95% confidence interval.\n",
    "boot_mean = np.mean(mean_dBP_samples)\n",
    "boot_95_ci = np.percentile(mean_dBP_samples, [2.5, 97.5])\n",
    "print(\"\\n---\\nBootstrapped dBP Sample_size = {}   | Mean = {}   |  95% CI = {}\\n\\n\".format(mysample_size, boot_mean, boot_95_ci))\n"
   ]
  },
  {
   "cell_type": "code",
   "execution_count": 37,
   "metadata": {},
   "outputs": [
    {
     "name": "stdout",
     "output_type": "stream",
     "text": [
      "\n",
      " 1: temp_sample = [2 2 6] \n",
      "--\n",
      "\n",
      "\n",
      " 1: temp_sample = [1 3 9 6 1] \n",
      "--\n",
      "\n",
      "\n",
      "---\n",
      "Bootstrapped dBP Sample_size = 5   | Mean = 75.44   |  95% CI = [70.23 79.53]\n",
      "\n",
      "\n"
     ]
    }
   ],
   "source": [
    "#5a Use bootstrapping to compute the *95%* confidence interval (CI) for the average dBP\n",
    "import numpy as np\n",
    "\n",
    "#Use this sample code to solve problem 5a\n",
    "np.random.seed(123)\n",
    "\n",
    "# Uncomment and run the following line\n",
    "# ?np.random.choice\n",
    "\n",
    "#See what np.random does\n",
    "temp_sample= np.random.choice(a= np.arange(10), size=3, replace=True, p=None)\n",
    "print(\"\\n 1: temp_sample = %s \\n--\\n\" %(temp_sample))\n",
    "\n",
    "temp_sample= np.random.choice(a= np.arange(10), size=5, replace=True, p=None)\n",
    "print(\"\\n 1: temp_sample = %s \\n--\\n\" %(temp_sample))\n",
    "\n",
    "\n",
    "#--\n",
    "#5a.i  \n",
    "# Draw a 10 random samples each of size 5 from the dBP data with replacement and append mean to mean_dBP .\n",
    "\n",
    "#mean_dBP_samples is an empty list, mysample_size=5, replications=10 \n",
    "mean_dBP_samples, mysample_size, replications = [], 5, 10 \n",
    "\n",
    "#Use the for loop to poplutate the mean_dBP_samples data \n",
    "for i in range(replications):\n",
    "    temp_sample = np.random.choice(a=dBP, size=mysample_size, replace=True, p=None)\n",
    "    sample_mean = np.mean(temp_sample)\n",
    "    #append the mean to the mean_dBP_samples\n",
    "    mean_dBP_samples.append(sample_mean)\n",
    "    \n",
    "    \n",
    "#5a.ii\n",
    "# Calculate bootstrapped mean and 95% confidence interval.\n",
    "boot_mean = np.mean(mean_dBP_samples)\n",
    "boot_95_ci = np.percentile(mean_dBP_samples, [2.5, 97.5])\n",
    "print(\"\\n---\\nBootstrapped dBP Sample_size = {}   | Mean = {}   |  95% CI = {}\\n\\n\".format(mysample_size, boot_mean, boot_95_ci))\n",
    "\n",
    "\n",
    "\n",
    "#5a.ii Try with different sample sizes \n",
    "# Trivial -- simply change\n",
    "# #mean_dBP_samples is an empty list, mysample_size=5, replications=10 \n",
    "mean_dBP_samples, mysample_size, replications = [], 15, 10 \n",
    "\n",
    "#Then paset the code in 5a.i here or even better write a function and make a call to \n",
    "#the function with diffrent values \n",
    "\n",
    "\n",
    "#5a.iii Document your obsertations\n",
    "\n",
    "\n"
   ]
  },
  {
   "cell_type": "code",
   "execution_count": null,
   "metadata": {},
   "outputs": [],
   "source": []
  },
  {
   "cell_type": "code",
   "execution_count": 322,
   "metadata": {},
   "outputs": [
    {
     "name": "stdout",
     "output_type": "stream",
     "text": [
      "169.633012\n"
     ]
    },
    {
     "data": {
      "text/plain": [
       "40.39571209680374"
      ]
     },
     "execution_count": 322,
     "metadata": {},
     "output_type": "execute_result"
    }
   ],
   "source": [
    "## Using Python\n",
    "# 1: https://medium.com/swlh/bootstrap-sampling-using-pythons-numpy-85822d868977\n",
    "# 2: https://www.journaldev.com/45580/bootstrap-sampling-in-python\n",
    "\n",
    "import numpy as np \n",
    "import matplotlib.pyplot as plt\n",
    "\n",
    "np.random.seed(123) # to set seed for consistency \n",
    "weight_pop = np.random.randint(100,240,size = 500000)# simulated population distribution\n",
    "weight_pop\n",
    "\n",
    "print(np.mean(weight_pop))# population mean\n",
    "\n",
    "np.std(weight_pop)# population std"
   ]
  },
  {
   "cell_type": "code",
   "execution_count": 74,
   "metadata": {},
   "outputs": [
    {
     "data": {
      "text/plain": [
       "40.466218886869086"
      ]
     },
     "execution_count": 74,
     "metadata": {},
     "output_type": "execute_result"
    }
   ],
   "source": [
    "weight_sample = np.random.choice(weight_pop, size = 1000)\n",
    "\n",
    "sample_mean = np.mean(weight_sample)# sample mean\n",
    "sample_mean\n",
    "\n",
    "sample_std = np.std(weight_sample)# sample std\n",
    "sample_std"
   ]
  },
  {
   "cell_type": "code",
   "execution_count": 75,
   "metadata": {},
   "outputs": [
    {
     "data": {
      "text/plain": [
       "array([169.023, 168.843, 168.031, ..., 169.98 , 167.204, 172.015])"
      ]
     },
     "execution_count": 75,
     "metadata": {},
     "output_type": "execute_result"
    }
   ],
   "source": [
    "boot_means = []\n",
    "for _ in range(10000):\n",
    "    boot_sample = np.random.choice(weight_sample,replace = True, size = 1000) # take a random sample each iteration\n",
    "    boot_mean = np.mean(boot_sample)# calculate the mean for each iteration\n",
    "    boot_means.append(boot_mean) # append the mean to boot_means\n",
    "boot_means_np = np.array(boot_means) # transform it into a numpy array for calculation\n",
    "\n",
    "boot_means_np"
   ]
  },
  {
   "cell_type": "code",
   "execution_count": 323,
   "metadata": {},
   "outputs": [
    {
     "name": "stdout",
     "output_type": "stream",
     "text": [
      "                            Bootstrapped\n",
      "________________________________________________________________________________________________________\n",
      " Sample Size |  Replications | Actual estimate   |   Sample Estimate  |       95% CI      |  Length CI  |\n",
      "_____________|_______________|___________________|____________________|___________________|_____________|\n",
      "      15     |       10      |   Mean = 76.32    |   Mean = 76.37    |  [72.98833333 79.67833333]    |   6.7\n",
      "      15     |       10      | Median = 74.00    |   Mean = 74.50    |  [72.225 79.   ]   |   6.8\n"
     ]
    }
   ],
   "source": [
    "#---\n",
    "#Challenge 5 Modify code to compute the *95%* confidence interval (CI) for the `median` dBP \n",
    "\n",
    "\n",
    "## Median\n",
    "\n",
    "median_dBP_samples, mean_dBP_samples, mysample_size, replications = [], [], 15, 10    #median_dBP_samples & mean_dBP_samples are empty lists, mysample_size=5, replications=1000 \n",
    "\n",
    "for i in range(replications):\n",
    "    temp_sample = np.random.choice(a=dBP, size=mysample_size, replace=True, p=None)\n",
    "    mean_dBP_samples.append(np.mean(temp_sample))       #sample mean\n",
    "    median_dBP_samples.append(np.median(temp_sample))     #sample median\n",
    "    \n",
    "# Calculate bootstrapped statistics and their 95% confidence intervals.\n",
    "est_mean           = np.mean(dBP)\n",
    "boot_mean          = np.mean(mean_dBP_samples)\n",
    "boot_95_mean_ci    = np.percentile(mean_dBP_samples, [2.5, 97.5])\n",
    "mean_ci_length     = boot_95_mean_ci[1] - boot_95_mean_ci[0] \n",
    "\n",
    "est_median         = np.median(dBP)\n",
    "boot_median        = np.median(median_dBP_samples)\n",
    "boot_95_median_ci  = np.percentile(median_dBP_samples, [2.5, 97.5])\n",
    "median_ci_length   = boot_95_median_ci[1] - boot_95_median_ci[0] \n",
    "\n",
    "\n",
    "print(\"                            Bootstrapped\")\n",
    "print(\"________________________________________________________________________________________________________\")\n",
    "print(\" Sample Size |  Replications | Actual estimate   |   Sample Estimate  |       95% CI      |  Length CI  |\")\n",
    "print(\"_____________|_______________|___________________|____________________|___________________|_____________|\")\n",
    "\n",
    "print(f'     {mysample_size:3d}     | {replications:8d}      |   Mean = {est_mean:.2f}    |   Mean = {boot_mean:.2f}    |  {boot_95_mean_ci}    |   {mean_ci_length:.1f}')\n",
    "print(f'     {mysample_size:3d}     | {replications:8d}      | Median = {est_median:.2f}    |   Mean = {boot_median:.2f}    |  {boot_95_median_ci}   |   {median_ci_length:.1f}')\n"
   ]
  },
  {
   "cell_type": "code",
   "execution_count": null,
   "metadata": {},
   "outputs": [],
   "source": []
  },
  {
   "cell_type": "markdown",
   "metadata": {},
   "source": [
    "<a id=\"slide69\"></a>\n",
    "\n",
    "***\n",
    "\n",
    "\n",
    "#### 5.B  <b style=\"font-size:15px; color:#FE0000;\"><em>Jacknife</em></b> – leave-out-one\n",
    "\n",
    "<p />\n",
    "\n",
    "\n",
    "We will be using information provided on <b style=\"font-size:15px; color:#FE0000;\"><em>slide 69</em></b> to complete **Task 5B** for Module 3 Day 2\n",
    "\n",
    "\n",
    "####  Recall: Figure on  <b style=\"font-size:15px; color:#FE0000;\"><em> Slide 69</em><b/>\n",
    "<p \\>\n",
    " \n",
    "<center><img src=\"Figures/slide69.PNG\" style=\"float: center; height: 360px\"></center>"
   ]
  },
  {
   "cell_type": "code",
   "execution_count": 328,
   "metadata": {},
   "outputs": [
    {
     "data": {
      "text/plain": [
       "array([0, 1, 2, 3, 4])"
      ]
     },
     "execution_count": 328,
     "metadata": {},
     "output_type": "execute_result"
    }
   ],
   "source": [
    "replications = 5\n",
    "index = np.arange(replications)\n",
    "index"
   ]
  },
  {
   "cell_type": "code",
   "execution_count": 329,
   "metadata": {},
   "outputs": [
    {
     "name": "stdout",
     "output_type": "stream",
     "text": [
      "\n",
      " Original data:\n",
      "[ 73  59  67  68  68  75  97  73  94  68  55  65  42  77  76  74  93  91\n",
      "  58  92  73  73  68  81  73  65  66  70  92  72  72  62  78  86  73  85\n",
      "  67  69  80  72  71  82  57  82  99  89  85  90  84  91  98  84  95  67\n",
      "  74  73  71 100  80  89  75  71  70  65  69  71  65  90  90  77  69  64\n",
      "  80  69  74  81  98  61  79  73  82  88  62  81  78  62  71  54  74  94\n",
      "  73  83  74  72  73  77  64  76  74  67  90  75  91  64  82  56  78  91\n",
      "  73  89  59  83 100  76  79  70  77  85  73  95  70  91  84  87  60  66\n",
      "  63  60  71  90  84  86  92  79  73  63  82  76  80  79  64  88  70  73]\n",
      "\n",
      " Leaving out index 0 | Jacknife estimate: 76.34\n",
      " Jacknife sample data:\n",
      "[ 59  67  68  68  75  97  73  94  68  55  65  42  77  76  74  93  91  58\n",
      "  92  73  73  68  81  73  65  66  70  92  72  72  62  78  86  73  85  67\n",
      "  69  80  72  71  82  57  82  99  89  85  90  84  91  98  84  95  67  74\n",
      "  73  71 100  80  89  75  71  70  65  69  71  65  90  90  77  69  64  80\n",
      "  69  74  81  98  61  79  73  82  88  62  81  78  62  71  54  74  94  73\n",
      "  83  74  72  73  77  64  76  74  67  90  75  91  64  82  56  78  91  73\n",
      "  89  59  83 100  76  79  70  77  85  73  95  70  91  84  87  60  66  63\n",
      "  60  71  90  84  86  92  79  73  63  82  76  80  79  64  88  70  73]\n",
      "\n",
      " Leaving out index 1 | Jacknife estimate: 76.44\n",
      " Jacknife sample data:\n",
      "[ 73  67  68  68  75  97  73  94  68  55  65  42  77  76  74  93  91  58\n",
      "  92  73  73  68  81  73  65  66  70  92  72  72  62  78  86  73  85  67\n",
      "  69  80  72  71  82  57  82  99  89  85  90  84  91  98  84  95  67  74\n",
      "  73  71 100  80  89  75  71  70  65  69  71  65  90  90  77  69  64  80\n",
      "  69  74  81  98  61  79  73  82  88  62  81  78  62  71  54  74  94  73\n",
      "  83  74  72  73  77  64  76  74  67  90  75  91  64  82  56  78  91  73\n",
      "  89  59  83 100  76  79  70  77  85  73  95  70  91  84  87  60  66  63\n",
      "  60  71  90  84  86  92  79  73  63  82  76  80  79  64  88  70  73]\n",
      "\n",
      " Leaving out index 2 | Jacknife estimate: 76.38\n",
      " Jacknife sample data:\n",
      "[ 73  59  68  68  75  97  73  94  68  55  65  42  77  76  74  93  91  58\n",
      "  92  73  73  68  81  73  65  66  70  92  72  72  62  78  86  73  85  67\n",
      "  69  80  72  71  82  57  82  99  89  85  90  84  91  98  84  95  67  74\n",
      "  73  71 100  80  89  75  71  70  65  69  71  65  90  90  77  69  64  80\n",
      "  69  74  81  98  61  79  73  82  88  62  81  78  62  71  54  74  94  73\n",
      "  83  74  72  73  77  64  76  74  67  90  75  91  64  82  56  78  91  73\n",
      "  89  59  83 100  76  79  70  77  85  73  95  70  91  84  87  60  66  63\n",
      "  60  71  90  84  86  92  79  73  63  82  76  80  79  64  88  70  73]\n",
      "\n",
      " Leaving out index 3 | Jacknife estimate: 76.38\n",
      " Jacknife sample data:\n",
      "[ 73  59  67  68  75  97  73  94  68  55  65  42  77  76  74  93  91  58\n",
      "  92  73  73  68  81  73  65  66  70  92  72  72  62  78  86  73  85  67\n",
      "  69  80  72  71  82  57  82  99  89  85  90  84  91  98  84  95  67  74\n",
      "  73  71 100  80  89  75  71  70  65  69  71  65  90  90  77  69  64  80\n",
      "  69  74  81  98  61  79  73  82  88  62  81  78  62  71  54  74  94  73\n",
      "  83  74  72  73  77  64  76  74  67  90  75  91  64  82  56  78  91  73\n",
      "  89  59  83 100  76  79  70  77  85  73  95  70  91  84  87  60  66  63\n",
      "  60  71  90  84  86  92  79  73  63  82  76  80  79  64  88  70  73]\n",
      "\n",
      " Leaving out index 141 | Jacknife estimate: 76.24\n",
      " Jacknife sample data:\n",
      "[ 73  59  67  68  68  75  97  73  94  68  55  65  42  77  76  74  93  91\n",
      "  58  92  73  73  68  81  73  65  66  70  92  72  72  62  78  86  73  85\n",
      "  67  69  80  72  71  82  57  82  99  89  85  90  84  91  98  84  95  67\n",
      "  74  73  71 100  80  89  75  71  70  65  69  71  65  90  90  77  69  64\n",
      "  80  69  74  81  98  61  79  73  82  88  62  81  78  62  71  54  74  94\n",
      "  73  83  74  72  73  77  64  76  74  67  90  75  91  64  82  56  78  91\n",
      "  73  89  59  83 100  76  79  70  77  85  73  95  70  91  84  87  60  66\n",
      "  63  60  71  90  84  86  92  79  73  63  82  76  80  79  64  70  73]\n",
      "\n",
      " Leaving out index 142 | Jacknife estimate: 76.36\n",
      " Jacknife sample data:\n",
      "[ 73  59  67  68  68  75  97  73  94  68  55  65  42  77  76  74  93  91\n",
      "  58  92  73  73  68  81  73  65  66  70  92  72  72  62  78  86  73  85\n",
      "  67  69  80  72  71  82  57  82  99  89  85  90  84  91  98  84  95  67\n",
      "  74  73  71 100  80  89  75  71  70  65  69  71  65  90  90  77  69  64\n",
      "  80  69  74  81  98  61  79  73  82  88  62  81  78  62  71  54  74  94\n",
      "  73  83  74  72  73  77  64  76  74  67  90  75  91  64  82  56  78  91\n",
      "  73  89  59  83 100  76  79  70  77  85  73  95  70  91  84  87  60  66\n",
      "  63  60  71  90  84  86  92  79  73  63  82  76  80  79  64  88  73]\n",
      "\n",
      " Leaving out index 143 | Jacknife estimate: 76.34\n",
      " Jacknife sample data:\n",
      "[ 73  59  67  68  68  75  97  73  94  68  55  65  42  77  76  74  93  91\n",
      "  58  92  73  73  68  81  73  65  66  70  92  72  72  62  78  86  73  85\n",
      "  67  69  80  72  71  82  57  82  99  89  85  90  84  91  98  84  95  67\n",
      "  74  73  71 100  80  89  75  71  70  65  69  71  65  90  90  77  69  64\n",
      "  80  69  74  81  98  61  79  73  82  88  62  81  78  62  71  54  74  94\n",
      "  73  83  74  72  73  77  64  76  74  67  90  75  91  64  82  56  78  91\n",
      "  73  89  59  83 100  76  79  70  77  85  73  95  70  91  84  87  60  66\n",
      "  63  60  71  90  84  86  92  79  73  63  82  76  80  79  64  88  70]\n",
      "\n",
      "\n",
      "-----\n",
      "\n",
      "Finally:\n",
      "\n",
      "The true Jackknife estimate of the mean dBP = 76.32\n",
      "\n"
     ]
    }
   ],
   "source": [
    "np.random.seed(123)\n",
    "\n",
    "# Leave one observation out from dPB data to get the jackknife sample and store the mean value fo each sample\n",
    "mean_dBP_samples, replications = [], len(dBP)   #mean_dBP_samples are empty lists, replications=1000 \n",
    "\n",
    "index = np.arange(replications)                      # array([  0,   1,   2,   3, .... 143])\n",
    "\n",
    "print(f'\\n Original data:\\n{dBP}')\n",
    "\n",
    "for i in range(replications):\n",
    "    jk_sample = dBP[index != i]\n",
    "    mean_dBP_samples.append(np.mean(jk_sample))      #compute statistic\n",
    "    \n",
    "    # for debugging purposes only print out a fee sample\n",
    "    if i < 4 or i > 140:\n",
    "        print(f'\\n Leaving out index {i} | Jacknife estimate: {np.mean(jk_sample):.2f}\\n Jacknife sample data:\\n{jk_sample}')    \n",
    "\n",
    "# The jackknife estimate is the mean of dBP from each sample\n",
    "mean_dBP_jk = np.mean(np.array(mean_dBP_samples))\n",
    "print(f'\\n\\n-----\\n\\nFinally:\\n\\nThe true Jackknife estimate of the mean dBP = {mean_dBP_jk:.2f}\\n')\n"
   ]
  },
  {
   "cell_type": "markdown",
   "metadata": {},
   "source": [
    "<p /><p />\n",
    "\n",
    "***\n",
    "\n",
    "<b style=\"font-size:40px; color:#00FF00\">References</b>\n",
    "\n",
    "* <https://goodboychan.github.io/chans_jupyter/python/datacamp/statistics/modeling/2020/06/22/01-Resampling-methods.html#Bootstrapping>\n",
    "* <https://people.duke.edu/~ccc14/sta-663/ResamplingAndMonteCarloSimulations.html>\n",
    "* <https://machinelearningmastery.com/calculate-bootstrap-confidence-intervals-machine-learning-results-python/>\n",
    "\n",
    "\n",
    "\n",
    "# Additional References\n",
    "\n",
    "* <https://moderndive.com/>\n",
    "\n",
    "* <https://towardsdatascience.com/hypothesis-testing-in-machine-learning-using-python-a0dc89e169ce>\n",
    "\n",
    "* <https://towardsdatascience.com/demystifying-hypothesis-testing-with-simple-python-examples-4997ad3c5294>\n",
    "\n",
    "\n",
    "***\n",
    "   \n",
    "<p /><p />\n",
    "\n",
    "\n",
    "<hr style=\"color:#FE0000;border:0.5px solid red;width:75%\" />\n",
    "\n",
    "<p /><p />\n",
    "\n",
    "\n",
    "<center><b style=\"font-size:30px; color:#013220\">CONGRATULATION!!!<br \\><br \\><br \\><br \\>YOU HAVE SUCCESSFULLY COMPLETED <br \\><br \\>ALL YOUR CODING TASKS FOR <br \\><br \\>MODULE 3</b></center>\n",
    "\n",
    "\n",
    "\n",
    "<hr style=\"color:#FE0000;border:0.5px solid red\" />\n",
    "\n",
    "<p /><p />\n",
    "\n"
   ]
  },
  {
   "cell_type": "code",
   "execution_count": null,
   "metadata": {},
   "outputs": [],
   "source": []
  },
  {
   "cell_type": "code",
   "execution_count": 330,
   "metadata": {},
   "outputs": [
    {
     "data": {
      "text/plain": [
       "0.25"
      ]
     },
     "execution_count": 330,
     "metadata": {},
     "output_type": "execute_result"
    }
   ],
   "source": [
    "##Slide 19  - Specificity \n",
    "\n",
    "from sklearn.metrics import recall_score\n",
    "y_true = [0, 1, 0, 0, 1, 0]\n",
    "y_pred = [0, 0, 1, 1, 0, 1]\n",
    "recall_score(y_true, y_pred, pos_label=0)"
   ]
  },
  {
   "cell_type": "code",
   "execution_count": null,
   "metadata": {},
   "outputs": [],
   "source": []
  },
  {
   "cell_type": "code",
   "execution_count": 173,
   "metadata": {},
   "outputs": [],
   "source": [
    "#!pip install scikit-plot"
   ]
  },
  {
   "cell_type": "code",
   "execution_count": 331,
   "metadata": {},
   "outputs": [
    {
     "name": "stdout",
     "output_type": "stream",
     "text": [
      "[[1 3]\n",
      " [2 0]]\n"
     ]
    },
    {
     "data": {
      "image/png": "[encoded data removed]",
      "text/plain": [
       "<Figure size 576x576 with 2 Axes>"
      ]
     },
     "metadata": {
      "needs_background": "light"
     },
     "output_type": "display_data"
    }
   ],
   "source": [
    "## Slide 15\n",
    "# https://scikit-learn.org/stable/modules/generated/sklearn.metrics.plot_confusion_matrix.html\n",
    "\n",
    "from sklearn.metrics import confusion_matrix\n",
    "import scikitplot as skplt\n",
    "\n",
    "print(confusion_matrix(y_true, y_pred))\n",
    "skplt.metrics.plot_confusion_matrix(y_true, y_pred,figsize=(8,8))\n",
    "plt.show()"
   ]
  },
  {
   "cell_type": "code",
   "execution_count": 332,
   "metadata": {},
   "outputs": [
    {
     "name": "stdout",
     "output_type": "stream",
     "text": [
      "[[1 3]\n",
      " [2 0]]\n"
     ]
    },
    {
     "data": {
      "text/plain": [
       "numpy.ndarray"
      ]
     },
     "execution_count": 332,
     "metadata": {},
     "output_type": "execute_result"
    }
   ],
   "source": [
    "cm = confusion_matrix(y_true, y_pred)\n",
    "print(cm)\n",
    "type(cm)"
   ]
  },
  {
   "cell_type": "code",
   "execution_count": 333,
   "metadata": {},
   "outputs": [
    {
     "data": {
      "text/plain": [
       "array([[231,  27],\n",
       "       [ 32,  54]])"
      ]
     },
     "execution_count": 333,
     "metadata": {},
     "output_type": "execute_result"
    }
   ],
   "source": [
    "cm = np.array([[231, 27], [32, 54]])\n",
    "cm"
   ]
  },
  {
   "cell_type": "code",
   "execution_count": null,
   "metadata": {},
   "outputs": [],
   "source": []
  },
  {
   "cell_type": "code",
   "execution_count": 195,
   "metadata": {},
   "outputs": [],
   "source": [
    "#!pip install pretty_confusion_matrix"
   ]
  },
  {
   "cell_type": "code",
   "execution_count": 334,
   "metadata": {
    "scrolled": true
   },
   "outputs": [
    {
     "name": "stdout",
     "output_type": "stream",
     "text": [
      "     1   2\n",
      "1  231  27\n",
      "2   32  54\n"
     ]
    },
    {
     "data": {
      "image/png": "[encoded data removed]",
      "text/plain": [
       "<Figure size 576x576 with 1 Axes>"
      ]
     },
     "metadata": {
      "needs_background": "light"
     },
     "output_type": "display_data"
    }
   ],
   "source": [
    "from pretty_confusion_matrix import pp_matrix\n",
    "\n",
    "df_cm = pd.DataFrame(cm, index=range(1, 3), columns=range(1, 3))\n",
    "print(df_cm)\n",
    "\n",
    "\n",
    "# colormap: see this and choose your more dear\n",
    "cmap = 'PuRd'\n",
    "pp_matrix(df_cm, cmap=cmap)\n",
    "\n",
    "plt.show()"
   ]
  },
  {
   "cell_type": "code",
   "execution_count": 192,
   "metadata": {},
   "outputs": [
    {
     "name": "stdout",
     "output_type": "stream",
     "text": [
      "[[1 3]\n",
      " [2 0]]\n"
     ]
    },
    {
     "ename": "TypeError",
     "evalue": "plot_confusion_matrix() missing 1 required positional argument: 'y_pred'",
     "output_type": "error",
     "traceback": [
      "\u001b[1;31m---------------------------------------------------------------------------\u001b[0m",
      "\u001b[1;31mTypeError\u001b[0m                                 Traceback (most recent call last)",
      "\u001b[1;32m~\\AppData\\Local\\Temp/ipykernel_12880/730254881.py\u001b[0m in \u001b[0;36m<module>\u001b[1;34m\u001b[0m\n\u001b[0;32m      1\u001b[0m \u001b[0mprint\u001b[0m\u001b[1;33m(\u001b[0m\u001b[0mconfusion_matrix\u001b[0m\u001b[1;33m(\u001b[0m\u001b[0my_true\u001b[0m\u001b[1;33m,\u001b[0m \u001b[0my_pred\u001b[0m\u001b[1;33m)\u001b[0m\u001b[1;33m)\u001b[0m\u001b[1;33m\u001b[0m\u001b[1;33m\u001b[0m\u001b[0m\n\u001b[1;32m----> 2\u001b[1;33m \u001b[0mskplt\u001b[0m\u001b[1;33m.\u001b[0m\u001b[0mmetrics\u001b[0m\u001b[1;33m.\u001b[0m\u001b[0mplot_confusion_matrix\u001b[0m\u001b[1;33m(\u001b[0m\u001b[0mcm\u001b[0m\u001b[1;33m,\u001b[0m\u001b[0mfigsize\u001b[0m\u001b[1;33m=\u001b[0m\u001b[1;33m(\u001b[0m\u001b[1;36m8\u001b[0m\u001b[1;33m,\u001b[0m\u001b[1;36m8\u001b[0m\u001b[1;33m)\u001b[0m\u001b[1;33m)\u001b[0m\u001b[1;33m\u001b[0m\u001b[1;33m\u001b[0m\u001b[0m\n\u001b[0m\u001b[0;32m      3\u001b[0m \u001b[0mplt\u001b[0m\u001b[1;33m.\u001b[0m\u001b[0mshow\u001b[0m\u001b[1;33m(\u001b[0m\u001b[1;33m)\u001b[0m\u001b[1;33m\u001b[0m\u001b[1;33m\u001b[0m\u001b[0m\n",
      "\u001b[1;31mTypeError\u001b[0m: plot_confusion_matrix() missing 1 required positional argument: 'y_pred'"
     ]
    }
   ],
   "source": [
    "print(confusion_matrix(y_true, y_pred))\n",
    "skplt.metrics.plot_confusion_matrix(cm,figsize=(8,8))\n",
    "plt.show()"
   ]
  },
  {
   "cell_type": "code",
   "execution_count": null,
   "metadata": {},
   "outputs": [],
   "source": [
    "X = "
   ]
  },
  {
   "cell_type": "code",
   "execution_count": null,
   "metadata": {},
   "outputs": [],
   "source": []
  },
  {
   "cell_type": "code",
   "execution_count": null,
   "metadata": {},
   "outputs": [],
   "source": []
  },
  {
   "cell_type": "markdown",
   "metadata": {},
   "source": [
    "<a id=\"slide_m-3\"></a>\n",
    "<hr>\n",
    "\n",
    "##  Module 3 - Day 3 -- Thursday, March 31, 2022\n",
    "\n",
    "<hr>"
   ]
  },
  {
   "cell_type": "markdown",
   "metadata": {},
   "source": [
    "## Module 3b: Correlation and Regression  "
   ]
  },
  {
   "cell_type": "markdown",
   "metadata": {},
   "source": [
    "### Outline\n",
    "\n",
    "1. Multivariable Models\n",
    "2. Interactions\n",
    "3. Multivariate models - Profile analysis\n",
    "4. Generalized Linear Models\n",
    "5. Count Models\n",
    "6. Time-to-event Models\n"
   ]
  },
  {
   "cell_type": "code",
   "execution_count": 143,
   "metadata": {},
   "outputs": [],
   "source": [
    "\n",
    "#Libraries\n",
    "\n",
    "#!pip install xlrd \n",
    "#!pip pandas_profiling\n",
    "#!pip install sweetviz"
   ]
  },
  {
   "cell_type": "code",
   "execution_count": 181,
   "metadata": {},
   "outputs": [
    {
     "name": "stdout",
     "output_type": "stream",
     "text": [
      "   PT  Cholesterol  Weight  Age\n",
      "0   1          354      84   46\n",
      "1   2          190      73   20\n",
      "2   3          405      65   52\n",
      "3   4          263      70   30\n",
      "4   5          451      76   57\n"
     ]
    }
   ],
   "source": [
    "## Steps\n",
    "\n",
    "# Load modules \n",
    "import numpy as np\n",
    "import pandas as pd\n",
    "import statsmodels.api as sm\n",
    "\n",
    "#!pip install pandas_profiling\n",
    "import pandas_profiling\n",
    "\n",
    "#!pip install sweetviz\n",
    "import sweetviz\n",
    "\n",
    "# importing/Load data - create a HowardData_df dataframe from the \"HowardData.xls\", sheet_name=1\n",
    "#df = pd.read_excel(\"HowardData.xls\", sheet_name=1)\n",
    "df = pd.read_excel(\"Data.xls\", sheet_name=1)\n",
    "\n",
    "print(df.head())\n",
    "# Explore your dataset to help you identify and select your y and X variables\n",
    "#* See: https://www.analyticsvidhya.com/blog/2021/04/top-python-libraries-to-automate-exploratory-data-analysis-in-2021/\n",
    "#importing required packages\n",
    "\n",
    "#descriptive statistics\n",
    "#1: With pandas_profiling\n",
    "#pandas_profiling.ProfileReport(df)\n",
    "\n",
    "#2: With sweetviz\n",
    "#my_report  = sweetviz.analyze([df,'Train'], target_feat='SalePrice')\n",
    "#my_report.show_html('FinalReport.html')"
   ]
  },
  {
   "cell_type": "code",
   "execution_count": 148,
   "metadata": {},
   "outputs": [
    {
     "data": {
      "text/plain": [
       "Text(0, 0.5, 'Frequency')"
      ]
     },
     "execution_count": 148,
     "metadata": {},
     "output_type": "execute_result"
    },
    {
     "data": {
      "image/png": "[encoded data removed]",
      "text/plain": [
       "<Figure size 1332x792 with 1 Axes>"
      ]
     },
     "metadata": {
      "needs_background": "light"
     },
     "output_type": "display_data"
    }
   ],
   "source": [
    "#This is better\n",
    "df.Age.hist( alpha = 0.6)\n",
    "plt.title('Histogram of Age')\n",
    "plt.xlabel('Age')\n",
    "plt.ylabel('Frequency')\n",
    "\n",
    "df.Weight.hist( alpha = 0.6)\n",
    "plt.title('Histogram of Weight')\n",
    "plt.xlabel('Weight')\n",
    "plt.ylabel('Frequency')\n",
    "\n",
    "#Observation\n",
    "#Most of the customers of the bank in this dataset are in the age range of 50+.#"
   ]
  },
  {
   "cell_type": "code",
   "execution_count": 149,
   "metadata": {},
   "outputs": [
    {
     "data": {
      "text/html": [
       "<style type=\"text/css\">\n",
       "#T_daf1c_row0_col0, #T_daf1c_row1_col1, #T_daf1c_row2_col2 {\n",
       "  background-color: #b40426;\n",
       "  color: #f1f1f1;\n",
       "}\n",
       "#T_daf1c_row0_col1 {\n",
       "  background-color: #445acc;\n",
       "  color: #f1f1f1;\n",
       "}\n",
       "#T_daf1c_row0_col2 {\n",
       "  background-color: #f08a6c;\n",
       "  color: #f1f1f1;\n",
       "}\n",
       "#T_daf1c_row1_col0, #T_daf1c_row1_col2, #T_daf1c_row2_col1 {\n",
       "  background-color: #3b4cc0;\n",
       "  color: #f1f1f1;\n",
       "}\n",
       "#T_daf1c_row2_col0 {\n",
       "  background-color: #f18d6f;\n",
       "  color: #f1f1f1;\n",
       "}\n",
       "</style>\n",
       "<table id=\"T_daf1c_\">\n",
       "  <thead>\n",
       "    <tr>\n",
       "      <th class=\"blank level0\" >&nbsp;</th>\n",
       "      <th class=\"col_heading level0 col0\" >Cholesterol</th>\n",
       "      <th class=\"col_heading level0 col1\" >Weight</th>\n",
       "      <th class=\"col_heading level0 col2\" >Age</th>\n",
       "    </tr>\n",
       "  </thead>\n",
       "  <tbody>\n",
       "    <tr>\n",
       "      <th id=\"T_daf1c_level0_row0\" class=\"row_heading level0 row0\" >Cholesterol</th>\n",
       "      <td id=\"T_daf1c_row0_col0\" class=\"data row0 col0\" >1.000000</td>\n",
       "      <td id=\"T_daf1c_row0_col1\" class=\"data row0 col1\" >0.265293</td>\n",
       "      <td id=\"T_daf1c_row0_col2\" class=\"data row0 col2\" >0.837353</td>\n",
       "    </tr>\n",
       "    <tr>\n",
       "      <th id=\"T_daf1c_level0_row1\" class=\"row_heading level0 row1\" >Weight</th>\n",
       "      <td id=\"T_daf1c_row1_col0\" class=\"data row1 col0\" >0.265293</td>\n",
       "      <td id=\"T_daf1c_row1_col1\" class=\"data row1 col1\" >1.000000</td>\n",
       "      <td id=\"T_daf1c_row1_col2\" class=\"data row1 col2\" >0.240013</td>\n",
       "    </tr>\n",
       "    <tr>\n",
       "      <th id=\"T_daf1c_level0_row2\" class=\"row_heading level0 row2\" >Age</th>\n",
       "      <td id=\"T_daf1c_row2_col0\" class=\"data row2 col0\" >0.837353</td>\n",
       "      <td id=\"T_daf1c_row2_col1\" class=\"data row2 col1\" >0.240013</td>\n",
       "      <td id=\"T_daf1c_row2_col2\" class=\"data row2 col2\" >1.000000</td>\n",
       "    </tr>\n",
       "  </tbody>\n",
       "</table>\n"
      ],
      "text/plain": [
       "<pandas.io.formats.style.Styler at 0x20efcae1ee0>"
      ]
     },
     "execution_count": 149,
     "metadata": {},
     "output_type": "execute_result"
    }
   ],
   "source": [
    "# Drop variables that need to be dropped and select your y and X variables\n",
    "## Corplot\n",
    "corr = df.drop('PT', axis=1).corr()\n",
    "\n",
    "corr.style.background_gradient(cmap='coolwarm')"
   ]
  },
  {
   "cell_type": "code",
   "execution_count": 170,
   "metadata": {},
   "outputs": [
    {
     "name": "stdout",
     "output_type": "stream",
     "text": [
      "<class 'pandas.core.series.Series'>\n",
      "<class 'pandas.core.frame.DataFrame'>\n"
     ]
    },
    {
     "data": {
      "text/plain": [
       "0    354\n",
       "1    190\n",
       "Name: Cholesterol, dtype: int64"
      ]
     },
     "metadata": {},
     "output_type": "display_data"
    },
    {
     "data": {
      "text/html": [
       "<div>\n",
       "<style scoped>\n",
       "    .dataframe tbody tr th:only-of-type {\n",
       "        vertical-align: middle;\n",
       "    }\n",
       "\n",
       "    .dataframe tbody tr th {\n",
       "        vertical-align: top;\n",
       "    }\n",
       "\n",
       "    .dataframe thead th {\n",
       "        text-align: right;\n",
       "    }\n",
       "</style>\n",
       "<table border=\"1\" class=\"dataframe\">\n",
       "  <thead>\n",
       "    <tr style=\"text-align: right;\">\n",
       "      <th></th>\n",
       "      <th>Age</th>\n",
       "      <th>Weight</th>\n",
       "    </tr>\n",
       "  </thead>\n",
       "  <tbody>\n",
       "    <tr>\n",
       "      <th>0</th>\n",
       "      <td>46</td>\n",
       "      <td>84</td>\n",
       "    </tr>\n",
       "    <tr>\n",
       "      <th>1</th>\n",
       "      <td>20</td>\n",
       "      <td>73</td>\n",
       "    </tr>\n",
       "  </tbody>\n",
       "</table>\n",
       "</div>"
      ],
      "text/plain": [
       "   Age  Weight\n",
       "0   46      84\n",
       "1   20      73"
      ]
     },
     "metadata": {},
     "output_type": "display_data"
    },
    {
     "name": "stdout",
     "output_type": "stream",
     "text": [
      "Model type:  <statsmodels.regression.linear_model.OLS object at 0x0000020EFCE755E0>\n",
      "\n",
      "========================  With sklearn =========================\n",
      "\n",
      "\n",
      " Type of model generate: <class 'sklearn.linear_model._base.LinearRegression'>\n",
      "----\n",
      "\n",
      "Model type:  LinearRegression()\n",
      "Intercept: \n",
      " 77.98253861487552\n",
      "Coefficients: \n",
      " [0.         5.21659081 0.4173621 ]\n",
      "[[1, 50, 75.4]]\n",
      "Predicted Cholesterol level: \n",
      " [370.2811813]\n",
      "\n",
      "========================  With statsmodels =========================\n",
      "                            OLS Regression Results                            \n",
      "==============================================================================\n",
      "Dep. Variable:            Cholesterol   R-squared:                       0.706\n",
      "Model:                            OLS   Adj. R-squared:                  0.679\n",
      "Method:                 Least Squares   F-statistic:                     26.36\n",
      "Date:                Wed, 30 Mar 2022   Prob (F-statistic):           1.44e-06\n",
      "Time:                        12:36:18   Log-Likelihood:                -128.54\n",
      "No. Observations:                  25   AIC:                             263.1\n",
      "Df Residuals:                      22   BIC:                             266.7\n",
      "Df Model:                           2                                         \n",
      "Covariance Type:            nonrobust                                         \n",
      "==============================================================================\n",
      "                 coef    std err          t      P>|t|      [0.025      0.975]\n",
      "------------------------------------------------------------------------------\n",
      "const         77.9825     52.430      1.487      0.151     -30.750     186.715\n",
      "Age            5.2166      0.757      6.889      0.000       3.646       6.787\n",
      "Weight         0.4174      0.729      0.573      0.573      -1.094       1.929\n",
      "==============================================================================\n",
      "Omnibus:                        0.810   Durbin-Watson:                   1.582\n",
      "Prob(Omnibus):                  0.667   Jarque-Bera (JB):                0.815\n",
      "Skew:                           0.363   Prob(JB):                        0.665\n",
      "Kurtosis:                       2.495   Cond. No.                         477.\n",
      "==============================================================================\n",
      "\n",
      "Notes:\n",
      "[1] Standard Errors assume that the covariance matrix of the errors is correctly specified.\n"
     ]
    }
   ],
   "source": [
    "# Define dependent and independent variables\n",
    "## Note: see how the selection is doen for 2 variables -- i.e., for multiple regression. \n",
    "#  If you just want to use one variable for simple linear regression, \n",
    "#  then use X = df['Age'] for example.Alternatively, you may add additional variables within the brackets\n",
    "  \n",
    "y = Data_df['Cholesterol']       #pandas.core.series.Series\n",
    "X = Data_df[['Age','Weight']]   #pandas.core.frame.DataFrame\n",
    "print(type(y)); print(type(X))\n",
    "\n",
    "display(y.head(n=2))\n",
    "display(X.head(n=2))\n",
    "\n",
    "\n",
    "# adding a constant\n",
    "X = sm.add_constant(X) \n",
    "\n",
    "#----------------------------------------------------------------------------\n",
    "#Recall: Import, instantiate, fit.\n",
    "#---------------------------------\n",
    "# \n",
    "#Step 3: Fit a LinearRegression model on X and y from the linear_model section of scikit-learn.\n",
    "#        (aka \"model training\")\n",
    "\n",
    "model = sm.OLS(y, X)\n",
    "print(\"Model type: \", model)\n",
    "\n",
    "print(\"\\n========================  With sklearn =========================\")\n",
    "# with sklearn\n",
    "linreg = linear_model.LinearRegression()\n",
    "print(\"\\n\\n Type of model generate: %s\\n----\\n\" % type(linreg))\n",
    "linreg.fit(X, y)\n",
    "\n",
    "print(\"Model type: \", linreg)\n",
    "print('Intercept: \\n', linreg.intercept_)\n",
    "print('Coefficients: \\n', linreg.coef_)\n",
    "\n",
    "# prediction with sklearn\n",
    "constant=1; Age=50; Weight=75.4\n",
    "NewX = [[constant, Age, Weight]]\n",
    "print(NewX)\n",
    "print ('Predicted Cholesterol level: \\n', linreg.predict(NewX))\n",
    "\n",
    "\n",
    "print(\"\\n========================  With statsmodels =========================\")\n",
    "# with statsmodels\n",
    " \n",
    "ols_model = sm.OLS(y, X).fit()   ##Make an instance of a OLS object  ols_model = sm.OLS(y,X).fit()\n",
    "predictions = ols_model.predict(X) \n",
    " \n",
    "print_ols_model = ols_model.summary()\n",
    "print(print_ols_model)"
   ]
  },
  {
   "cell_type": "markdown",
   "metadata": {},
   "source": [
    "##  Now we take a look at Slide #9 of HowardU_regesssion3-31-22"
   ]
  },
  {
   "cell_type": "code",
   "execution_count": 176,
   "metadata": {},
   "outputs": [
    {
     "data": {
      "text/html": [
       "<div>\n",
       "<style scoped>\n",
       "    .dataframe tbody tr th:only-of-type {\n",
       "        vertical-align: middle;\n",
       "    }\n",
       "\n",
       "    .dataframe tbody tr th {\n",
       "        vertical-align: top;\n",
       "    }\n",
       "\n",
       "    .dataframe thead th {\n",
       "        text-align: right;\n",
       "    }\n",
       "</style>\n",
       "<table border=\"1\" class=\"dataframe\">\n",
       "  <thead>\n",
       "    <tr style=\"text-align: right;\">\n",
       "      <th></th>\n",
       "      <th>PT</th>\n",
       "      <th>Cholesterol</th>\n",
       "      <th>Weight</th>\n",
       "      <th>Age</th>\n",
       "    </tr>\n",
       "  </thead>\n",
       "  <tbody>\n",
       "    <tr>\n",
       "      <th>0</th>\n",
       "      <td>1</td>\n",
       "      <td>354</td>\n",
       "      <td>84</td>\n",
       "      <td>46</td>\n",
       "    </tr>\n",
       "    <tr>\n",
       "      <th>1</th>\n",
       "      <td>2</td>\n",
       "      <td>190</td>\n",
       "      <td>73</td>\n",
       "      <td>20</td>\n",
       "    </tr>\n",
       "    <tr>\n",
       "      <th>2</th>\n",
       "      <td>3</td>\n",
       "      <td>405</td>\n",
       "      <td>65</td>\n",
       "      <td>52</td>\n",
       "    </tr>\n",
       "  </tbody>\n",
       "</table>\n",
       "</div>"
      ],
      "text/plain": [
       "   PT  Cholesterol  Weight  Age\n",
       "0   1          354      84   46\n",
       "1   2          190      73   20\n",
       "2   3          405      65   52"
      ]
     },
     "metadata": {},
     "output_type": "display_data"
    },
    {
     "name": "stdout",
     "output_type": "stream",
     "text": [
      "\n",
      "========================  With sklearn =========================\n",
      "Intercept: \n",
      " 77.98253861487552\n",
      "Coefficients: \n",
      " [5.21659081 0.4173621 ]\n",
      "\n",
      "========================  With statsmodels =========================\n",
      "                            OLS Regression Results                            \n",
      "==============================================================================\n",
      "Dep. Variable:            Cholesterol   R-squared:                       0.706\n",
      "Model:                            OLS   Adj. R-squared:                  0.679\n",
      "Method:                 Least Squares   F-statistic:                     26.36\n",
      "Date:                Wed, 30 Mar 2022   Prob (F-statistic):           1.44e-06\n",
      "Time:                        12:46:45   Log-Likelihood:                -128.54\n",
      "No. Observations:                  25   AIC:                             263.1\n",
      "Df Residuals:                      22   BIC:                             266.7\n",
      "Df Model:                           2                                         \n",
      "Covariance Type:            nonrobust                                         \n",
      "==============================================================================\n",
      "                 coef    std err          t      P>|t|      [0.025      0.975]\n",
      "------------------------------------------------------------------------------\n",
      "const         77.9825     52.430      1.487      0.151     -30.750     186.715\n",
      "Age            5.2166      0.757      6.889      0.000       3.646       6.787\n",
      "Weight         0.4174      0.729      0.573      0.573      -1.094       1.929\n",
      "==============================================================================\n",
      "Omnibus:                        0.810   Durbin-Watson:                   1.582\n",
      "Prob(Omnibus):                  0.667   Jarque-Bera (JB):                0.815\n",
      "Skew:                           0.363   Prob(JB):                        0.665\n",
      "Kurtosis:                       2.495   Cond. No.                         477.\n",
      "==============================================================================\n",
      "\n",
      "Notes:\n",
      "[1] Standard Errors assume that the covariance matrix of the errors is correctly specified.\n"
     ]
    }
   ],
   "source": [
    "# Slide 9  --\n",
    "#  See: https://www.projectpro.io/article/types-of-regression-analysis-in-machine-learning/410#mcetoc_1fbbt5ar3o\n",
    "import pandas as pd\n",
    "from sklearn import linear_model\n",
    "import statsmodels.api as sm\n",
    "\n",
    "# The data\n",
    "# create a HowardData_df dataframe from the \"HowardData.xls\", sheet_name=1\n",
    "Data_df = pd.read_excel(\"Data.xls\", sheet_name=1)\n",
    "#HowardData_df = pd.read_excel(\"./HowardData.xls\", sheet_name=0)\n",
    "display(Data_df.head(n=3))\n",
    "\n",
    "# Age \n",
    "X = Data_df[['Age']]   #series\n",
    "\n",
    "#----\n",
    "# Age + Weight + Age*Weight\n",
    "X = Data_df[['Age', 'Weight']]   #series\n",
    "#X['Weight_Age'] = Data_df.Age * Data_df.Weight\n",
    "\n",
    "#----\n",
    "y = Data_df['Cholesterol']      #pandas.core.series.Series\n",
    "\n",
    "print(\"\\n========================  With sklearn =========================\")\n",
    "# with sklearn\n",
    "regr = linear_model.LinearRegression()\n",
    "regr.fit(X, y)\n",
    "\n",
    "#print((regr))\n",
    "\n",
    "print('Intercept: \\n', regr.intercept_)\n",
    "print('Coefficients: \\n', regr.coef_)\n",
    "\n",
    "# prediction with sklearn\n",
    "#New_Interest_Rate = 2.75\n",
    "#New_Unemployment_Rate = 5.3\n",
    "#print ('Predicted Stock Index Price: \\n', regr.predict([[New_Interest_Rate ,New_Unemployment_Rate]]))\n",
    "\n",
    "print(\"\\n========================  With statsmodels =========================\")\n",
    "# with statsmodels\n",
    "X = sm.add_constant(X) # adding a constant\n",
    " \n",
    "model = sm.OLS(y, X).fit()\n",
    "predictions = model.predict(X) \n",
    " \n",
    "print_model = model.summary()\n",
    "print(print_model)"
   ]
  },
  {
   "cell_type": "markdown",
   "metadata": {},
   "source": []
  },
  {
   "cell_type": "code",
   "execution_count": 178,
   "metadata": {},
   "outputs": [
    {
     "name": "stdout",
     "output_type": "stream",
     "text": [
      "                            OLS Regression Results                            \n",
      "==============================================================================\n",
      "Dep. Variable:                    dBP   R-squared:                       0.380\n",
      "Model:                            OLS   Adj. R-squared:                  0.362\n",
      "Method:                 Least Squares   F-statistic:                     21.29\n",
      "Date:                Wed, 30 Mar 2022   Prob (F-statistic):           1.04e-13\n",
      "Time:                        12:53:58   Log-Likelihood:                -516.28\n",
      "No. Observations:                 144   AIC:                             1043.\n",
      "Df Residuals:                     139   BIC:                             1057.\n",
      "Df Model:                           4                                         \n",
      "Covariance Type:            nonrobust                                         \n",
      "=================================================================================\n",
      "                    coef    std err          t      P>|t|      [0.025      0.975]\n",
      "---------------------------------------------------------------------------------\n",
      "Intercept        68.6732      5.389     12.744      0.000      58.019      79.328\n",
      "Drug[T.1]       -10.4658      7.051     -1.484      0.140     -24.406       3.475\n",
      "Drug[T. ]      6.224e-13   5.46e-14     11.389      0.000    5.14e-13     7.3e-13\n",
      "Sex[T.1]         -2.2661      1.541     -1.471      0.144      -5.312       0.780\n",
      "Sex[T. ]       5.015e-15   1.87e-15      2.686      0.008    1.32e-15    8.71e-15\n",
      "Age               0.2222      0.077      2.893      0.004       0.070       0.374\n",
      "Drug[T.1]:Age     0.0122      0.112      0.109      0.913      -0.209       0.233\n",
      "Drug[T. ]:Age          0          0        nan        nan           0           0\n",
      "==============================================================================\n",
      "Omnibus:                        0.976   Durbin-Watson:                   1.859\n",
      "Prob(Omnibus):                  0.614   Jarque-Bera (JB):                0.619\n",
      "Skew:                          -0.128   Prob(JB):                        0.734\n",
      "Kurtosis:                       3.193   Cond. No.                          inf\n",
      "==============================================================================\n",
      "\n",
      "Notes:\n",
      "[1] Standard Errors assume that the covariance matrix of the errors is correctly specified.\n",
      "[2] The smallest eigenvalue is      0. This might indicate that there are\n",
      "strong multicollinearity problems or that the design matrix is singular.\n"
     ]
    }
   ],
   "source": [
    "# Slide 15\n",
    "# Generalized Linear Models \n",
    "# https://www.statsmodels.org/v0.10.1/glm.html\n",
    "# https://www.statsmodels.org/stable/regression.html\n",
    "# https://regenerativetoday.com/logistic-regression-model-analysis-visualization-and-prediction/\n",
    "\n",
    "# The data\n",
    "dataset = pd.read_excel(\"./HowardData.xls\", sheet_name=0)\n",
    "dataset.columns = [\"dBP\", \"Drug\", \"Age\", \"Sex\"]\n",
    "dataset.head(n=3)\n",
    "\n",
    "## Example1\n",
    "formular1 = \"dBP ~ Drug + Age + Sex + Drug*Age + Drug*Sex\"\n",
    "formular2 = \"dBP ~ Drug + Age + Sex + Drug*Age\"\n",
    "\n",
    "#model = sm.GLM.from_formula(formular, family = sm.families.Binomial(), data=dataset)\n",
    "model = sm.OLS.from_formula(formular2, data=dataset)\n",
    "result = model.fit()\n",
    "print(result.summary())\n",
    "\n",
    "#-------------------\n",
    "## Example2\n",
    "#model = sm.GLM.from_formula(\"CD ~ Age\", family = sm.families.Binomial(), data=dataset)\n",
    "#result = model.fit()\n",
    "#print(result.summary())"
   ]
  },
  {
   "cell_type": "code",
   "execution_count": 179,
   "metadata": {},
   "outputs": [
    {
     "data": {
      "text/html": [
       "<div>\n",
       "<style scoped>\n",
       "    .dataframe tbody tr th:only-of-type {\n",
       "        vertical-align: middle;\n",
       "    }\n",
       "\n",
       "    .dataframe tbody tr th {\n",
       "        vertical-align: top;\n",
       "    }\n",
       "\n",
       "    .dataframe thead th {\n",
       "        text-align: right;\n",
       "    }\n",
       "</style>\n",
       "<table border=\"1\" class=\"dataframe\">\n",
       "  <thead>\n",
       "    <tr style=\"text-align: right;\">\n",
       "      <th></th>\n",
       "      <th>PT</th>\n",
       "      <th>Cholesterol</th>\n",
       "      <th>Weight</th>\n",
       "      <th>Age</th>\n",
       "    </tr>\n",
       "  </thead>\n",
       "  <tbody>\n",
       "    <tr>\n",
       "      <th>0</th>\n",
       "      <td>1</td>\n",
       "      <td>354</td>\n",
       "      <td>84</td>\n",
       "      <td>46</td>\n",
       "    </tr>\n",
       "    <tr>\n",
       "      <th>1</th>\n",
       "      <td>2</td>\n",
       "      <td>190</td>\n",
       "      <td>73</td>\n",
       "      <td>20</td>\n",
       "    </tr>\n",
       "    <tr>\n",
       "      <th>2</th>\n",
       "      <td>3</td>\n",
       "      <td>405</td>\n",
       "      <td>65</td>\n",
       "      <td>52</td>\n",
       "    </tr>\n",
       "  </tbody>\n",
       "</table>\n",
       "</div>"
      ],
      "text/plain": [
       "   PT  Cholesterol  Weight  Age\n",
       "0   1          354      84   46\n",
       "1   2          190      73   20\n",
       "2   3          405      65   52"
      ]
     },
     "metadata": {},
     "output_type": "display_data"
    },
    {
     "data": {
      "text/html": [
       "<div>\n",
       "<style scoped>\n",
       "    .dataframe tbody tr th:only-of-type {\n",
       "        vertical-align: middle;\n",
       "    }\n",
       "\n",
       "    .dataframe tbody tr th {\n",
       "        vertical-align: top;\n",
       "    }\n",
       "\n",
       "    .dataframe thead th {\n",
       "        text-align: right;\n",
       "    }\n",
       "</style>\n",
       "<table border=\"1\" class=\"dataframe\">\n",
       "  <thead>\n",
       "    <tr style=\"text-align: right;\">\n",
       "      <th></th>\n",
       "      <th>dBP</th>\n",
       "      <th>drug</th>\n",
       "      <th>age</th>\n",
       "      <th>sex</th>\n",
       "    </tr>\n",
       "  </thead>\n",
       "  <tbody>\n",
       "    <tr>\n",
       "      <th>0</th>\n",
       "      <td>73.0</td>\n",
       "      <td>0</td>\n",
       "      <td>65.0</td>\n",
       "      <td>1</td>\n",
       "    </tr>\n",
       "    <tr>\n",
       "      <th>1</th>\n",
       "      <td>59.0</td>\n",
       "      <td>1</td>\n",
       "      <td>47.0</td>\n",
       "      <td>1</td>\n",
       "    </tr>\n",
       "    <tr>\n",
       "      <th>2</th>\n",
       "      <td>67.0</td>\n",
       "      <td>1</td>\n",
       "      <td>89.0</td>\n",
       "      <td>0</td>\n",
       "    </tr>\n",
       "  </tbody>\n",
       "</table>\n",
       "</div>"
      ],
      "text/plain": [
       "    dBP drug   age sex\n",
       "0  73.0    0  65.0   1\n",
       "1  59.0    1  47.0   1\n",
       "2  67.0    1  89.0   0"
      ]
     },
     "metadata": {},
     "output_type": "display_data"
    }
   ],
   "source": [
    "#Read dataset \n",
    "import pandas as pd\n",
    "\n",
    "# create a HowardData_df dataframe from the \"HowardData.xls\", sheet_name=1\n",
    "Data_df = pd.read_excel(\"Data.xls\", sheet_name=1)\n",
    "HowardData_df = pd.read_excel(\"./HowardData.xls\", sheet_name=0)\n",
    "display(Data_df.head(n=3))\n",
    "display(HowardData_df.head(n=3))"
   ]
  },
  {
   "cell_type": "code",
   "execution_count": 4,
   "metadata": {},
   "outputs": [
    {
     "data": {
      "text/plain": [
       "array([354, 190, 405, 263, 451, 302, 288, 385, 402, 365, 209, 290, 346,\n",
       "       254, 395, 434, 220, 374, 308, 311, 181, 274, 303, 244], dtype=int64)"
      ]
     },
     "execution_count": 4,
     "metadata": {},
     "output_type": "execute_result"
    }
   ],
   "source": [
    "# observe colesterol -- dependent variable  - target\n",
    "\n",
    "Data_df['Cholesterol'].unique()"
   ]
  },
  {
   "cell_type": "code",
   "execution_count": 14,
   "metadata": {},
   "outputs": [
    {
     "data": {
      "text/plain": [
       "(25, 4)"
      ]
     },
     "metadata": {},
     "output_type": "display_data"
    },
    {
     "data": {
      "text/plain": [
       "220    2\n",
       "354    1\n",
       "405    1\n",
       "263    1\n",
       "451    1\n",
       "Name: Cholesterol, dtype: int64"
      ]
     },
     "execution_count": 14,
     "metadata": {},
     "output_type": "execute_result"
    }
   ],
   "source": [
    "#Data exploration\n",
    "display(Data_df.shape)\n",
    "Data_df['Cholesterol'].value_counts().sort_values(ascending=False).head()\n"
   ]
  },
  {
   "cell_type": "code",
   "execution_count": 3,
   "metadata": {},
   "outputs": [],
   "source": [
    "# Visual\n",
    "import pandas as pd\n",
    "import numpy as np\n",
    "import matplotlib.pyplot as plt \n",
    "plt.rc(\"font\", size=14)\n",
    "from sklearn.linear_model import LogisticRegression\n",
    "\n",
    "import seaborn as sns\n",
    "sns.set(style=\"white\")\n",
    "sns.set(style=\"whitegrid\", color_codes=True)"
   ]
  },
  {
   "cell_type": "code",
   "execution_count": 12,
   "metadata": {},
   "outputs": [
    {
     "data": {
      "image/png": "[encoded data removed]",
      "text/plain": [
       "<Figure size 432x288 with 1 Axes>"
      ]
     },
     "metadata": {},
     "output_type": "display_data"
    }
   ],
   "source": [
    "#plot\n",
    "sns.countplot(x='Cholesterol', data=Data_df, palette='hls')\n",
    "plt.show()\n"
   ]
  },
  {
   "cell_type": "code",
   "execution_count": 15,
   "metadata": {},
   "outputs": [
    {
     "data": {
      "text/plain": [
       "Text(0, 0.5, 'Frequency')"
      ]
     },
     "execution_count": 15,
     "metadata": {},
     "output_type": "execute_result"
    },
    {
     "data": {
      "image/png": "[encoded data removed]",
      "text/plain": [
       "<Figure size 842.4x595.44 with 1 Axes>"
      ]
     },
     "metadata": {},
     "output_type": "display_data"
    }
   ],
   "source": [
    "#increase fifure size\n",
    "a4_dims = (11.7, 8.27)\n",
    "\n",
    "#Multiply (2) plots on 1 figure\n",
    "fig, axs = plt.subplots(figsize=a4_dims)\n",
    "\n",
    "sns.countplot(x='Cholesterol', data=Data_df, palette='hls')\n",
    "plt.title('Cholestrol levels of 25 patients', fontsize=18)\n",
    "plt.xlabel('Cholesterol', fontsize=16)\n",
    "plt.ylabel('Frequency', fontsize=16)"
   ]
  },
  {
   "cell_type": "code",
   "execution_count": 33,
   "metadata": {},
   "outputs": [
    {
     "data": {
      "text/plain": [
       "Text(0.5, 1.0, 'Cholestrol data grouped by Age')"
      ]
     },
     "execution_count": 33,
     "metadata": {},
     "output_type": "execute_result"
    },
    {
     "data": {
      "image/png": "[encoded data removed]",
      "text/plain": [
       "<Figure size 1332x792 with 1 Axes>"
      ]
     },
     "metadata": {
      "needs_background": "light"
     },
     "output_type": "display_data"
    }
   ],
   "source": [
    "#This is better\n",
    "\n",
    "plt.rcParams[\"figure.figsize\"] = (18.5, 11)\n",
    "\n",
    "Data_df.groupby('Age').mean().plot(kind='bar')\n",
    "plt.title('Cholestrol data grouped by Age', fontsize=18)"
   ]
  },
  {
   "cell_type": "code",
   "execution_count": 35,
   "metadata": {},
   "outputs": [
    {
     "data": {
      "text/plain": [
       "Text(0.5, 1.0, 'Cholestrol data grouped by Age')"
      ]
     },
     "execution_count": 35,
     "metadata": {},
     "output_type": "execute_result"
    },
    {
     "data": {
      "image/png": "[encoded data removed]",
      "text/plain": [
       "<Figure size 1332x792 with 1 Axes>"
      ]
     },
     "metadata": {
      "needs_background": "light"
     },
     "output_type": "display_data"
    }
   ],
   "source": [
    "Data_df.groupby('Age').mean().plot(kind='bar', stacked=True)\n",
    "plt.title('Cholestrol data grouped by Age', fontsize=18)"
   ]
  },
  {
   "cell_type": "code",
   "execution_count": null,
   "metadata": {},
   "outputs": [],
   "source": []
  },
  {
   "cell_type": "markdown",
   "metadata": {},
   "source": [
    "##  Basically finding out what might be a good predictor of the outcome variable.\n",
    "\n"
   ]
  },
  {
   "cell_type": "code",
   "execution_count": 48,
   "metadata": {},
   "outputs": [
    {
     "data": {
      "text/plain": [
       "Text(0, 0.5, 'Frequency')"
      ]
     },
     "execution_count": 48,
     "metadata": {},
     "output_type": "execute_result"
    },
    {
     "data": {
      "image/png": "[encoded data removed]",
      "text/plain": [
       "<Figure size 1332x792 with 1 Axes>"
      ]
     },
     "metadata": {
      "needs_background": "light"
     },
     "output_type": "display_data"
    }
   ],
   "source": [
    "Data_df.Age.hist( alpha = 0.6)\n",
    "plt.title('Histogram of Age')\n",
    "plt.xlabel('Age')\n",
    "plt.ylabel('Frequency')\n",
    "\n",
    "Data_df.Weight.hist( alpha = 0.6)\n",
    "plt.title('Histogram of Weight')\n",
    "plt.xlabel('Weight')\n",
    "plt.ylabel('Frequency')\n",
    "\n",
    "\n",
    "#Most of the customers of the bank in this dataset are in the age range of 50+."
   ]
  },
  {
   "cell_type": "code",
   "execution_count": 54,
   "metadata": {},
   "outputs": [
    {
     "data": {
      "text/html": [
       "<style type=\"text/css\">\n",
       "#T_e2c5e_row0_col0, #T_e2c5e_row1_col1, #T_e2c5e_row2_col2 {\n",
       "  background-color: #b40426;\n",
       "  color: #f1f1f1;\n",
       "}\n",
       "#T_e2c5e_row0_col1 {\n",
       "  background-color: #445acc;\n",
       "  color: #f1f1f1;\n",
       "}\n",
       "#T_e2c5e_row0_col2 {\n",
       "  background-color: #f08a6c;\n",
       "  color: #f1f1f1;\n",
       "}\n",
       "#T_e2c5e_row1_col0, #T_e2c5e_row1_col2, #T_e2c5e_row2_col1 {\n",
       "  background-color: #3b4cc0;\n",
       "  color: #f1f1f1;\n",
       "}\n",
       "#T_e2c5e_row2_col0 {\n",
       "  background-color: #f18d6f;\n",
       "  color: #f1f1f1;\n",
       "}\n",
       "</style>\n",
       "<table id=\"T_e2c5e_\">\n",
       "  <thead>\n",
       "    <tr>\n",
       "      <th class=\"blank level0\" >&nbsp;</th>\n",
       "      <th class=\"col_heading level0 col0\" >Cholesterol</th>\n",
       "      <th class=\"col_heading level0 col1\" >Weight</th>\n",
       "      <th class=\"col_heading level0 col2\" >Age</th>\n",
       "    </tr>\n",
       "  </thead>\n",
       "  <tbody>\n",
       "    <tr>\n",
       "      <th id=\"T_e2c5e_level0_row0\" class=\"row_heading level0 row0\" >Cholesterol</th>\n",
       "      <td id=\"T_e2c5e_row0_col0\" class=\"data row0 col0\" >1.000000</td>\n",
       "      <td id=\"T_e2c5e_row0_col1\" class=\"data row0 col1\" >0.265293</td>\n",
       "      <td id=\"T_e2c5e_row0_col2\" class=\"data row0 col2\" >0.837353</td>\n",
       "    </tr>\n",
       "    <tr>\n",
       "      <th id=\"T_e2c5e_level0_row1\" class=\"row_heading level0 row1\" >Weight</th>\n",
       "      <td id=\"T_e2c5e_row1_col0\" class=\"data row1 col0\" >0.265293</td>\n",
       "      <td id=\"T_e2c5e_row1_col1\" class=\"data row1 col1\" >1.000000</td>\n",
       "      <td id=\"T_e2c5e_row1_col2\" class=\"data row1 col2\" >0.240013</td>\n",
       "    </tr>\n",
       "    <tr>\n",
       "      <th id=\"T_e2c5e_level0_row2\" class=\"row_heading level0 row2\" >Age</th>\n",
       "      <td id=\"T_e2c5e_row2_col0\" class=\"data row2 col0\" >0.837353</td>\n",
       "      <td id=\"T_e2c5e_row2_col1\" class=\"data row2 col1\" >0.240013</td>\n",
       "      <td id=\"T_e2c5e_row2_col2\" class=\"data row2 col2\" >1.000000</td>\n",
       "    </tr>\n",
       "  </tbody>\n",
       "</table>\n"
      ],
      "text/plain": [
       "<pandas.io.formats.style.Styler at 0x20ef39310d0>"
      ]
     },
     "execution_count": 54,
     "metadata": {},
     "output_type": "execute_result"
    }
   ],
   "source": [
    "## Corplot\n",
    "corr = Data_df.drop('PT', axis=1).corr()\n",
    "\n",
    "corr.style.background_gradient(cmap='coolwarm')\n"
   ]
  },
  {
   "cell_type": "markdown",
   "metadata": {},
   "source": [
    "## Performing the Multiple Linear Regression\n",
    "\n",
    "Once you added the data into Python, and identied important variables, you may use either of the following to get the regression result \n",
    "* `sklearn` \n",
    "* `statsmodels` \n",
    "\n",
    "Either method would work, but let’s review both methods for illustration purposes."
   ]
  },
  {
   "cell_type": "markdown",
   "metadata": {},
   "source": [
    "# Implementing the model -- Slide 12\n",
    "\n",
    "## Multivariable models\n",
    "1. Cholesterol ~ Age + Weight\n",
    "2. Cholesterol ~ Age + Weight + Age*Weight"
   ]
  },
  {
   "cell_type": "code",
   "execution_count": 71,
   "metadata": {},
   "outputs": [
    {
     "data": {
      "text/plain": [
       "0    354\n",
       "1    190\n",
       "Name: Cholesterol, dtype: int64"
      ]
     },
     "metadata": {},
     "output_type": "display_data"
    },
    {
     "data": {
      "text/html": [
       "<div>\n",
       "<style scoped>\n",
       "    .dataframe tbody tr th:only-of-type {\n",
       "        vertical-align: middle;\n",
       "    }\n",
       "\n",
       "    .dataframe tbody tr th {\n",
       "        vertical-align: top;\n",
       "    }\n",
       "\n",
       "    .dataframe thead th {\n",
       "        text-align: right;\n",
       "    }\n",
       "</style>\n",
       "<table border=\"1\" class=\"dataframe\">\n",
       "  <thead>\n",
       "    <tr style=\"text-align: right;\">\n",
       "      <th></th>\n",
       "      <th>Age</th>\n",
       "      <th>Weight</th>\n",
       "    </tr>\n",
       "  </thead>\n",
       "  <tbody>\n",
       "    <tr>\n",
       "      <th>0</th>\n",
       "      <td>46</td>\n",
       "      <td>84</td>\n",
       "    </tr>\n",
       "    <tr>\n",
       "      <th>1</th>\n",
       "      <td>20</td>\n",
       "      <td>73</td>\n",
       "    </tr>\n",
       "  </tbody>\n",
       "</table>\n",
       "</div>"
      ],
      "text/plain": [
       "   Age  Weight\n",
       "0   46      84\n",
       "1   20      73"
      ]
     },
     "metadata": {},
     "output_type": "display_data"
    }
   ],
   "source": [
    "# define your X and y\n",
    "## Note: ere we have 2 variables for multiple regression. \n",
    "#  If you just want to use one variable for simple linear regression, \n",
    "#  then use X = df['Age'] for example.Alternatively, \n",
    "#  you may add additional variables within the brackets\n",
    "X = Data_df[['Age','Weight']]   #series\n",
    "y = Data_df['Cholesterol']      #pandas.core.series.Series\n",
    "\n",
    "display(y.head(n=2))\n",
    "display(X.head(n=2))"
   ]
  },
  {
   "cell_type": "code",
   "execution_count": 82,
   "metadata": {},
   "outputs": [
    {
     "name": "stdout",
     "output_type": "stream",
     "text": [
      "\n",
      "========================  With sklearn =========================\n",
      "Intercept: \n",
      " 77.98253861487552\n",
      "Coefficients: \n",
      " [5.21659081 0.4173621 ]\n",
      "\n",
      "========================  With statsmodels =========================\n",
      "                            OLS Regression Results                            \n",
      "==============================================================================\n",
      "Dep. Variable:            Cholesterol   R-squared:                       0.706\n",
      "Model:                            OLS   Adj. R-squared:                  0.679\n",
      "Method:                 Least Squares   F-statistic:                     26.36\n",
      "Date:                Wed, 30 Mar 2022   Prob (F-statistic):           1.44e-06\n",
      "Time:                        01:49:18   Log-Likelihood:                -128.54\n",
      "No. Observations:                  25   AIC:                             263.1\n",
      "Df Residuals:                      22   BIC:                             266.7\n",
      "Df Model:                           2                                         \n",
      "Covariance Type:            nonrobust                                         \n",
      "==============================================================================\n",
      "                 coef    std err          t      P>|t|      [0.025      0.975]\n",
      "------------------------------------------------------------------------------\n",
      "const         77.9825     52.430      1.487      0.151     -30.750     186.715\n",
      "Age            5.2166      0.757      6.889      0.000       3.646       6.787\n",
      "Weight         0.4174      0.729      0.573      0.573      -1.094       1.929\n",
      "==============================================================================\n",
      "Omnibus:                        0.810   Durbin-Watson:                   1.582\n",
      "Prob(Omnibus):                  0.667   Jarque-Bera (JB):                0.815\n",
      "Skew:                           0.363   Prob(JB):                        0.665\n",
      "Kurtosis:                       2.495   Cond. No.                         477.\n",
      "==============================================================================\n",
      "\n",
      "Notes:\n",
      "[1] Standard Errors assume that the covariance matrix of the errors is correctly specified.\n"
     ]
    }
   ],
   "source": [
    "# Slide 9\n",
    "# \n",
    "import pandas as pd\n",
    "from sklearn import linear_model\n",
    "import statsmodels.api as sm\n",
    "# Age \n",
    "X = Data_df[['Age']]   #series\n",
    "\n",
    "#----\n",
    "# Age + Weight + Age*Weight\n",
    "X = Data_df[['Age', 'Weight']]   #series\n",
    "#X['Weight_Age'] = Data_df.Age * Data_df.Weight\n",
    "\n",
    "#----\n",
    "y = Data_df['Cholesterol']      #pandas.core.series.Series\n",
    "\n",
    "print(\"\\n========================  With sklearn =========================\")\n",
    "# with sklearn\n",
    "regr = linear_model.LinearRegression()\n",
    "regr.fit(X, y)\n",
    "\n",
    "#print((regr))\n",
    "\n",
    "print('Intercept: \\n', regr.intercept_)\n",
    "print('Coefficients: \\n', regr.coef_)\n",
    "\n",
    "# prediction with sklearn\n",
    "#New_Interest_Rate = 2.75\n",
    "#New_Unemployment_Rate = 5.3\n",
    "#print ('Predicted Stock Index Price: \\n', regr.predict([[New_Interest_Rate ,New_Unemployment_Rate]]))\n",
    "\n",
    "print(\"\\n========================  With statsmodels =========================\")\n",
    "# with statsmodels\n",
    "X = sm.add_constant(X) # adding a constant\n",
    " \n",
    "model = sm.OLS(y, X).fit()\n",
    "predictions = model.predict(X) \n",
    " \n",
    "print_model = model.summary()\n",
    "print(print_model)"
   ]
  },
  {
   "cell_type": "code",
   "execution_count": 80,
   "metadata": {},
   "outputs": [
    {
     "data": {
      "text/html": [
       "<div>\n",
       "<style scoped>\n",
       "    .dataframe tbody tr th:only-of-type {\n",
       "        vertical-align: middle;\n",
       "    }\n",
       "\n",
       "    .dataframe tbody tr th {\n",
       "        vertical-align: top;\n",
       "    }\n",
       "\n",
       "    .dataframe thead th {\n",
       "        text-align: right;\n",
       "    }\n",
       "</style>\n",
       "<table border=\"1\" class=\"dataframe\">\n",
       "  <thead>\n",
       "    <tr style=\"text-align: right;\">\n",
       "      <th></th>\n",
       "      <th>Age</th>\n",
       "      <th>Weight</th>\n",
       "      <th>Weight_Age</th>\n",
       "    </tr>\n",
       "  </thead>\n",
       "  <tbody>\n",
       "    <tr>\n",
       "      <th>0</th>\n",
       "      <td>46</td>\n",
       "      <td>84</td>\n",
       "      <td>3864</td>\n",
       "    </tr>\n",
       "    <tr>\n",
       "      <th>1</th>\n",
       "      <td>20</td>\n",
       "      <td>73</td>\n",
       "      <td>1460</td>\n",
       "    </tr>\n",
       "    <tr>\n",
       "      <th>2</th>\n",
       "      <td>52</td>\n",
       "      <td>65</td>\n",
       "      <td>3380</td>\n",
       "    </tr>\n",
       "    <tr>\n",
       "      <th>3</th>\n",
       "      <td>30</td>\n",
       "      <td>70</td>\n",
       "      <td>2100</td>\n",
       "    </tr>\n",
       "    <tr>\n",
       "      <th>4</th>\n",
       "      <td>57</td>\n",
       "      <td>76</td>\n",
       "      <td>4332</td>\n",
       "    </tr>\n",
       "  </tbody>\n",
       "</table>\n",
       "</div>"
      ],
      "text/plain": [
       "   Age  Weight  Weight_Age\n",
       "0   46      84        3864\n",
       "1   20      73        1460\n",
       "2   52      65        3380\n",
       "3   30      70        2100\n",
       "4   57      76        4332"
      ]
     },
     "execution_count": 80,
     "metadata": {},
     "output_type": "execute_result"
    }
   ],
   "source": [
    "X = Data_df[['Age', 'Weight']]   #series\n",
    "X['Weight_Age'] = Data_df.Age * Data_df.Weight\n",
    "X.head()"
   ]
  },
  {
   "cell_type": "code",
   "execution_count": null,
   "metadata": {},
   "outputs": [],
   "source": [
    "# 1:\n",
    "from sklearn import linear_model\n",
    "regr = linear_model.LinearRegression()   #instantiate\n",
    "regr.fit(X, y)                           #fit\n",
    "#predict the CO2 emission of a car where the weight is 2300kg, and the volume is 1300cm3:\n",
    "#predictedCO2 = regr.predict([[2300, 1300]]) "
   ]
  },
  {
   "cell_type": "markdown",
   "metadata": {},
   "source": [
    "## Interpretation\n",
    "# https://towardsdatascience.com/interpreting-coefficients-in-linear-and-logistic-regression-6ddf1295f6f1"
   ]
  },
  {
   "cell_type": "markdown",
   "metadata": {},
   "source": [
    "## Logit Day 2 slide 7\n"
   ]
  },
  {
   "cell_type": "code",
   "execution_count": 89,
   "metadata": {},
   "outputs": [
    {
     "data": {
      "text/html": [
       "<div>\n",
       "<style scoped>\n",
       "    .dataframe tbody tr th:only-of-type {\n",
       "        vertical-align: middle;\n",
       "    }\n",
       "\n",
       "    .dataframe tbody tr th {\n",
       "        vertical-align: top;\n",
       "    }\n",
       "\n",
       "    .dataframe thead th {\n",
       "        text-align: right;\n",
       "    }\n",
       "</style>\n",
       "<table border=\"1\" class=\"dataframe\">\n",
       "  <thead>\n",
       "    <tr style=\"text-align: right;\">\n",
       "      <th></th>\n",
       "      <th>Patient</th>\n",
       "      <th>Age</th>\n",
       "      <th>CHD (1 = Yes; 0 = No)</th>\n",
       "    </tr>\n",
       "  </thead>\n",
       "  <tbody>\n",
       "    <tr>\n",
       "      <th>0</th>\n",
       "      <td>1</td>\n",
       "      <td>22</td>\n",
       "      <td>0</td>\n",
       "    </tr>\n",
       "    <tr>\n",
       "      <th>1</th>\n",
       "      <td>2</td>\n",
       "      <td>23</td>\n",
       "      <td>0</td>\n",
       "    </tr>\n",
       "    <tr>\n",
       "      <th>2</th>\n",
       "      <td>3</td>\n",
       "      <td>24</td>\n",
       "      <td>0</td>\n",
       "    </tr>\n",
       "  </tbody>\n",
       "</table>\n",
       "</div>"
      ],
      "text/plain": [
       "   Patient  Age  CHD (1 = Yes; 0 = No)\n",
       "0        1   22                      0\n",
       "1        2   23                      0\n",
       "2        3   24                      0"
      ]
     },
     "metadata": {},
     "output_type": "display_data"
    },
    {
     "data": {
      "text/html": [
       "<div>\n",
       "<style scoped>\n",
       "    .dataframe tbody tr th:only-of-type {\n",
       "        vertical-align: middle;\n",
       "    }\n",
       "\n",
       "    .dataframe tbody tr th {\n",
       "        vertical-align: top;\n",
       "    }\n",
       "\n",
       "    .dataframe thead th {\n",
       "        text-align: right;\n",
       "    }\n",
       "</style>\n",
       "<table border=\"1\" class=\"dataframe\">\n",
       "  <thead>\n",
       "    <tr style=\"text-align: right;\">\n",
       "      <th></th>\n",
       "      <th>Patient</th>\n",
       "      <th>Age</th>\n",
       "      <th>CD</th>\n",
       "    </tr>\n",
       "  </thead>\n",
       "  <tbody>\n",
       "    <tr>\n",
       "      <th>0</th>\n",
       "      <td>1</td>\n",
       "      <td>22</td>\n",
       "      <td>0</td>\n",
       "    </tr>\n",
       "    <tr>\n",
       "      <th>1</th>\n",
       "      <td>2</td>\n",
       "      <td>23</td>\n",
       "      <td>0</td>\n",
       "    </tr>\n",
       "    <tr>\n",
       "      <th>2</th>\n",
       "      <td>3</td>\n",
       "      <td>24</td>\n",
       "      <td>0</td>\n",
       "    </tr>\n",
       "  </tbody>\n",
       "</table>\n",
       "</div>"
      ],
      "text/plain": [
       "   Patient  Age  CD\n",
       "0        1   22   0\n",
       "1        2   23   0\n",
       "2        3   24   0"
      ]
     },
     "metadata": {},
     "output_type": "display_data"
    }
   ],
   "source": [
    "# load the diabetes datasets\n",
    "dataset = pd.read_excel(\"./HowardData.xls\", sheet_name=1)\n",
    "display(dataset.head(n=3))\n",
    "\n",
    "#\n",
    "dataset.columns = [\"Patient\", \"Age\", \"CD\"]\n",
    "display(dataset.head(n=3))\n",
    "\n",
    "#--\n",
    "X = dataset[['Age']]\n",
    "#----\n",
    "y = dataset['CD'] "
   ]
  },
  {
   "cell_type": "code",
   "execution_count": 91,
   "metadata": {},
   "outputs": [
    {
     "name": "stdout",
     "output_type": "stream",
     "text": [
      "Optimization terminated successfully.\n",
      "         Current function value: 0.434417\n",
      "         Iterations 7\n",
      "                         Results: Logit\n",
      "=================================================================\n",
      "Model:              Logit            Pseudo R-squared: 0.363     \n",
      "Dependent Variable: CD               AIC:              32.6715   \n",
      "Date:               2022-03-30 02:05 BIC:              35.6645   \n",
      "No. Observations:   33               Log-Likelihood:   -14.336   \n",
      "Df Model:           1                LL-Null:          -22.494   \n",
      "Df Residuals:       31               LLR p-value:      5.3618e-05\n",
      "Converged:          1.0000           Scale:            1.0000    \n",
      "No. Iterations:     7.0000                                       \n",
      "-------------------------------------------------------------------\n",
      "          Coef.    Std.Err.      z      P>|z|     [0.025     0.975]\n",
      "-------------------------------------------------------------------\n",
      "const    -6.7085     2.3540   -2.8498   0.0044   -11.3222   -2.0947\n",
      "Age       0.1315     0.0463    2.8378   0.0045     0.0407    0.2223\n",
      "=================================================================\n",
      "\n"
     ]
    }
   ],
   "source": [
    "import statsmodels.api as sm\n",
    "\n",
    "#log_clf = LogisticRegression()\n",
    "X = sm.add_constant(X) # adding a constant\n",
    "\n",
    "\n",
    "log_clf =sm.Logit(y, X)\n",
    "\n",
    "classifier = log_clf.fit()\n",
    "\n",
    "#y_pred = classifier.predict(X_test)\n",
    "\n",
    "print(classifier.summary2())\n"
   ]
  },
  {
   "cell_type": "code",
   "execution_count": null,
   "metadata": {},
   "outputs": [],
   "source": [
    "# Slide 15\n",
    "# Generalized Linear Models \n",
    "# https://www.statsmodels.org/v0.10.1/glm.html\n",
    "# https://www.statsmodels.org/stable/regression.html\n",
    "# https://regenerativetoday.com/logistic-regression-model-analysis-visualization-and-prediction/\n",
    "\n",
    "# The data\n",
    "dataset = pd.read_excel(\"./HowardData.xls\", sheet_name=0)\n",
    "dataset.columns = [\"dBP\", \"Drug\", \"Age\", \"Sex\"]\n",
    "dataset.head(n=3)\n",
    "\n",
    "## Example1  \n",
    "model = sm.GLM.from_formula(\"CD ~ Age\", family = sm.families.Binomial(), data=dataset)\n",
    "result = model.fit()\n",
    "result.summary()\n",
    "\n",
    "## Example2\n",
    "formular1 = \"dBP ~ Drug + Age + Sex + Drug*Age + Drug*Sex\"\n",
    "formular2 = \"dBP ~ Drug + Age + Sex + Drug*Age\"\n",
    "\n",
    "#model = sm.GLM.from_formula(formular, family = sm.families.Binomial(), data=dataset)\n",
    "model = sm.OLS.from_formula(formular2, data=dataset)\n",
    "result = model.fit()\n",
    "result.summary()\n"
   ]
  },
  {
   "cell_type": "code",
   "execution_count": 92,
   "metadata": {},
   "outputs": [
    {
     "data": {
      "text/html": [
       "<table class=\"simpletable\">\n",
       "<caption>Generalized Linear Model Regression Results</caption>\n",
       "<tr>\n",
       "  <th>Dep. Variable:</th>          <td>CD</td>        <th>  No. Observations:  </th>  <td>    33</td> \n",
       "</tr>\n",
       "<tr>\n",
       "  <th>Model:</th>                  <td>GLM</td>       <th>  Df Residuals:      </th>  <td>    31</td> \n",
       "</tr>\n",
       "<tr>\n",
       "  <th>Model Family:</th>        <td>Binomial</td>     <th>  Df Model:          </th>  <td>     1</td> \n",
       "</tr>\n",
       "<tr>\n",
       "  <th>Link Function:</th>         <td>logit</td>      <th>  Scale:             </th> <td>  1.0000</td>\n",
       "</tr>\n",
       "<tr>\n",
       "  <th>Method:</th>                <td>IRLS</td>       <th>  Log-Likelihood:    </th> <td> -14.336</td>\n",
       "</tr>\n",
       "<tr>\n",
       "  <th>Date:</th>            <td>Wed, 30 Mar 2022</td> <th>  Deviance:          </th> <td>  28.672</td>\n",
       "</tr>\n",
       "<tr>\n",
       "  <th>Time:</th>                <td>02:11:20</td>     <th>  Pearson chi2:      </th>  <td>  27.6</td> \n",
       "</tr>\n",
       "<tr>\n",
       "  <th>No. Iterations:</th>          <td>5</td>        <th>                     </th>     <td> </td>   \n",
       "</tr>\n",
       "<tr>\n",
       "  <th>Covariance Type:</th>     <td>nonrobust</td>    <th>                     </th>     <td> </td>   \n",
       "</tr>\n",
       "</table>\n",
       "<table class=\"simpletable\">\n",
       "<tr>\n",
       "      <td></td>         <th>coef</th>     <th>std err</th>      <th>z</th>      <th>P>|z|</th>  <th>[0.025</th>    <th>0.975]</th>  \n",
       "</tr>\n",
       "<tr>\n",
       "  <th>Intercept</th> <td>   -6.7085</td> <td>    2.354</td> <td>   -2.850</td> <td> 0.004</td> <td>  -11.322</td> <td>   -2.095</td>\n",
       "</tr>\n",
       "<tr>\n",
       "  <th>Age</th>       <td>    0.1315</td> <td>    0.046</td> <td>    2.838</td> <td> 0.005</td> <td>    0.041</td> <td>    0.222</td>\n",
       "</tr>\n",
       "</table>"
      ],
      "text/plain": [
       "<class 'statsmodels.iolib.summary.Summary'>\n",
       "\"\"\"\n",
       "                 Generalized Linear Model Regression Results                  \n",
       "==============================================================================\n",
       "Dep. Variable:                     CD   No. Observations:                   33\n",
       "Model:                            GLM   Df Residuals:                       31\n",
       "Model Family:                Binomial   Df Model:                            1\n",
       "Link Function:                  logit   Scale:                          1.0000\n",
       "Method:                          IRLS   Log-Likelihood:                -14.336\n",
       "Date:                Wed, 30 Mar 2022   Deviance:                       28.672\n",
       "Time:                        02:11:20   Pearson chi2:                     27.6\n",
       "No. Iterations:                     5                                         \n",
       "Covariance Type:            nonrobust                                         \n",
       "==============================================================================\n",
       "                 coef    std err          z      P>|z|      [0.025      0.975]\n",
       "------------------------------------------------------------------------------\n",
       "Intercept     -6.7085      2.354     -2.850      0.004     -11.322      -2.095\n",
       "Age            0.1315      0.046      2.838      0.005       0.041       0.222\n",
       "==============================================================================\n",
       "\"\"\""
      ]
     },
     "execution_count": 92,
     "metadata": {},
     "output_type": "execute_result"
    }
   ],
   "source": [
    "# https://regenerativetoday.com/logistic-regression-model-analysis-visualization-and-prediction/\n",
    "# \n",
    "model = sm.GLM.from_formula(\"CD ~ Age\", family = sm.families.Binomial(), data=dataset)\n",
    "result = model.fit()\n",
    "result.summary()"
   ]
  },
  {
   "cell_type": "code",
   "execution_count": 94,
   "metadata": {},
   "outputs": [
    {
     "data": {
      "text/html": [
       "<div>\n",
       "<style scoped>\n",
       "    .dataframe tbody tr th:only-of-type {\n",
       "        vertical-align: middle;\n",
       "    }\n",
       "\n",
       "    .dataframe tbody tr th {\n",
       "        vertical-align: top;\n",
       "    }\n",
       "\n",
       "    .dataframe thead th {\n",
       "        text-align: right;\n",
       "    }\n",
       "</style>\n",
       "<table border=\"1\" class=\"dataframe\">\n",
       "  <thead>\n",
       "    <tr style=\"text-align: right;\">\n",
       "      <th></th>\n",
       "      <th>dBP</th>\n",
       "      <th>Drug</th>\n",
       "      <th>Age</th>\n",
       "      <th>Sex</th>\n",
       "    </tr>\n",
       "  </thead>\n",
       "  <tbody>\n",
       "    <tr>\n",
       "      <th>0</th>\n",
       "      <td>73.0</td>\n",
       "      <td>0</td>\n",
       "      <td>65.0</td>\n",
       "      <td>1</td>\n",
       "    </tr>\n",
       "    <tr>\n",
       "      <th>1</th>\n",
       "      <td>59.0</td>\n",
       "      <td>1</td>\n",
       "      <td>47.0</td>\n",
       "      <td>1</td>\n",
       "    </tr>\n",
       "    <tr>\n",
       "      <th>2</th>\n",
       "      <td>67.0</td>\n",
       "      <td>1</td>\n",
       "      <td>89.0</td>\n",
       "      <td>0</td>\n",
       "    </tr>\n",
       "  </tbody>\n",
       "</table>\n",
       "</div>"
      ],
      "text/plain": [
       "    dBP Drug   Age Sex\n",
       "0  73.0    0  65.0   1\n",
       "1  59.0    1  47.0   1\n",
       "2  67.0    1  89.0   0"
      ]
     },
     "execution_count": 94,
     "metadata": {},
     "output_type": "execute_result"
    }
   ],
   "source": [
    "dataset = pd.read_excel(\"./HowardData.xls\", sheet_name=0)\n",
    "dataset.columns = [\"dBP\", \"Drug\", \"Age\", \"Sex\"]\n",
    "dataset.head(n=3)"
   ]
  },
  {
   "cell_type": "code",
   "execution_count": 103,
   "metadata": {},
   "outputs": [
    {
     "data": {
      "text/html": [
       "<table class=\"simpletable\">\n",
       "<caption>OLS Regression Results</caption>\n",
       "<tr>\n",
       "  <th>Dep. Variable:</th>           <td>dBP</td>       <th>  R-squared:         </th> <td>   0.380</td>\n",
       "</tr>\n",
       "<tr>\n",
       "  <th>Model:</th>                   <td>OLS</td>       <th>  Adj. R-squared:    </th> <td>   0.362</td>\n",
       "</tr>\n",
       "<tr>\n",
       "  <th>Method:</th>             <td>Least Squares</td>  <th>  F-statistic:       </th> <td>   21.29</td>\n",
       "</tr>\n",
       "<tr>\n",
       "  <th>Date:</th>             <td>Wed, 30 Mar 2022</td> <th>  Prob (F-statistic):</th> <td>1.04e-13</td>\n",
       "</tr>\n",
       "<tr>\n",
       "  <th>Time:</th>                 <td>02:32:00</td>     <th>  Log-Likelihood:    </th> <td> -516.28</td>\n",
       "</tr>\n",
       "<tr>\n",
       "  <th>No. Observations:</th>      <td>   144</td>      <th>  AIC:               </th> <td>   1043.</td>\n",
       "</tr>\n",
       "<tr>\n",
       "  <th>Df Residuals:</th>          <td>   139</td>      <th>  BIC:               </th> <td>   1057.</td>\n",
       "</tr>\n",
       "<tr>\n",
       "  <th>Df Model:</th>              <td>     4</td>      <th>                     </th>     <td> </td>   \n",
       "</tr>\n",
       "<tr>\n",
       "  <th>Covariance Type:</th>      <td>nonrobust</td>    <th>                     </th>     <td> </td>   \n",
       "</tr>\n",
       "</table>\n",
       "<table class=\"simpletable\">\n",
       "<tr>\n",
       "        <td></td>           <th>coef</th>     <th>std err</th>      <th>t</th>      <th>P>|t|</th>  <th>[0.025</th>    <th>0.975]</th>  \n",
       "</tr>\n",
       "<tr>\n",
       "  <th>Intercept</th>     <td>   68.6732</td> <td>    5.389</td> <td>   12.744</td> <td> 0.000</td> <td>   58.019</td> <td>   79.328</td>\n",
       "</tr>\n",
       "<tr>\n",
       "  <th>Drug[T.1]</th>     <td>  -10.4658</td> <td>    7.051</td> <td>   -1.484</td> <td> 0.140</td> <td>  -24.406</td> <td>    3.475</td>\n",
       "</tr>\n",
       "<tr>\n",
       "  <th>Drug[T. ]</th>     <td> 6.224e-13</td> <td> 5.46e-14</td> <td>   11.389</td> <td> 0.000</td> <td> 5.14e-13</td> <td>  7.3e-13</td>\n",
       "</tr>\n",
       "<tr>\n",
       "  <th>Sex[T.1]</th>      <td>   -2.2661</td> <td>    1.541</td> <td>   -1.471</td> <td> 0.144</td> <td>   -5.312</td> <td>    0.780</td>\n",
       "</tr>\n",
       "<tr>\n",
       "  <th>Sex[T. ]</th>      <td> 5.015e-15</td> <td> 1.87e-15</td> <td>    2.686</td> <td> 0.008</td> <td> 1.32e-15</td> <td> 8.71e-15</td>\n",
       "</tr>\n",
       "<tr>\n",
       "  <th>Age</th>           <td>    0.2222</td> <td>    0.077</td> <td>    2.893</td> <td> 0.004</td> <td>    0.070</td> <td>    0.374</td>\n",
       "</tr>\n",
       "<tr>\n",
       "  <th>Drug[T.1]:Age</th> <td>    0.0122</td> <td>    0.112</td> <td>    0.109</td> <td> 0.913</td> <td>   -0.209</td> <td>    0.233</td>\n",
       "</tr>\n",
       "<tr>\n",
       "  <th>Drug[T. ]:Age</th> <td>         0</td> <td>        0</td> <td>      nan</td> <td>   nan</td> <td>        0</td> <td>        0</td>\n",
       "</tr>\n",
       "</table>\n",
       "<table class=\"simpletable\">\n",
       "<tr>\n",
       "  <th>Omnibus:</th>       <td> 0.976</td> <th>  Durbin-Watson:     </th> <td>   1.859</td>\n",
       "</tr>\n",
       "<tr>\n",
       "  <th>Prob(Omnibus):</th> <td> 0.614</td> <th>  Jarque-Bera (JB):  </th> <td>   0.619</td>\n",
       "</tr>\n",
       "<tr>\n",
       "  <th>Skew:</th>          <td>-0.128</td> <th>  Prob(JB):          </th> <td>   0.734</td>\n",
       "</tr>\n",
       "<tr>\n",
       "  <th>Kurtosis:</th>      <td> 3.193</td> <th>  Cond. No.          </th> <td>     inf</td>\n",
       "</tr>\n",
       "</table><br/><br/>Notes:<br/>[1] Standard Errors assume that the covariance matrix of the errors is correctly specified.<br/>[2] The smallest eigenvalue is      0. This might indicate that there are<br/>strong multicollinearity problems or that the design matrix is singular."
      ],
      "text/plain": [
       "<class 'statsmodels.iolib.summary.Summary'>\n",
       "\"\"\"\n",
       "                            OLS Regression Results                            \n",
       "==============================================================================\n",
       "Dep. Variable:                    dBP   R-squared:                       0.380\n",
       "Model:                            OLS   Adj. R-squared:                  0.362\n",
       "Method:                 Least Squares   F-statistic:                     21.29\n",
       "Date:                Wed, 30 Mar 2022   Prob (F-statistic):           1.04e-13\n",
       "Time:                        02:32:00   Log-Likelihood:                -516.28\n",
       "No. Observations:                 144   AIC:                             1043.\n",
       "Df Residuals:                     139   BIC:                             1057.\n",
       "Df Model:                           4                                         \n",
       "Covariance Type:            nonrobust                                         \n",
       "=================================================================================\n",
       "                    coef    std err          t      P>|t|      [0.025      0.975]\n",
       "---------------------------------------------------------------------------------\n",
       "Intercept        68.6732      5.389     12.744      0.000      58.019      79.328\n",
       "Drug[T.1]       -10.4658      7.051     -1.484      0.140     -24.406       3.475\n",
       "Drug[T. ]      6.224e-13   5.46e-14     11.389      0.000    5.14e-13     7.3e-13\n",
       "Sex[T.1]         -2.2661      1.541     -1.471      0.144      -5.312       0.780\n",
       "Sex[T. ]       5.015e-15   1.87e-15      2.686      0.008    1.32e-15    8.71e-15\n",
       "Age               0.2222      0.077      2.893      0.004       0.070       0.374\n",
       "Drug[T.1]:Age     0.0122      0.112      0.109      0.913      -0.209       0.233\n",
       "Drug[T. ]:Age          0          0        nan        nan           0           0\n",
       "==============================================================================\n",
       "Omnibus:                        0.976   Durbin-Watson:                   1.859\n",
       "Prob(Omnibus):                  0.614   Jarque-Bera (JB):                0.619\n",
       "Skew:                          -0.128   Prob(JB):                        0.734\n",
       "Kurtosis:                       3.193   Cond. No.                          inf\n",
       "==============================================================================\n",
       "\n",
       "Notes:\n",
       "[1] Standard Errors assume that the covariance matrix of the errors is correctly specified.\n",
       "[2] The smallest eigenvalue is      0. This might indicate that there are\n",
       "strong multicollinearity problems or that the design matrix is singular.\n",
       "\"\"\""
      ]
     },
     "execution_count": 103,
     "metadata": {},
     "output_type": "execute_result"
    }
   ],
   "source": [
    "# Slide 15\n",
    "# Generalized Linear Models \n",
    "# https://www.statsmodels.org/v0.10.1/glm.html\n",
    "# https://www.statsmodels.org/stable/regression.html\n",
    "\n",
    "formular1 = \"dBP ~ Drug + Age + Sex + Drug*Age + Drug*Sex\"\n",
    "formular2 = \"dBP ~ Drug + Age + Sex + Drug*Age\"\n",
    "\n",
    "#model = sm.GLM.from_formula(formular, family = sm.families.Binomial(), data=dataset)\n",
    "model = sm.OLS.from_formula(formular2, data=dataset)\n",
    "result = model.fit()\n",
    "result.summary()\n"
   ]
  },
  {
   "cell_type": "code",
   "execution_count": 55,
   "metadata": {},
   "outputs": [
    {
     "ename": "NameError",
     "evalue": "name 'y' is not defined",
     "output_type": "error",
     "traceback": [
      "\u001b[1;31m---------------------------------------------------------------------------\u001b[0m",
      "\u001b[1;31mNameError\u001b[0m                                 Traceback (most recent call last)",
      "\u001b[1;32m~\\AppData\\Local\\Temp/ipykernel_107696/4008260931.py\u001b[0m in \u001b[0;36m<module>\u001b[1;34m\u001b[0m\n\u001b[0;32m      3\u001b[0m \u001b[1;32mimport\u001b[0m \u001b[0mstatsmodels\u001b[0m\u001b[1;33m.\u001b[0m\u001b[0mapi\u001b[0m \u001b[1;32mas\u001b[0m \u001b[0msm\u001b[0m\u001b[1;33m\u001b[0m\u001b[1;33m\u001b[0m\u001b[0m\n\u001b[0;32m      4\u001b[0m \u001b[1;33m\u001b[0m\u001b[0m\n\u001b[1;32m----> 5\u001b[1;33m \u001b[0mlogit_model\u001b[0m\u001b[1;33m=\u001b[0m\u001b[0msm\u001b[0m\u001b[1;33m.\u001b[0m\u001b[0mLogit\u001b[0m\u001b[1;33m(\u001b[0m\u001b[0my\u001b[0m\u001b[1;33m,\u001b[0m\u001b[0mX\u001b[0m\u001b[1;33m)\u001b[0m   \u001b[1;31m#instantiate model\u001b[0m\u001b[1;33m\u001b[0m\u001b[1;33m\u001b[0m\u001b[0m\n\u001b[0m\u001b[0;32m      6\u001b[0m \u001b[0mresult\u001b[0m\u001b[1;33m=\u001b[0m\u001b[0mlogit_model\u001b[0m\u001b[1;33m.\u001b[0m\u001b[0mfit\u001b[0m\u001b[1;33m(\u001b[0m\u001b[1;33m)\u001b[0m   \u001b[1;31m#fit\u001b[0m\u001b[1;33m\u001b[0m\u001b[1;33m\u001b[0m\u001b[0m\n\u001b[0;32m      7\u001b[0m \u001b[0mprint\u001b[0m\u001b[1;33m(\u001b[0m\u001b[0mresult\u001b[0m\u001b[1;33m.\u001b[0m\u001b[0msummary2\u001b[0m\u001b[1;33m(\u001b[0m\u001b[1;33m)\u001b[0m\u001b[1;33m)\u001b[0m\u001b[1;33m\u001b[0m\u001b[1;33m\u001b[0m\u001b[0m\n",
      "\u001b[1;31mNameError\u001b[0m: name 'y' is not defined"
     ]
    }
   ],
   "source": [
    "#Implementing the model -- Slide 12\n",
    "\n",
    "# Linear Regression\n",
    "import numpy as np\n",
    "from sklearn import datasets\n",
    "from sklearn.linear_model import LinearRegression\n",
    "\n",
    "# load the diabetes datasets\n",
    "dataset = datasets.load_diabetes()\n",
    "\n",
    "# fit a linear regression model to the data\n",
    "model = LinearRegression()\n",
    "model.fit(dataset.data, dataset.target)\n",
    "print(model)\n",
    "\n",
    "# make predictions\n",
    "expected = dataset.target\n",
    "predicted = model.predict(dataset.data)\n",
    "\n",
    "# >>>>>>>Print out the statistics<<<<<<<<<<<<<\n",
    "model.summary()\n",
    "\n",
    "# summarize the fit of the model\n",
    "mse = np.mean((predicted-expected)**2)\n",
    "print model.intercept_, model.coef_, mse, \n",
    "print(model.score(dataset.data, dataset.target))"
   ]
  },
  {
   "cell_type": "code",
   "execution_count": 213,
   "metadata": {},
   "outputs": [
    {
     "name": "stdout",
     "output_type": "stream",
     "text": [
      "2.718281828459045\n",
      "2.718281828459045\n"
     ]
    }
   ],
   "source": [
    "import math\n",
    "\n",
    "print(math.e)\n",
    "print(math.exp(1))"
   ]
  },
  {
   "cell_type": "code",
   "execution_count": null,
   "metadata": {},
   "outputs": [],
   "source": [
    "## Python Exercises, Practice, Solution\n",
    "#https://www.w3resource.com/python-exercises/#google_vignette\n",
    "# https://holypython.com/intermediate-python-exercises/"
   ]
  },
  {
   "cell_type": "code",
   "execution_count": 241,
   "metadata": {},
   "outputs": [
    {
     "data": {
      "text/plain": [
       "[array([46, 54]), array([37, 63])]"
      ]
     },
     "metadata": {},
     "output_type": "display_data"
    },
    {
     "data": {
      "text/html": [
       "<div>\n",
       "<style scoped>\n",
       "    .dataframe tbody tr th:only-of-type {\n",
       "        vertical-align: middle;\n",
       "    }\n",
       "\n",
       "    .dataframe tbody tr th {\n",
       "        vertical-align: top;\n",
       "    }\n",
       "\n",
       "    .dataframe thead th {\n",
       "        text-align: right;\n",
       "    }\n",
       "</style>\n",
       "<table border=\"1\" class=\"dataframe\">\n",
       "  <thead>\n",
       "    <tr style=\"text-align: right;\">\n",
       "      <th></th>\n",
       "      <th>A</th>\n",
       "      <th>B</th>\n",
       "    </tr>\n",
       "  </thead>\n",
       "  <tbody>\n",
       "    <tr>\n",
       "      <th>Control</th>\n",
       "      <td>46</td>\n",
       "      <td>54</td>\n",
       "    </tr>\n",
       "    <tr>\n",
       "      <th>Intervention</th>\n",
       "      <td>37</td>\n",
       "      <td>63</td>\n",
       "    </tr>\n",
       "  </tbody>\n",
       "</table>\n",
       "</div>"
      ],
      "text/plain": [
       "               A   B\n",
       "Control       46  54\n",
       "Intervention  37  63"
      ]
     },
     "metadata": {},
     "output_type": "display_data"
    },
    {
     "name": "stdout",
     "output_type": "stream",
     "text": [
      "\n",
      "z = inf      |    p = 0.0000 (two-sided)\n",
      "---\n",
      "\n",
      "\n",
      "Odds Ratio: 1.45     |   p-Value: 0.25\n",
      "\n",
      "--\n",
      "Lower 95% CI = 0.057   |  Upper 95% CI = 6.347\n",
      "\n"
     ]
    }
   ],
   "source": [
    "## Odds And Log Odds  Slide 10 -- HowardU-4-1-22\n",
    "# https://regenerativetoday.com/logistic-regression-model-analysis-visualization-and-prediction/\n",
    "#\n",
    "import math\n",
    "import numpy as np\n",
    "from statsmodels.stats.proportion import proportions_ztest\n",
    "\n",
    "#Using the observation on slide 39, compute the z-test of diffences in proportions for the 2 samples\n",
    "\n",
    "#                 A    B\n",
    "count = np.array([46,  54])\n",
    "nobs = np.array([37,  63])\n",
    "\n",
    "#table\n",
    "table = [count, nobs]\n",
    "display(table)\n",
    "\n",
    "#dataframe\n",
    "df = pd.DataFrame(table, columns=[\"A\", \"B\"], index={'Intervention', 'Control'})\n",
    "display(df)\n",
    "\n",
    "#ztest\n",
    "stat, pval = proportions_ztest(count, nobs)\n",
    "print(\"\\nz = %.4f      |    p = %.4f (two-sided)\\n---\\n\\n\" % (stat, pval))\n",
    "\n",
    "#odds ratio\n",
    "import scipy.stats as stats\n",
    "oddsratio, pvalue = stats.fisher_exact(table)\n",
    "print(f'Odds Ratio: {oddsratio:.2f}     |   p-Value: {pvalue:.2f}')\n",
    "\n",
    "#Assignment:  Calculate the p value and 95% confidence interval of the odds ratio for the table above.\n",
    "# see this: https://www.statology.org/confidence-interval-for-odds-ratio/\n",
    "odds_ratio = (46*63) / (37*54)\n",
    "odds_ratio_sqrt = 1.96 * np.sqrt(odds_ratio)\n",
    "\n",
    "#\n",
    "#print(math.e);  #print(math.exp(1))\n",
    "Lower_95CI, Upper_95CI =  [ math.exp(1) ** (ln(.599) - odds_ratio_sqrt), math.exp(1) ** (ln(.599) + odds_ratio_sqrt) ]\n",
    "print(f'\\n--\\nLower 95% CI = {Lower_95CI:.3f}   |  Upper 95% CI = {Upper_95CI:.3f}\\n')\n",
    "\n",
    " \n",
    "#kasut"
   ]
  },
  {
   "cell_type": "code",
   "execution_count": 244,
   "metadata": {},
   "outputs": [
    {
     "data": {
      "text/plain": [
       "2.302585092994046"
      ]
     },
     "execution_count": 244,
     "metadata": {},
     "output_type": "execute_result"
    }
   ],
   "source": [
    "import math\n",
    "import numpy as np\n",
    "ln(10)"
   ]
  },
  {
   "cell_type": "code",
   "execution_count": 245,
   "metadata": {},
   "outputs": [
    {
     "data": {
      "text/plain": [
       "<ufunc 'log'>"
      ]
     },
     "execution_count": 245,
     "metadata": {},
     "output_type": "execute_result"
    }
   ],
   "source": [
    "ln"
   ]
  },
  {
   "cell_type": "code",
   "execution_count": 234,
   "metadata": {},
   "outputs": [
    {
     "data": {
      "text/plain": [
       "[0.24478300602250208, 1.4657921145351758]"
      ]
     },
     "execution_count": 234,
     "metadata": {},
     "output_type": "execute_result"
    }
   ],
   "source": [
    "#np.float_power(math.e, myln(0.599) - 1.96 * odds_ratio_sqrt)\n",
    "odds_ratio = 1/34 + 1/16 + 1/39 + 1/11\n",
    "odds_ratio_sqrt = 1.96 * np.sqrt(odds_ratio)\n",
    "[ math.exp(1) ** (ln(.599) - odds_ratio_sqrt), math.exp(1) ** (ln(.599) + odds_ratio_sqrt) ]"
   ]
  },
  {
   "cell_type": "code",
   "execution_count": 114,
   "metadata": {},
   "outputs": [
    {
     "data": {
      "text/html": [
       "<div>\n",
       "<style scoped>\n",
       "    .dataframe tbody tr th:only-of-type {\n",
       "        vertical-align: middle;\n",
       "    }\n",
       "\n",
       "    .dataframe tbody tr th {\n",
       "        vertical-align: top;\n",
       "    }\n",
       "\n",
       "    .dataframe thead th {\n",
       "        text-align: right;\n",
       "    }\n",
       "</style>\n",
       "<table border=\"1\" class=\"dataframe\">\n",
       "  <thead>\n",
       "    <tr style=\"text-align: right;\">\n",
       "      <th></th>\n",
       "      <th>dBP</th>\n",
       "      <th>Age</th>\n",
       "    </tr>\n",
       "    <tr>\n",
       "      <th>Drug</th>\n",
       "      <th></th>\n",
       "      <th></th>\n",
       "    </tr>\n",
       "  </thead>\n",
       "  <tbody>\n",
       "    <tr>\n",
       "      <th>0</th>\n",
       "      <td>82.267606</td>\n",
       "      <td>65.929577</td>\n",
       "    </tr>\n",
       "    <tr>\n",
       "      <th>1</th>\n",
       "      <td>70.534247</td>\n",
       "      <td>57.890411</td>\n",
       "    </tr>\n",
       "    <tr>\n",
       "      <th></th>\n",
       "      <td>NaN</td>\n",
       "      <td>NaN</td>\n",
       "    </tr>\n",
       "  </tbody>\n",
       "</table>\n",
       "</div>"
      ],
      "text/plain": [
       "            dBP        Age\n",
       "Drug                      \n",
       "0     82.267606  65.929577\n",
       "1     70.534247  57.890411\n",
       "            NaN        NaN"
      ]
     },
     "metadata": {},
     "output_type": "display_data"
    },
    {
     "data": {
      "text/plain": [
       "Text(0.5, 1.0, 'Cholestrol data grouped by Age')"
      ]
     },
     "execution_count": 114,
     "metadata": {},
     "output_type": "execute_result"
    },
    {
     "data": {
      "image/png": "[encoded data removed]",
      "text/plain": [
       "<Figure size 1332x792 with 1 Axes>"
      ]
     },
     "metadata": {
      "needs_background": "light"
     },
     "output_type": "display_data"
    }
   ],
   "source": [
    "\n",
    "plt.rcParams[\"figure.figsize\"] = (18.5, 11)\n",
    "\n",
    "display(dataset.groupby('Drug').mean())\n",
    "\n",
    "dataset.groupby('Sex').mean().plot(kind='bar')\n",
    "plt.title('Cholestrol data grouped by Age', fontsize=18)\n"
   ]
  },
  {
   "cell_type": "code",
   "execution_count": 119,
   "metadata": {},
   "outputs": [
    {
     "data": {
      "text/html": [
       "<div>\n",
       "<style scoped>\n",
       "    .dataframe tbody tr th:only-of-type {\n",
       "        vertical-align: middle;\n",
       "    }\n",
       "\n",
       "    .dataframe tbody tr th {\n",
       "        vertical-align: top;\n",
       "    }\n",
       "\n",
       "    .dataframe thead th {\n",
       "        text-align: right;\n",
       "    }\n",
       "</style>\n",
       "<table border=\"1\" class=\"dataframe\">\n",
       "  <thead>\n",
       "    <tr style=\"text-align: right;\">\n",
       "      <th></th>\n",
       "      <th>dBP</th>\n",
       "      <th>Drug</th>\n",
       "      <th>Age</th>\n",
       "      <th>Sex</th>\n",
       "      <th>GenderDummy_F</th>\n",
       "      <th>GenderDummy_M</th>\n",
       "    </tr>\n",
       "  </thead>\n",
       "  <tbody>\n",
       "    <tr>\n",
       "      <th>0</th>\n",
       "      <td>73.0</td>\n",
       "      <td>0</td>\n",
       "      <td>65.0</td>\n",
       "      <td>1</td>\n",
       "      <td>Femail</td>\n",
       "      <td>Female</td>\n",
       "    </tr>\n",
       "    <tr>\n",
       "      <th>1</th>\n",
       "      <td>59.0</td>\n",
       "      <td>1</td>\n",
       "      <td>47.0</td>\n",
       "      <td>1</td>\n",
       "      <td>Femail</td>\n",
       "      <td>Female</td>\n",
       "    </tr>\n",
       "    <tr>\n",
       "      <th>2</th>\n",
       "      <td>67.0</td>\n",
       "      <td>1</td>\n",
       "      <td>89.0</td>\n",
       "      <td>0</td>\n",
       "      <td>Male</td>\n",
       "      <td>Male</td>\n",
       "    </tr>\n",
       "    <tr>\n",
       "      <th>3</th>\n",
       "      <td>68.0</td>\n",
       "      <td>0</td>\n",
       "      <td>44.0</td>\n",
       "      <td>1</td>\n",
       "      <td>Femail</td>\n",
       "      <td>Female</td>\n",
       "    </tr>\n",
       "    <tr>\n",
       "      <th>4</th>\n",
       "      <td>68.0</td>\n",
       "      <td>0</td>\n",
       "      <td>39.0</td>\n",
       "      <td>1</td>\n",
       "      <td>Femail</td>\n",
       "      <td>Female</td>\n",
       "    </tr>\n",
       "  </tbody>\n",
       "</table>\n",
       "</div>"
      ],
      "text/plain": [
       "    dBP Drug   Age Sex GenderDummy_F GenderDummy_M\n",
       "0  73.0    0  65.0   1        Femail        Female\n",
       "1  59.0    1  47.0   1        Femail        Female\n",
       "2  67.0    1  89.0   0          Male          Male\n",
       "3  68.0    0  44.0   1        Femail        Female\n",
       "4  68.0    0  39.0   1        Femail        Female"
      ]
     },
     "execution_count": 119,
     "metadata": {},
     "output_type": "execute_result"
    }
   ],
   "source": [
    "# Recoding\n",
    "# \n",
    "dataset['GenderDummy_M'] = np.where(dataset['Sex'] == 0, \"Male\", \"Female\")\n",
    "\n",
    "\n",
    "#Applying a lambda function\n",
    "dataset['GenderDummy_F'] = dataset['Sex'].apply(lambda x: \"Femail\" if x == 1 else \"Male\")\n",
    "\n",
    "dataset.head()\n"
   ]
  },
  {
   "cell_type": "code",
   "execution_count": null,
   "metadata": {},
   "outputs": [],
   "source": [
    "### https://www.sfu.ca/~mjbrydon/tutorials/BAinPy/01_intro.html\n"
   ]
  },
  {
   "cell_type": "code",
   "execution_count": 120,
   "metadata": {},
   "outputs": [
    {
     "data": {
      "text/html": [
       "<div>\n",
       "<style scoped>\n",
       "    .dataframe tbody tr th:only-of-type {\n",
       "        vertical-align: middle;\n",
       "    }\n",
       "\n",
       "    .dataframe tbody tr th {\n",
       "        vertical-align: top;\n",
       "    }\n",
       "\n",
       "    .dataframe thead th {\n",
       "        text-align: right;\n",
       "    }\n",
       "</style>\n",
       "<table border=\"1\" class=\"dataframe\">\n",
       "  <thead>\n",
       "    <tr style=\"text-align: right;\">\n",
       "      <th></th>\n",
       "      <th>dBP</th>\n",
       "      <th>Age</th>\n",
       "    </tr>\n",
       "    <tr>\n",
       "      <th>Drug</th>\n",
       "      <th></th>\n",
       "      <th></th>\n",
       "    </tr>\n",
       "  </thead>\n",
       "  <tbody>\n",
       "    <tr>\n",
       "      <th>0</th>\n",
       "      <td>82.267606</td>\n",
       "      <td>65.929577</td>\n",
       "    </tr>\n",
       "    <tr>\n",
       "      <th>1</th>\n",
       "      <td>70.534247</td>\n",
       "      <td>57.890411</td>\n",
       "    </tr>\n",
       "  </tbody>\n",
       "</table>\n",
       "</div>"
      ],
      "text/plain": [
       "            dBP        Age\n",
       "Drug                      \n",
       "0     82.267606  65.929577\n",
       "1     70.534247  57.890411"
      ]
     },
     "metadata": {},
     "output_type": "display_data"
    }
   ],
   "source": [
    "# How to Drop Rows with NaN Values in Pandas DataFrame  -- slide 27\n",
    "dataset.dropna(inplace=True)\n",
    "display(dataset.groupby('Drug').mean())"
   ]
  },
  {
   "cell_type": "code",
   "execution_count": null,
   "metadata": {},
   "outputs": [],
   "source": [
    "# Imputation methods assuming MAR -- Slide 31\n",
    "# 1: Single imputation - How to impute missing values with means in Python?\n",
    "\n",
    "#Step 1 - Import the library\n",
    "import pandas as pd\n",
    "import numpy as np\n",
    "from sklearn.preprocessing import Imputer\n",
    "\n",
    "# We have imported pandas, numpy and Imputer from sklearn.preprocessing.\n",
    "\n",
    "#----\n",
    "#Step 3 - Using Imputer to fill the nun values with the Mean\n"
   ]
  },
  {
   "cell_type": "code",
   "execution_count": 133,
   "metadata": {},
   "outputs": [
    {
     "data": {
      "text/html": [
       "<div>\n",
       "<style scoped>\n",
       "    .dataframe tbody tr th:only-of-type {\n",
       "        vertical-align: middle;\n",
       "    }\n",
       "\n",
       "    .dataframe tbody tr th {\n",
       "        vertical-align: top;\n",
       "    }\n",
       "\n",
       "    .dataframe thead th {\n",
       "        text-align: right;\n",
       "    }\n",
       "</style>\n",
       "<table border=\"1\" class=\"dataframe\">\n",
       "  <thead>\n",
       "    <tr style=\"text-align: right;\">\n",
       "      <th></th>\n",
       "      <th>dBP</th>\n",
       "      <th>drug</th>\n",
       "      <th>age</th>\n",
       "      <th>sex</th>\n",
       "    </tr>\n",
       "  </thead>\n",
       "  <tbody>\n",
       "    <tr>\n",
       "      <th>0</th>\n",
       "      <td>73.0</td>\n",
       "      <td>0</td>\n",
       "      <td>65.0</td>\n",
       "      <td>1</td>\n",
       "    </tr>\n",
       "    <tr>\n",
       "      <th>1</th>\n",
       "      <td>59.0</td>\n",
       "      <td>1</td>\n",
       "      <td>47.0</td>\n",
       "      <td>1</td>\n",
       "    </tr>\n",
       "    <tr>\n",
       "      <th>2</th>\n",
       "      <td>67.0</td>\n",
       "      <td>1</td>\n",
       "      <td>89.0</td>\n",
       "      <td>0</td>\n",
       "    </tr>\n",
       "  </tbody>\n",
       "</table>\n",
       "</div>"
      ],
      "text/plain": [
       "    dBP drug   age sex\n",
       "0  73.0    0  65.0   1\n",
       "1  59.0    1  47.0   1\n",
       "2  67.0    1  89.0   0"
      ]
     },
     "metadata": {},
     "output_type": "display_data"
    },
    {
     "data": {
      "text/html": [
       "<div>\n",
       "<style scoped>\n",
       "    .dataframe tbody tr th:only-of-type {\n",
       "        vertical-align: middle;\n",
       "    }\n",
       "\n",
       "    .dataframe tbody tr th {\n",
       "        vertical-align: top;\n",
       "    }\n",
       "\n",
       "    .dataframe thead th {\n",
       "        text-align: right;\n",
       "    }\n",
       "</style>\n",
       "<table border=\"1\" class=\"dataframe\">\n",
       "  <thead>\n",
       "    <tr style=\"text-align: right;\">\n",
       "      <th></th>\n",
       "      <th>dBP</th>\n",
       "      <th>Drug</th>\n",
       "      <th>Age</th>\n",
       "      <th>Sex</th>\n",
       "    </tr>\n",
       "  </thead>\n",
       "  <tbody>\n",
       "    <tr>\n",
       "      <th>0</th>\n",
       "      <td>73.0</td>\n",
       "      <td>0</td>\n",
       "      <td>65.0</td>\n",
       "      <td>1</td>\n",
       "    </tr>\n",
       "    <tr>\n",
       "      <th>1</th>\n",
       "      <td>59.0</td>\n",
       "      <td>1</td>\n",
       "      <td>47.0</td>\n",
       "      <td>1</td>\n",
       "    </tr>\n",
       "    <tr>\n",
       "      <th>2</th>\n",
       "      <td>67.0</td>\n",
       "      <td>1</td>\n",
       "      <td>89.0</td>\n",
       "      <td>0</td>\n",
       "    </tr>\n",
       "  </tbody>\n",
       "</table>\n",
       "</div>"
      ],
      "text/plain": [
       "    dBP Drug   Age Sex\n",
       "0  73.0    0  65.0   1\n",
       "1  59.0    1  47.0   1\n",
       "2  67.0    1  89.0   0"
      ]
     },
     "metadata": {},
     "output_type": "display_data"
    }
   ],
   "source": [
    "dataset = pd.read_excel(\"./HowardData.xls\", sheet_name=0)\n",
    "display(dataset.head(n=3))\n",
    "\n",
    "#\n",
    "dataset.columns = [\"dBP\", \"Drug\", \"Age\", \"Sex\"]\n",
    "display(dataset.head(n=3))"
   ]
  },
  {
   "cell_type": "code",
   "execution_count": 135,
   "metadata": {},
   "outputs": [
    {
     "data": {
      "text/plain": [
       "dBP     float64\n",
       "Drug     object\n",
       "Age     float64\n",
       "Sex      object\n",
       "dtype: object"
      ]
     },
     "execution_count": 135,
     "metadata": {},
     "output_type": "execute_result"
    }
   ],
   "source": [
    "dataset.dtypes"
   ]
  },
  {
   "cell_type": "code",
   "execution_count": null,
   "metadata": {},
   "outputs": [],
   "source": []
  },
  {
   "cell_type": "code",
   "execution_count": 134,
   "metadata": {},
   "outputs": [
    {
     "ename": "ValueError",
     "evalue": "Cannot use mean strategy with non-numeric data:\ncould not convert string to float: ''",
     "output_type": "error",
     "traceback": [
      "\u001b[1;31m---------------------------------------------------------------------------\u001b[0m",
      "\u001b[1;31mValueError\u001b[0m                                Traceback (most recent call last)",
      "\u001b[1;32m~\\AppData\\Local\\Temp/ipykernel_107696/2301735809.py\u001b[0m in \u001b[0;36m<module>\u001b[1;34m\u001b[0m\n\u001b[0;32m      5\u001b[0m \u001b[0mmiss_mean_imputer\u001b[0m \u001b[1;33m=\u001b[0m \u001b[0mSimpleImputer\u001b[0m\u001b[1;33m(\u001b[0m\u001b[0mmissing_values\u001b[0m\u001b[1;33m=\u001b[0m\u001b[0mnp\u001b[0m\u001b[1;33m.\u001b[0m\u001b[0mnan\u001b[0m\u001b[1;33m,\u001b[0m \u001b[0mstrategy\u001b[0m\u001b[1;33m=\u001b[0m\u001b[1;34m'mean'\u001b[0m\u001b[1;33m)\u001b[0m\u001b[1;33m\u001b[0m\u001b[1;33m\u001b[0m\u001b[0m\n\u001b[0;32m      6\u001b[0m \u001b[1;33m\u001b[0m\u001b[0m\n\u001b[1;32m----> 7\u001b[1;33m \u001b[0mmiss_mean_imputer\u001b[0m \u001b[1;33m=\u001b[0m \u001b[0mmiss_mean_imputer\u001b[0m\u001b[1;33m.\u001b[0m\u001b[0mfit\u001b[0m\u001b[1;33m(\u001b[0m\u001b[0mdataset\u001b[0m\u001b[1;33m)\u001b[0m\u001b[1;33m\u001b[0m\u001b[1;33m\u001b[0m\u001b[0m\n\u001b[0m\u001b[0;32m      8\u001b[0m \u001b[1;33m\u001b[0m\u001b[0m\n\u001b[0;32m      9\u001b[0m \u001b[0mimputed_df\u001b[0m \u001b[1;33m=\u001b[0m \u001b[0mmiss_mean_imputer\u001b[0m\u001b[1;33m.\u001b[0m\u001b[0mtransform\u001b[0m\u001b[1;33m(\u001b[0m\u001b[0mdataset\u001b[0m\u001b[1;33m.\u001b[0m\u001b[0mvalues\u001b[0m\u001b[1;33m)\u001b[0m\u001b[1;33m\u001b[0m\u001b[1;33m\u001b[0m\u001b[0m\n",
      "\u001b[1;32mC:\\ProgramData\\Anaconda3\\envs\\thesis_tensorflow_cpu_gpu_2_2_0_9_21_2020\\lib\\site-packages\\sklearn\\impute\\_base.py\u001b[0m in \u001b[0;36mfit\u001b[1;34m(self, X, y)\u001b[0m\n\u001b[0;32m    317\u001b[0m             \u001b[0mFitted\u001b[0m \u001b[0mestimator\u001b[0m\u001b[1;33m.\u001b[0m\u001b[1;33m\u001b[0m\u001b[1;33m\u001b[0m\u001b[0m\n\u001b[0;32m    318\u001b[0m         \"\"\"\n\u001b[1;32m--> 319\u001b[1;33m         \u001b[0mX\u001b[0m \u001b[1;33m=\u001b[0m \u001b[0mself\u001b[0m\u001b[1;33m.\u001b[0m\u001b[0m_validate_input\u001b[0m\u001b[1;33m(\u001b[0m\u001b[0mX\u001b[0m\u001b[1;33m,\u001b[0m \u001b[0min_fit\u001b[0m\u001b[1;33m=\u001b[0m\u001b[1;32mTrue\u001b[0m\u001b[1;33m)\u001b[0m\u001b[1;33m\u001b[0m\u001b[1;33m\u001b[0m\u001b[0m\n\u001b[0m\u001b[0;32m    320\u001b[0m \u001b[1;33m\u001b[0m\u001b[0m\n\u001b[0;32m    321\u001b[0m         \u001b[1;31m# default fill_value is 0 for numerical input and \"missing_value\"\u001b[0m\u001b[1;33m\u001b[0m\u001b[1;33m\u001b[0m\u001b[1;33m\u001b[0m\u001b[0m\n",
      "\u001b[1;32mC:\\ProgramData\\Anaconda3\\envs\\thesis_tensorflow_cpu_gpu_2_2_0_9_21_2020\\lib\\site-packages\\sklearn\\impute\\_base.py\u001b[0m in \u001b[0;36m_validate_input\u001b[1;34m(self, X, in_fit)\u001b[0m\n\u001b[0;32m    283\u001b[0m                     )\n\u001b[0;32m    284\u001b[0m                 )\n\u001b[1;32m--> 285\u001b[1;33m                 \u001b[1;32mraise\u001b[0m \u001b[0mnew_ve\u001b[0m \u001b[1;32mfrom\u001b[0m \u001b[1;32mNone\u001b[0m\u001b[1;33m\u001b[0m\u001b[1;33m\u001b[0m\u001b[0m\n\u001b[0m\u001b[0;32m    286\u001b[0m             \u001b[1;32melse\u001b[0m\u001b[1;33m:\u001b[0m\u001b[1;33m\u001b[0m\u001b[1;33m\u001b[0m\u001b[0m\n\u001b[0;32m    287\u001b[0m                 \u001b[1;32mraise\u001b[0m \u001b[0mve\u001b[0m\u001b[1;33m\u001b[0m\u001b[1;33m\u001b[0m\u001b[0m\n",
      "\u001b[1;31mValueError\u001b[0m: Cannot use mean strategy with non-numeric data:\ncould not convert string to float: ''"
     ]
    }
   ],
   "source": [
    "# https://www.projectpro.io/recipes/impute-missing-values-with-means-in-python\n",
    "# https://scikit-learn.org/stable/modules/impute.html\n",
    "# \n",
    "from sklearn.impute import SimpleImputer\n",
    "miss_mean_imputer = SimpleImputer(missing_values=np.nan, strategy='mean')\n",
    "\n",
    "miss_mean_imputer = miss_mean_imputer.fit(dataset)\n",
    "\n",
    "imputed_df = miss_mean_imputer.transform(dataset.values)\n",
    "\n",
    "print(imputed_df)\n",
    "\n",
    "type(imputed_df)"
   ]
  },
  {
   "cell_type": "code",
   "execution_count": 1,
   "metadata": {},
   "outputs": [],
   "source": [
    "## Cubic spline \n",
    "#https://pythonnumericalmethods.berkeley.edu/notebooks/chapter17.03-Cubic-Spline-Interpolation.html"
   ]
  },
  {
   "cell_type": "code",
   "execution_count": null,
   "metadata": {},
   "outputs": [],
   "source": [
    "# from scipy.interpolate import CubicSpline\n",
    "\n",
    "import matplotlib.pyplot as plt\n",
    "\n",
    "x = np.arange(10)\n",
    "\n",
    "y = np.sin(x)\n",
    "\n",
    "cs = CubicSpline(x, y)"
   ]
  },
  {
   "cell_type": "code",
   "execution_count": null,
   "metadata": {},
   "outputs": [],
   "source": [
    "# https://www.analyticsvidhya.com/blog/2016/01/ridge-lasso-regression-python-complete-tutorial/\n",
    "\n",
    "#Lasso Regression\n",
    "\n",
    "# make a prediction with a lasso regression model on the dataset\n",
    "from pandas import read_csv\n",
    "from sklearn.linear_model import Lasso\n",
    "# load the dataset\n",
    "url = 'https://raw.githubusercontent.com/jbrownlee/Datasets/master/housing.csv'\n",
    "dataframe = read_csv(url, header=None)\n",
    "data = dataframe.values\n",
    "X, y = data[:, :-1], data[:, -1]\n",
    "# define model\n",
    "model = Lasso(alpha=1.0)\n",
    "# fit model\n",
    "model.fit(X, y)\n",
    "# define new data\n",
    "row = [0.00632,18.00,2.310,0,0.5380,6.5750,65.20,4.0900,1,296.0,15.30,396.90,4.98]\n",
    "# make a prediction\n",
    "yhat = model.predict([row])\n",
    "# summarize prediction\n",
    "print('Predicted: %.3f' % yhat)"
   ]
  },
  {
   "cell_type": "code",
   "execution_count": null,
   "metadata": {},
   "outputs": [],
   "source": [
    "from sklearn import datasets\n",
    "from sklearn.linear_model import Lasso\n",
    "from sklearn.model_selection import train_test_split\n",
    "#\n",
    "# Load the Boston Data Set\n",
    "#\n",
    "bh = datasets.load_boston()\n",
    "X = bh.data\n",
    "y = bh.target\n",
    "#\n",
    "# Create training and test split\n",
    "#\n",
    "X_train, X_test, y_train, y_test = train_test_split(X, y, test_size=0.3, random_state=42)\n",
    "#\n",
    "# Create an instance of Lasso Regression implementation\n",
    "#\n",
    "lasso = Lasso(alpha=1.0)\n",
    "#\n",
    "# Fit the Lasso model\n",
    "#\n",
    "lasso.fit(X_train, y_train)\n",
    "#\n",
    "# Create the model score\n",
    "#\n",
    "lasso.score(X_test, y_test), lasso.score(X_train, y_train)"
   ]
  },
  {
   "cell_type": "markdown",
   "metadata": {},
   "source": [
    "## Types of Regression Analysis in Machine Learning\n",
    "\n",
    "https://www.projectpro.io/article/types-of-regression-analysis-in-machine-learning/410\n",
    "\n"
   ]
  }
 ],
 "metadata": {
  "anaconda-cloud": {},
  "kernelspec": {
   "display_name": "Python 3 (ipykernel)",
   "language": "python",
   "name": "python3"
  },
  "language_info": {
   "codemirror_mode": {
    "name": "ipython",
    "version": 3
   },
   "file_extension": ".py",
   "mimetype": "text/x-python",
   "name": "python",
   "nbconvert_exporter": "python",
   "pygments_lexer": "ipython3",
   "version": "3.8.12"
  }
 },
 "nbformat": 4,
 "nbformat_minor": 4
}
